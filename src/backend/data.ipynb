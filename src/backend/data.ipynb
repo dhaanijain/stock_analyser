{
 "cells": [
  {
   "cell_type": "code",
   "execution_count": 21,
   "id": "fd82644b",
   "metadata": {},
   "outputs": [],
   "source": [
    "from data_analysis import data_analysis\n",
    "from data_analysis import plot_area_chart\n",
    "from data_analysis import plot_sentiment_heatmap_plotly\n",
    "from data_analysis import plot_gradient_sentiment_overlay\n",
    "from data_analysis import plot_interactive\n",
    "from data_analysis import plot_sentiment_spikes\n",
    "from data_handeling import fetch_prices\n",
    "# from data_analysis import price_analysis\n",
    "# from data_processing import one_hot_encode_sentiment\n",
    "\n",
    "from IPython.display import display\n",
    "import sqlite3\n",
    "import pandas as pd\n",
    "\n",
    "ticker = \"AAPL\"\n",
    "start_date = \"2025-05-12\"\n",
    "end_date = \"2025-06-11\"\n",
    "db_path = '../backend/stock_data.db'  # Adjust path if needed\n",
    "# conn = sqlite3.connect(db_path)\n",
    "# query = '''\n",
    "#     SELECT * FROM stock_analyzer.stock_prices WHERE ticker = ? AND date BETWEEN ? AND ? ORDER BY date\n",
    "# '''\n",
    "# df_price = pd.read_sql_query(query, conn, params=(ticker, start_date, end_date))\n",
    "# conn.close()\n",
    "# # Usage in a notebook cell:\n",
    "\n",
    "df_price = fetch_prices(ticker, start_date, end_date)\n",
    "\n",
    "df_price.sort_values(by='date', inplace=True, ascending=True)\n",
    "df_price = df_price.loc[df_price['sentiment_score'].notna()]\n",
    "# fig = plot_sentiment_heatmap_plotly(df_price)\n",
    "\n",
    "# fig = plot_area_chart(df_price)\n",
    "\n",
    "# fig = plot_gradient_sentiment_overlay(df_price)\n",
    "\n",
    "# fig = plot_interactive(df_price)\n",
    "\n",
    "# fig.show()\n",
    "\n",
    "# fig = data_analysis()\n",
    "# return fig\n",
    "# fig.savefig(f\"data_analysis_{ticker}_{start_date}_{end_date}.png\")\n"
   ]
  },
  {
   "cell_type": "code",
   "execution_count": 2,
   "id": "8ce2157c",
   "metadata": {},
   "outputs": [
    {
     "data": {
      "application/vnd.plotly.v1+json": {
       "config": {
        "plotlyServerURL": "https://plot.ly"
       },
       "data": [
        {
         "coloraxis": "coloraxis",
         "hovertemplate": "day: %{x}<br>month: %{y}<br>Sentiment Score: %{z}<extra></extra>",
         "name": "0",
         "type": "heatmap",
         "x": {
          "bdata": "AgAAAAMAAAAEAAAABQAAAAYAAAAJAAAACgAAAAwAAAAPAAAAFAAAABYAAAAXAAAAGwAAABwAAAAdAAAAHgAAAA==",
          "dtype": "i4"
         },
         "xaxis": "x",
         "y": [
          "May",
          "June"
         ],
         "yaxis": "y",
         "z": {
          "bdata": "AAAAAAAA+H8AAAAAAAD4fwAAAAAAAPh/AAAAAAAA+H8AAAAAAAD4fwAAAAAAAPh/AAAAAAAA+H86I0p7gy/cPwAAAAAAAAAAAAAAAAAAAAAAAAAAAAAAANCzWfW52sC/sajOdcl+uD/QCmtQIUSPv1zo4LhBwcY/6iYxCKwcqr8T8kHPZtXUP8DctYR80IO/HVpkO99Pvb99PzVeuknEvyNseHqlLMs/qhVEaLVehz9XpQcYcKmdPwAAAAAAAPh/AAAAAAAA+H8AAAAAAAD4fwAAAAAAAPh/AAAAAAAA+H8AAAAAAAD4fwAAAAAAAPh/AAAAAAAA+H8AAAAAAAD4fw==",
          "dtype": "f8",
          "shape": "2, 16"
         }
        }
       ],
       "layout": {
        "coloraxis": {
         "colorbar": {
          "title": {
           "text": "Sentiment Score"
          }
         },
         "colorscale": [
          [
           0,
           "rgb(165,0,38)"
          ],
          [
           0.1,
           "rgb(215,48,39)"
          ],
          [
           0.2,
           "rgb(244,109,67)"
          ],
          [
           0.3,
           "rgb(253,174,97)"
          ],
          [
           0.4,
           "rgb(254,224,139)"
          ],
          [
           0.5,
           "rgb(255,255,191)"
          ],
          [
           0.6,
           "rgb(217,239,139)"
          ],
          [
           0.7,
           "rgb(166,217,106)"
          ],
          [
           0.8,
           "rgb(102,189,99)"
          ],
          [
           0.9,
           "rgb(26,152,80)"
          ],
          [
           1,
           "rgb(0,104,55)"
          ]
         ]
        },
        "template": {
         "data": {
          "bar": [
           {
            "error_x": {
             "color": "#2a3f5f"
            },
            "error_y": {
             "color": "#2a3f5f"
            },
            "marker": {
             "line": {
              "color": "#E5ECF6",
              "width": 0.5
             },
             "pattern": {
              "fillmode": "overlay",
              "size": 10,
              "solidity": 0.2
             }
            },
            "type": "bar"
           }
          ],
          "barpolar": [
           {
            "marker": {
             "line": {
              "color": "#E5ECF6",
              "width": 0.5
             },
             "pattern": {
              "fillmode": "overlay",
              "size": 10,
              "solidity": 0.2
             }
            },
            "type": "barpolar"
           }
          ],
          "carpet": [
           {
            "aaxis": {
             "endlinecolor": "#2a3f5f",
             "gridcolor": "white",
             "linecolor": "white",
             "minorgridcolor": "white",
             "startlinecolor": "#2a3f5f"
            },
            "baxis": {
             "endlinecolor": "#2a3f5f",
             "gridcolor": "white",
             "linecolor": "white",
             "minorgridcolor": "white",
             "startlinecolor": "#2a3f5f"
            },
            "type": "carpet"
           }
          ],
          "choropleth": [
           {
            "colorbar": {
             "outlinewidth": 0,
             "ticks": ""
            },
            "type": "choropleth"
           }
          ],
          "contour": [
           {
            "colorbar": {
             "outlinewidth": 0,
             "ticks": ""
            },
            "colorscale": [
             [
              0,
              "#0d0887"
             ],
             [
              0.1111111111111111,
              "#46039f"
             ],
             [
              0.2222222222222222,
              "#7201a8"
             ],
             [
              0.3333333333333333,
              "#9c179e"
             ],
             [
              0.4444444444444444,
              "#bd3786"
             ],
             [
              0.5555555555555556,
              "#d8576b"
             ],
             [
              0.6666666666666666,
              "#ed7953"
             ],
             [
              0.7777777777777778,
              "#fb9f3a"
             ],
             [
              0.8888888888888888,
              "#fdca26"
             ],
             [
              1,
              "#f0f921"
             ]
            ],
            "type": "contour"
           }
          ],
          "contourcarpet": [
           {
            "colorbar": {
             "outlinewidth": 0,
             "ticks": ""
            },
            "type": "contourcarpet"
           }
          ],
          "heatmap": [
           {
            "colorbar": {
             "outlinewidth": 0,
             "ticks": ""
            },
            "colorscale": [
             [
              0,
              "#0d0887"
             ],
             [
              0.1111111111111111,
              "#46039f"
             ],
             [
              0.2222222222222222,
              "#7201a8"
             ],
             [
              0.3333333333333333,
              "#9c179e"
             ],
             [
              0.4444444444444444,
              "#bd3786"
             ],
             [
              0.5555555555555556,
              "#d8576b"
             ],
             [
              0.6666666666666666,
              "#ed7953"
             ],
             [
              0.7777777777777778,
              "#fb9f3a"
             ],
             [
              0.8888888888888888,
              "#fdca26"
             ],
             [
              1,
              "#f0f921"
             ]
            ],
            "type": "heatmap"
           }
          ],
          "histogram": [
           {
            "marker": {
             "pattern": {
              "fillmode": "overlay",
              "size": 10,
              "solidity": 0.2
             }
            },
            "type": "histogram"
           }
          ],
          "histogram2d": [
           {
            "colorbar": {
             "outlinewidth": 0,
             "ticks": ""
            },
            "colorscale": [
             [
              0,
              "#0d0887"
             ],
             [
              0.1111111111111111,
              "#46039f"
             ],
             [
              0.2222222222222222,
              "#7201a8"
             ],
             [
              0.3333333333333333,
              "#9c179e"
             ],
             [
              0.4444444444444444,
              "#bd3786"
             ],
             [
              0.5555555555555556,
              "#d8576b"
             ],
             [
              0.6666666666666666,
              "#ed7953"
             ],
             [
              0.7777777777777778,
              "#fb9f3a"
             ],
             [
              0.8888888888888888,
              "#fdca26"
             ],
             [
              1,
              "#f0f921"
             ]
            ],
            "type": "histogram2d"
           }
          ],
          "histogram2dcontour": [
           {
            "colorbar": {
             "outlinewidth": 0,
             "ticks": ""
            },
            "colorscale": [
             [
              0,
              "#0d0887"
             ],
             [
              0.1111111111111111,
              "#46039f"
             ],
             [
              0.2222222222222222,
              "#7201a8"
             ],
             [
              0.3333333333333333,
              "#9c179e"
             ],
             [
              0.4444444444444444,
              "#bd3786"
             ],
             [
              0.5555555555555556,
              "#d8576b"
             ],
             [
              0.6666666666666666,
              "#ed7953"
             ],
             [
              0.7777777777777778,
              "#fb9f3a"
             ],
             [
              0.8888888888888888,
              "#fdca26"
             ],
             [
              1,
              "#f0f921"
             ]
            ],
            "type": "histogram2dcontour"
           }
          ],
          "mesh3d": [
           {
            "colorbar": {
             "outlinewidth": 0,
             "ticks": ""
            },
            "type": "mesh3d"
           }
          ],
          "parcoords": [
           {
            "line": {
             "colorbar": {
              "outlinewidth": 0,
              "ticks": ""
             }
            },
            "type": "parcoords"
           }
          ],
          "pie": [
           {
            "automargin": true,
            "type": "pie"
           }
          ],
          "scatter": [
           {
            "fillpattern": {
             "fillmode": "overlay",
             "size": 10,
             "solidity": 0.2
            },
            "type": "scatter"
           }
          ],
          "scatter3d": [
           {
            "line": {
             "colorbar": {
              "outlinewidth": 0,
              "ticks": ""
             }
            },
            "marker": {
             "colorbar": {
              "outlinewidth": 0,
              "ticks": ""
             }
            },
            "type": "scatter3d"
           }
          ],
          "scattercarpet": [
           {
            "marker": {
             "colorbar": {
              "outlinewidth": 0,
              "ticks": ""
             }
            },
            "type": "scattercarpet"
           }
          ],
          "scattergeo": [
           {
            "marker": {
             "colorbar": {
              "outlinewidth": 0,
              "ticks": ""
             }
            },
            "type": "scattergeo"
           }
          ],
          "scattergl": [
           {
            "marker": {
             "colorbar": {
              "outlinewidth": 0,
              "ticks": ""
             }
            },
            "type": "scattergl"
           }
          ],
          "scattermap": [
           {
            "marker": {
             "colorbar": {
              "outlinewidth": 0,
              "ticks": ""
             }
            },
            "type": "scattermap"
           }
          ],
          "scattermapbox": [
           {
            "marker": {
             "colorbar": {
              "outlinewidth": 0,
              "ticks": ""
             }
            },
            "type": "scattermapbox"
           }
          ],
          "scatterpolar": [
           {
            "marker": {
             "colorbar": {
              "outlinewidth": 0,
              "ticks": ""
             }
            },
            "type": "scatterpolar"
           }
          ],
          "scatterpolargl": [
           {
            "marker": {
             "colorbar": {
              "outlinewidth": 0,
              "ticks": ""
             }
            },
            "type": "scatterpolargl"
           }
          ],
          "scatterternary": [
           {
            "marker": {
             "colorbar": {
              "outlinewidth": 0,
              "ticks": ""
             }
            },
            "type": "scatterternary"
           }
          ],
          "surface": [
           {
            "colorbar": {
             "outlinewidth": 0,
             "ticks": ""
            },
            "colorscale": [
             [
              0,
              "#0d0887"
             ],
             [
              0.1111111111111111,
              "#46039f"
             ],
             [
              0.2222222222222222,
              "#7201a8"
             ],
             [
              0.3333333333333333,
              "#9c179e"
             ],
             [
              0.4444444444444444,
              "#bd3786"
             ],
             [
              0.5555555555555556,
              "#d8576b"
             ],
             [
              0.6666666666666666,
              "#ed7953"
             ],
             [
              0.7777777777777778,
              "#fb9f3a"
             ],
             [
              0.8888888888888888,
              "#fdca26"
             ],
             [
              1,
              "#f0f921"
             ]
            ],
            "type": "surface"
           }
          ],
          "table": [
           {
            "cells": {
             "fill": {
              "color": "#EBF0F8"
             },
             "line": {
              "color": "white"
             }
            },
            "header": {
             "fill": {
              "color": "#C8D4E3"
             },
             "line": {
              "color": "white"
             }
            },
            "type": "table"
           }
          ]
         },
         "layout": {
          "annotationdefaults": {
           "arrowcolor": "#2a3f5f",
           "arrowhead": 0,
           "arrowwidth": 1
          },
          "autotypenumbers": "strict",
          "coloraxis": {
           "colorbar": {
            "outlinewidth": 0,
            "ticks": ""
           }
          },
          "colorscale": {
           "diverging": [
            [
             0,
             "#8e0152"
            ],
            [
             0.1,
             "#c51b7d"
            ],
            [
             0.2,
             "#de77ae"
            ],
            [
             0.3,
             "#f1b6da"
            ],
            [
             0.4,
             "#fde0ef"
            ],
            [
             0.5,
             "#f7f7f7"
            ],
            [
             0.6,
             "#e6f5d0"
            ],
            [
             0.7,
             "#b8e186"
            ],
            [
             0.8,
             "#7fbc41"
            ],
            [
             0.9,
             "#4d9221"
            ],
            [
             1,
             "#276419"
            ]
           ],
           "sequential": [
            [
             0,
             "#0d0887"
            ],
            [
             0.1111111111111111,
             "#46039f"
            ],
            [
             0.2222222222222222,
             "#7201a8"
            ],
            [
             0.3333333333333333,
             "#9c179e"
            ],
            [
             0.4444444444444444,
             "#bd3786"
            ],
            [
             0.5555555555555556,
             "#d8576b"
            ],
            [
             0.6666666666666666,
             "#ed7953"
            ],
            [
             0.7777777777777778,
             "#fb9f3a"
            ],
            [
             0.8888888888888888,
             "#fdca26"
            ],
            [
             1,
             "#f0f921"
            ]
           ],
           "sequentialminus": [
            [
             0,
             "#0d0887"
            ],
            [
             0.1111111111111111,
             "#46039f"
            ],
            [
             0.2222222222222222,
             "#7201a8"
            ],
            [
             0.3333333333333333,
             "#9c179e"
            ],
            [
             0.4444444444444444,
             "#bd3786"
            ],
            [
             0.5555555555555556,
             "#d8576b"
            ],
            [
             0.6666666666666666,
             "#ed7953"
            ],
            [
             0.7777777777777778,
             "#fb9f3a"
            ],
            [
             0.8888888888888888,
             "#fdca26"
            ],
            [
             1,
             "#f0f921"
            ]
           ]
          },
          "colorway": [
           "#636efa",
           "#EF553B",
           "#00cc96",
           "#ab63fa",
           "#FFA15A",
           "#19d3f3",
           "#FF6692",
           "#B6E880",
           "#FF97FF",
           "#FECB52"
          ],
          "font": {
           "color": "#2a3f5f"
          },
          "geo": {
           "bgcolor": "white",
           "lakecolor": "white",
           "landcolor": "#E5ECF6",
           "showlakes": true,
           "showland": true,
           "subunitcolor": "white"
          },
          "hoverlabel": {
           "align": "left"
          },
          "hovermode": "closest",
          "mapbox": {
           "style": "light"
          },
          "paper_bgcolor": "white",
          "plot_bgcolor": "#E5ECF6",
          "polar": {
           "angularaxis": {
            "gridcolor": "white",
            "linecolor": "white",
            "ticks": ""
           },
           "bgcolor": "#E5ECF6",
           "radialaxis": {
            "gridcolor": "white",
            "linecolor": "white",
            "ticks": ""
           }
          },
          "scene": {
           "xaxis": {
            "backgroundcolor": "#E5ECF6",
            "gridcolor": "white",
            "gridwidth": 2,
            "linecolor": "white",
            "showbackground": true,
            "ticks": "",
            "zerolinecolor": "white"
           },
           "yaxis": {
            "backgroundcolor": "#E5ECF6",
            "gridcolor": "white",
            "gridwidth": 2,
            "linecolor": "white",
            "showbackground": true,
            "ticks": "",
            "zerolinecolor": "white"
           },
           "zaxis": {
            "backgroundcolor": "#E5ECF6",
            "gridcolor": "white",
            "gridwidth": 2,
            "linecolor": "white",
            "showbackground": true,
            "ticks": "",
            "zerolinecolor": "white"
           }
          },
          "shapedefaults": {
           "line": {
            "color": "#2a3f5f"
           }
          },
          "ternary": {
           "aaxis": {
            "gridcolor": "white",
            "linecolor": "white",
            "ticks": ""
           },
           "baxis": {
            "gridcolor": "white",
            "linecolor": "white",
            "ticks": ""
           },
           "bgcolor": "#E5ECF6",
           "caxis": {
            "gridcolor": "white",
            "linecolor": "white",
            "ticks": ""
           }
          },
          "title": {
           "x": 0.05
          },
          "xaxis": {
           "automargin": true,
           "gridcolor": "white",
           "linecolor": "white",
           "ticks": "",
           "title": {
            "standoff": 15
           },
           "zerolinecolor": "white",
           "zerolinewidth": 2
          },
          "yaxis": {
           "automargin": true,
           "gridcolor": "white",
           "linecolor": "white",
           "ticks": "",
           "title": {
            "standoff": 15
           },
           "zerolinecolor": "white",
           "zerolinewidth": 2
          }
         }
        },
        "title": {
         "text": "Sentiment Score Heatmap by Day"
        },
        "xaxis": {
         "anchor": "y",
         "domain": [
          0,
          1
         ],
         "title": {
          "text": "Day"
         }
        },
        "yaxis": {
         "anchor": "x",
         "autorange": "reversed",
         "domain": [
          0,
          1
         ],
         "title": {
          "text": "Month"
         }
        }
       }
      }
     },
     "metadata": {},
     "output_type": "display_data"
    }
   ],
   "source": [
    "fig = plot_sentiment_heatmap_plotly(df_price)"
   ]
  },
  {
   "cell_type": "code",
   "execution_count": 3,
   "id": "ff0c098a",
   "metadata": {},
   "outputs": [
    {
     "name": "stdout",
     "output_type": "stream",
     "text": [
      "running plot_area_chart (plotly version)\n"
     ]
    },
    {
     "data": {
      "application/vnd.plotly.v1+json": {
       "config": {
        "plotlyServerURL": "https://plot.ly"
       },
       "data": [
        {
         "connectgaps": false,
         "fill": "tozeroy",
         "fillcolor": "rgba(65, 105, 225, 0.15)",
         "hovertemplate": "Date: %{x}<br>Close: %{y:.2f}<extra></extra>",
         "line": {
          "color": "royalblue",
          "shape": "spline",
          "width": 3
         },
         "marker": {
          "color": "royalblue",
          "size": 6,
          "symbol": "circle"
         },
         "mode": "lines+markers",
         "name": "Close Price",
         "type": "scatter",
         "x": {
          "bdata": "AAAAAAAAAAAAAAAAAADwPwAAAAAAAABAAAAAAAAACEAAAAAAAAAQQAAAAAAAAPh/AAAAAAAA+H8AAAAAAAAUQAAAAAAAABhAAAAAAAAAHEAAAAAAAAAgQAAAAAAAACJAAAAAAAAA+H8AAAAAAAD4fwAAAAAAAPh/AAAAAAAAJEAAAAAAAAAmQAAAAAAAAChAAAAAAAAAKkAAAAAAAAD4fwAAAAAAAPh/AAAAAAAALEAAAAAAAAAuQAAAAAAAADBAAAAAAAAAMUAAAAAAAAAyQAAAAAAAAPh/AAAAAAAA+H8AAAAAAAAzQAAAAAAAADRA",
          "dtype": "f8"
         },
         "y": {
          "bdata": "AAAAoEdZakAAAACAwp1qQAAAAGCPimpAAAAAYGZuakAAAADgUWhqQAAAAAAAAPh/AAAAAAAA+H8AAADA9RhqQAAAACCF22lAAAAAQOFCaUAAAAAghStpQAAAAOCjaGhAAAAAAAAA+H8AAAAAAAD4fwAAAAAAAPh/AAAAYLgGaUAAAACgcA1pQAAAAGBm/mhAAAAAQDMbaUAAAAAAAAD4fwAAAAAAAPh/AAAAYGY2aUAAAADgo2hpQAAAAIA9WmlAAAAAACkUaUAAAACgcH1pQAAAAAAAAPh/AAAAAAAA+H8AAABgZi5pQAAAAKBwVWlA",
          "dtype": "f8"
         },
         "yaxis": "y"
        },
        {
         "connectgaps": false,
         "fill": "tozeroy",
         "fillcolor": "rgba(255, 165, 0, 0.15)",
         "hovertemplate": "Date: %{x}<br>Sentiment: %{y:.2f}<extra></extra>",
         "line": {
          "color": "orange",
          "dash": "dot",
          "shape": "spline",
          "width": 3
         },
         "marker": {
          "color": "orange",
          "size": 6,
          "symbol": "diamond"
         },
         "mode": "lines+markers",
         "name": "Sentiment Score",
         "type": "scatter",
         "x": {
          "bdata": "AAAAAAAAAAAAAAAAAADwPwAAAAAAAABAAAAAAAAACEAAAAAAAAAQQAAAAAAAAPh/AAAAAAAA+H8AAAAAAAAUQAAAAAAAABhAAAAAAAAAHEAAAAAAAAAgQAAAAAAAACJAAAAAAAAA+H8AAAAAAAD4fwAAAAAAAPh/AAAAAAAAJEAAAAAAAAAmQAAAAAAAAChAAAAAAAAAKkAAAAAAAAD4fwAAAAAAAPh/AAAAAAAALEAAAAAAAAAuQAAAAAAAADBAAAAAAAAAMUAAAAAAAAAyQAAAAAAAAPh/AAAAAAAA+H8AAAAAAAAzQAAAAAAAADRA",
          "dtype": "f8"
         },
         "y": {
          "bdata": "OiNKe4Mv3D8AAAAAAAD4fwAAAAAAAPh/AAAAAAAAAAAAAAAAAAD4fwAAAAAAAPh/AAAAAAAA+H8AAAAAAAD4fwAAAAAAAAAAAAAAAAAA+H8AAAAAAAAAANCzWfW52sC/AAAAAAAA+H8AAAAAAAD4fwAAAAAAAPh/sajOdcl+uD/QCmtQIUSPv1zo4LhBwcY/6iYxCKwcqr8AAAAAAAD4fwAAAAAAAPh/E/JBz2bV1D/A3LWEfNCDvx1aZDvfT72/fT81XrpJxL8jbHh6pSzLPwAAAAAAAPh/AAAAAAAA+H+qFURotV6HP1elBxhwqZ0/",
          "dtype": "f8"
         },
         "yaxis": "y2"
        }
       ],
       "layout": {
        "autosize": false,
        "height": 520,
        "legend": {
         "orientation": "h",
         "x": 1,
         "xanchor": "right",
         "y": 1.02,
         "yanchor": "bottom"
        },
        "margin": {
         "b": 80,
         "l": 60,
         "r": 60,
         "t": 80
        },
        "template": {
         "data": {
          "bar": [
           {
            "error_x": {
             "color": "#2a3f5f"
            },
            "error_y": {
             "color": "#2a3f5f"
            },
            "marker": {
             "line": {
              "color": "white",
              "width": 0.5
             },
             "pattern": {
              "fillmode": "overlay",
              "size": 10,
              "solidity": 0.2
             }
            },
            "type": "bar"
           }
          ],
          "barpolar": [
           {
            "marker": {
             "line": {
              "color": "white",
              "width": 0.5
             },
             "pattern": {
              "fillmode": "overlay",
              "size": 10,
              "solidity": 0.2
             }
            },
            "type": "barpolar"
           }
          ],
          "carpet": [
           {
            "aaxis": {
             "endlinecolor": "#2a3f5f",
             "gridcolor": "#C8D4E3",
             "linecolor": "#C8D4E3",
             "minorgridcolor": "#C8D4E3",
             "startlinecolor": "#2a3f5f"
            },
            "baxis": {
             "endlinecolor": "#2a3f5f",
             "gridcolor": "#C8D4E3",
             "linecolor": "#C8D4E3",
             "minorgridcolor": "#C8D4E3",
             "startlinecolor": "#2a3f5f"
            },
            "type": "carpet"
           }
          ],
          "choropleth": [
           {
            "colorbar": {
             "outlinewidth": 0,
             "ticks": ""
            },
            "type": "choropleth"
           }
          ],
          "contour": [
           {
            "colorbar": {
             "outlinewidth": 0,
             "ticks": ""
            },
            "colorscale": [
             [
              0,
              "#0d0887"
             ],
             [
              0.1111111111111111,
              "#46039f"
             ],
             [
              0.2222222222222222,
              "#7201a8"
             ],
             [
              0.3333333333333333,
              "#9c179e"
             ],
             [
              0.4444444444444444,
              "#bd3786"
             ],
             [
              0.5555555555555556,
              "#d8576b"
             ],
             [
              0.6666666666666666,
              "#ed7953"
             ],
             [
              0.7777777777777778,
              "#fb9f3a"
             ],
             [
              0.8888888888888888,
              "#fdca26"
             ],
             [
              1,
              "#f0f921"
             ]
            ],
            "type": "contour"
           }
          ],
          "contourcarpet": [
           {
            "colorbar": {
             "outlinewidth": 0,
             "ticks": ""
            },
            "type": "contourcarpet"
           }
          ],
          "heatmap": [
           {
            "colorbar": {
             "outlinewidth": 0,
             "ticks": ""
            },
            "colorscale": [
             [
              0,
              "#0d0887"
             ],
             [
              0.1111111111111111,
              "#46039f"
             ],
             [
              0.2222222222222222,
              "#7201a8"
             ],
             [
              0.3333333333333333,
              "#9c179e"
             ],
             [
              0.4444444444444444,
              "#bd3786"
             ],
             [
              0.5555555555555556,
              "#d8576b"
             ],
             [
              0.6666666666666666,
              "#ed7953"
             ],
             [
              0.7777777777777778,
              "#fb9f3a"
             ],
             [
              0.8888888888888888,
              "#fdca26"
             ],
             [
              1,
              "#f0f921"
             ]
            ],
            "type": "heatmap"
           }
          ],
          "histogram": [
           {
            "marker": {
             "pattern": {
              "fillmode": "overlay",
              "size": 10,
              "solidity": 0.2
             }
            },
            "type": "histogram"
           }
          ],
          "histogram2d": [
           {
            "colorbar": {
             "outlinewidth": 0,
             "ticks": ""
            },
            "colorscale": [
             [
              0,
              "#0d0887"
             ],
             [
              0.1111111111111111,
              "#46039f"
             ],
             [
              0.2222222222222222,
              "#7201a8"
             ],
             [
              0.3333333333333333,
              "#9c179e"
             ],
             [
              0.4444444444444444,
              "#bd3786"
             ],
             [
              0.5555555555555556,
              "#d8576b"
             ],
             [
              0.6666666666666666,
              "#ed7953"
             ],
             [
              0.7777777777777778,
              "#fb9f3a"
             ],
             [
              0.8888888888888888,
              "#fdca26"
             ],
             [
              1,
              "#f0f921"
             ]
            ],
            "type": "histogram2d"
           }
          ],
          "histogram2dcontour": [
           {
            "colorbar": {
             "outlinewidth": 0,
             "ticks": ""
            },
            "colorscale": [
             [
              0,
              "#0d0887"
             ],
             [
              0.1111111111111111,
              "#46039f"
             ],
             [
              0.2222222222222222,
              "#7201a8"
             ],
             [
              0.3333333333333333,
              "#9c179e"
             ],
             [
              0.4444444444444444,
              "#bd3786"
             ],
             [
              0.5555555555555556,
              "#d8576b"
             ],
             [
              0.6666666666666666,
              "#ed7953"
             ],
             [
              0.7777777777777778,
              "#fb9f3a"
             ],
             [
              0.8888888888888888,
              "#fdca26"
             ],
             [
              1,
              "#f0f921"
             ]
            ],
            "type": "histogram2dcontour"
           }
          ],
          "mesh3d": [
           {
            "colorbar": {
             "outlinewidth": 0,
             "ticks": ""
            },
            "type": "mesh3d"
           }
          ],
          "parcoords": [
           {
            "line": {
             "colorbar": {
              "outlinewidth": 0,
              "ticks": ""
             }
            },
            "type": "parcoords"
           }
          ],
          "pie": [
           {
            "automargin": true,
            "type": "pie"
           }
          ],
          "scatter": [
           {
            "fillpattern": {
             "fillmode": "overlay",
             "size": 10,
             "solidity": 0.2
            },
            "type": "scatter"
           }
          ],
          "scatter3d": [
           {
            "line": {
             "colorbar": {
              "outlinewidth": 0,
              "ticks": ""
             }
            },
            "marker": {
             "colorbar": {
              "outlinewidth": 0,
              "ticks": ""
             }
            },
            "type": "scatter3d"
           }
          ],
          "scattercarpet": [
           {
            "marker": {
             "colorbar": {
              "outlinewidth": 0,
              "ticks": ""
             }
            },
            "type": "scattercarpet"
           }
          ],
          "scattergeo": [
           {
            "marker": {
             "colorbar": {
              "outlinewidth": 0,
              "ticks": ""
             }
            },
            "type": "scattergeo"
           }
          ],
          "scattergl": [
           {
            "marker": {
             "colorbar": {
              "outlinewidth": 0,
              "ticks": ""
             }
            },
            "type": "scattergl"
           }
          ],
          "scattermap": [
           {
            "marker": {
             "colorbar": {
              "outlinewidth": 0,
              "ticks": ""
             }
            },
            "type": "scattermap"
           }
          ],
          "scattermapbox": [
           {
            "marker": {
             "colorbar": {
              "outlinewidth": 0,
              "ticks": ""
             }
            },
            "type": "scattermapbox"
           }
          ],
          "scatterpolar": [
           {
            "marker": {
             "colorbar": {
              "outlinewidth": 0,
              "ticks": ""
             }
            },
            "type": "scatterpolar"
           }
          ],
          "scatterpolargl": [
           {
            "marker": {
             "colorbar": {
              "outlinewidth": 0,
              "ticks": ""
             }
            },
            "type": "scatterpolargl"
           }
          ],
          "scatterternary": [
           {
            "marker": {
             "colorbar": {
              "outlinewidth": 0,
              "ticks": ""
             }
            },
            "type": "scatterternary"
           }
          ],
          "surface": [
           {
            "colorbar": {
             "outlinewidth": 0,
             "ticks": ""
            },
            "colorscale": [
             [
              0,
              "#0d0887"
             ],
             [
              0.1111111111111111,
              "#46039f"
             ],
             [
              0.2222222222222222,
              "#7201a8"
             ],
             [
              0.3333333333333333,
              "#9c179e"
             ],
             [
              0.4444444444444444,
              "#bd3786"
             ],
             [
              0.5555555555555556,
              "#d8576b"
             ],
             [
              0.6666666666666666,
              "#ed7953"
             ],
             [
              0.7777777777777778,
              "#fb9f3a"
             ],
             [
              0.8888888888888888,
              "#fdca26"
             ],
             [
              1,
              "#f0f921"
             ]
            ],
            "type": "surface"
           }
          ],
          "table": [
           {
            "cells": {
             "fill": {
              "color": "#EBF0F8"
             },
             "line": {
              "color": "white"
             }
            },
            "header": {
             "fill": {
              "color": "#C8D4E3"
             },
             "line": {
              "color": "white"
             }
            },
            "type": "table"
           }
          ]
         },
         "layout": {
          "annotationdefaults": {
           "arrowcolor": "#2a3f5f",
           "arrowhead": 0,
           "arrowwidth": 1
          },
          "autotypenumbers": "strict",
          "coloraxis": {
           "colorbar": {
            "outlinewidth": 0,
            "ticks": ""
           }
          },
          "colorscale": {
           "diverging": [
            [
             0,
             "#8e0152"
            ],
            [
             0.1,
             "#c51b7d"
            ],
            [
             0.2,
             "#de77ae"
            ],
            [
             0.3,
             "#f1b6da"
            ],
            [
             0.4,
             "#fde0ef"
            ],
            [
             0.5,
             "#f7f7f7"
            ],
            [
             0.6,
             "#e6f5d0"
            ],
            [
             0.7,
             "#b8e186"
            ],
            [
             0.8,
             "#7fbc41"
            ],
            [
             0.9,
             "#4d9221"
            ],
            [
             1,
             "#276419"
            ]
           ],
           "sequential": [
            [
             0,
             "#0d0887"
            ],
            [
             0.1111111111111111,
             "#46039f"
            ],
            [
             0.2222222222222222,
             "#7201a8"
            ],
            [
             0.3333333333333333,
             "#9c179e"
            ],
            [
             0.4444444444444444,
             "#bd3786"
            ],
            [
             0.5555555555555556,
             "#d8576b"
            ],
            [
             0.6666666666666666,
             "#ed7953"
            ],
            [
             0.7777777777777778,
             "#fb9f3a"
            ],
            [
             0.8888888888888888,
             "#fdca26"
            ],
            [
             1,
             "#f0f921"
            ]
           ],
           "sequentialminus": [
            [
             0,
             "#0d0887"
            ],
            [
             0.1111111111111111,
             "#46039f"
            ],
            [
             0.2222222222222222,
             "#7201a8"
            ],
            [
             0.3333333333333333,
             "#9c179e"
            ],
            [
             0.4444444444444444,
             "#bd3786"
            ],
            [
             0.5555555555555556,
             "#d8576b"
            ],
            [
             0.6666666666666666,
             "#ed7953"
            ],
            [
             0.7777777777777778,
             "#fb9f3a"
            ],
            [
             0.8888888888888888,
             "#fdca26"
            ],
            [
             1,
             "#f0f921"
            ]
           ]
          },
          "colorway": [
           "#636efa",
           "#EF553B",
           "#00cc96",
           "#ab63fa",
           "#FFA15A",
           "#19d3f3",
           "#FF6692",
           "#B6E880",
           "#FF97FF",
           "#FECB52"
          ],
          "font": {
           "color": "#2a3f5f"
          },
          "geo": {
           "bgcolor": "white",
           "lakecolor": "white",
           "landcolor": "white",
           "showlakes": true,
           "showland": true,
           "subunitcolor": "#C8D4E3"
          },
          "hoverlabel": {
           "align": "left"
          },
          "hovermode": "closest",
          "mapbox": {
           "style": "light"
          },
          "paper_bgcolor": "white",
          "plot_bgcolor": "white",
          "polar": {
           "angularaxis": {
            "gridcolor": "#EBF0F8",
            "linecolor": "#EBF0F8",
            "ticks": ""
           },
           "bgcolor": "white",
           "radialaxis": {
            "gridcolor": "#EBF0F8",
            "linecolor": "#EBF0F8",
            "ticks": ""
           }
          },
          "scene": {
           "xaxis": {
            "backgroundcolor": "white",
            "gridcolor": "#DFE8F3",
            "gridwidth": 2,
            "linecolor": "#EBF0F8",
            "showbackground": true,
            "ticks": "",
            "zerolinecolor": "#EBF0F8"
           },
           "yaxis": {
            "backgroundcolor": "white",
            "gridcolor": "#DFE8F3",
            "gridwidth": 2,
            "linecolor": "#EBF0F8",
            "showbackground": true,
            "ticks": "",
            "zerolinecolor": "#EBF0F8"
           },
           "zaxis": {
            "backgroundcolor": "white",
            "gridcolor": "#DFE8F3",
            "gridwidth": 2,
            "linecolor": "#EBF0F8",
            "showbackground": true,
            "ticks": "",
            "zerolinecolor": "#EBF0F8"
           }
          },
          "shapedefaults": {
           "line": {
            "color": "#2a3f5f"
           }
          },
          "ternary": {
           "aaxis": {
            "gridcolor": "#DFE8F3",
            "linecolor": "#A2B1C6",
            "ticks": ""
           },
           "baxis": {
            "gridcolor": "#DFE8F3",
            "linecolor": "#A2B1C6",
            "ticks": ""
           },
           "bgcolor": "white",
           "caxis": {
            "gridcolor": "#DFE8F3",
            "linecolor": "#A2B1C6",
            "ticks": ""
           }
          },
          "title": {
           "x": 0.05
          },
          "xaxis": {
           "automargin": true,
           "gridcolor": "#EBF0F8",
           "linecolor": "#EBF0F8",
           "ticks": "",
           "title": {
            "standoff": 15
           },
           "zerolinecolor": "#EBF0F8",
           "zerolinewidth": 2
          },
          "yaxis": {
           "automargin": true,
           "gridcolor": "#EBF0F8",
           "linecolor": "#EBF0F8",
           "ticks": "",
           "title": {
            "standoff": 15
           },
           "zerolinecolor": "#EBF0F8",
           "zerolinewidth": 2
          }
         }
        },
        "title": {
         "font": {
          "color": "black",
          "size": 22
         },
         "text": "Stock Price vs Sentiment Area Chart",
         "x": 0.5
        },
        "width": 950,
        "xaxis": {
         "gridcolor": "rgba(200,200,200,0.2)",
         "showgrid": true,
         "tickangle": 45,
         "title": {
          "text": "Date"
         }
        },
        "yaxis": {
         "gridcolor": "rgba(200,200,255,0.2)",
         "range": [
          175.74300384521484,
          null
         ],
         "showgrid": true,
         "side": "left",
         "title": {
          "text": "Close Price"
         }
        },
        "yaxis2": {
         "overlaying": "y",
         "range": [
          -0.17435,
          null
         ],
         "showgrid": false,
         "side": "right",
         "title": {
          "text": "Sentiment Score"
         }
        }
       }
      }
     },
     "metadata": {},
     "output_type": "display_data"
    }
   ],
   "source": [
    "fig = plot_area_chart(df_price)"
   ]
  },
  {
   "cell_type": "code",
   "execution_count": 20,
   "id": "547da401",
   "metadata": {},
   "outputs": [
    {
     "data": {
      "application/vnd.microsoft.datawrangler.viewer.v0+json": {
       "columns": [
        {
         "name": "index",
         "rawType": "int64",
         "type": "integer"
        },
        {
         "name": "row_id",
         "rawType": "int64",
         "type": "integer"
        },
        {
         "name": "date",
         "rawType": "object",
         "type": "unknown"
        },
        {
         "name": "Close",
         "rawType": "float64",
         "type": "float"
        },
        {
         "name": "High",
         "rawType": "float64",
         "type": "float"
        },
        {
         "name": "Low",
         "rawType": "float64",
         "type": "float"
        },
        {
         "name": "Open",
         "rawType": "float64",
         "type": "float"
        },
        {
         "name": "Volume",
         "rawType": "int64",
         "type": "integer"
        },
        {
         "name": "runtime",
         "rawType": "object",
         "type": "unknown"
        },
        {
         "name": "pct_change",
         "rawType": "object",
         "type": "unknown"
        },
        {
         "name": "time_stamp",
         "rawType": "object",
         "type": "unknown"
        },
        {
         "name": "stock_code",
         "rawType": "object",
         "type": "string"
        },
        {
         "name": "unique_key",
         "rawType": "object",
         "type": "string"
        },
        {
         "name": "sentiment_score",
         "rawType": "float64",
         "type": "float"
        },
        {
         "name": "article_count",
         "rawType": "float64",
         "type": "float"
        },
        {
         "name": "Date",
         "rawType": "object",
         "type": "unknown"
        }
       ],
       "ref": "70dd767b-cd67-4f05-9ae7-53934af11836",
       "rows": [
        [
         "6",
         "1",
         "2025-05-12",
         "210.7899932861328",
         "211.27000427246094",
         "206.75",
         "210.97000122070312",
         "63775800",
         null,
         null,
         "2025-05-12",
         "AAPL",
         "AAPL:2025-05-12",
         "0.4404",
         "1.0",
         "2025-05-12"
        ],
        [
         "7",
         "2",
         "2025-05-13",
         "212.92999267578125",
         "213.39999389648438",
         "209.0",
         "210.42999267578125",
         "51909300",
         null,
         null,
         "2025-05-13",
         "AAPL",
         "AAPL:2025-05-13",
         null,
         null,
         "2025-05-13"
        ],
        [
         "14",
         "3",
         "2025-05-14",
         "212.3300018310547",
         "213.94000244140625",
         "210.5800018310547",
         "212.42999267578125",
         "49325800",
         null,
         null,
         "2025-05-14",
         "AAPL",
         "AAPL:2025-05-14",
         null,
         null,
         "2025-05-14"
        ],
        [
         "3",
         "4",
         "2025-05-15",
         "211.4499969482422",
         "212.9600067138672",
         "209.5399932861328",
         "210.9499969482422",
         "45029500",
         null,
         null,
         "2025-05-15",
         "AAPL",
         "AAPL:2025-05-15",
         "0.0",
         "1.0",
         "2025-05-15"
        ],
        [
         "10",
         "5",
         "2025-05-16",
         "211.25999450683594",
         "212.57000732421875",
         "209.77000427246094",
         "212.36000061035156",
         "54737900",
         null,
         null,
         "2025-05-16",
         "AAPL",
         "AAPL:2025-05-16",
         null,
         null,
         "2025-05-16"
        ],
        [
         "16",
         "6",
         "2025-05-19",
         "208.77999877929688",
         "209.47999572753906",
         "204.25999450683594",
         "207.91000366210938",
         "46140500",
         null,
         null,
         "2025-05-19",
         "AAPL",
         "AAPL:2025-05-19",
         null,
         null,
         "2025-05-19"
        ],
        [
         "19",
         "7",
         "2025-05-20",
         "206.86000061035156",
         "208.47000122070312",
         "205.02999877929688",
         "207.6699981689453",
         "42496600",
         null,
         null,
         "2025-05-20",
         "AAPL",
         "AAPL:2025-05-20",
         null,
         null,
         "2025-05-20"
        ],
        [
         "4",
         "8",
         "2025-05-21",
         "202.08999633789062",
         "207.0399932861328",
         "200.7100067138672",
         "205.1699981689453",
         "59211800",
         null,
         null,
         "2025-05-21",
         "AAPL",
         "AAPL:2025-05-21",
         null,
         null,
         "2025-05-21"
        ],
        [
         "5",
         "9",
         "2025-05-22",
         "201.36000061035156",
         "202.75",
         "199.6999969482422",
         "200.7100067138672",
         "46742400",
         null,
         null,
         "2025-05-22",
         "AAPL",
         "AAPL:2025-05-22",
         "0.13396666666666665",
         "3.0",
         "2025-05-22"
        ],
        [
         "2",
         "10",
         "2025-05-23",
         "195.27000427246094",
         "197.6999969482422",
         "193.4600067138672",
         "193.6699981689453",
         "78432900",
         null,
         null,
         "2025-05-23",
         "AAPL",
         "AAPL:2025-05-23",
         "-0.037338461538461536",
         "13.0",
         "2025-05-23"
        ],
        [
         "8",
         "11",
         "2025-05-27",
         "200.2100067138672",
         "200.74000549316406",
         "197.42999267578125",
         "198.3000030517578",
         "56288500",
         null,
         null,
         "2025-05-27",
         "AAPL",
         "AAPL:2025-05-27",
         "-0.1021",
         "16.0",
         "2025-05-27"
        ],
        [
         "9",
         "12",
         "2025-05-28",
         "200.4199981689453",
         "202.72999572753906",
         "199.89999389648438",
         "200.58999633789062",
         "45339700",
         null,
         null,
         "2025-05-28",
         "AAPL",
         "AAPL:2025-05-28",
         "-0.04376250000000001",
         "8.0",
         "2025-05-28"
        ],
        [
         "12",
         "13",
         "2025-05-29",
         "199.9499969482422",
         "203.80999755859375",
         "198.50999450683594",
         "203.5800018310547",
         "51396800",
         null,
         null,
         "2025-05-29",
         "AAPL",
         "AAPL:2025-05-29",
         "0.08977777777777779",
         "9.0",
         "2025-05-29"
        ],
        [
         "13",
         "14",
         "2025-05-30",
         "200.85000610351562",
         "201.9600067138672",
         "196.77999877929688",
         "199.3699951171875",
         "70819900",
         null,
         null,
         "2025-05-30",
         "AAPL",
         "AAPL:2025-05-30",
         "0.05502857142857143",
         "7.0",
         "2025-05-30"
        ],
        [
         "11",
         "15",
         "2025-06-02",
         "201.6999969482422",
         "202.1300048828125",
         "200.1199951171875",
         "200.27999877929688",
         "35423300",
         null,
         null,
         "2025-06-02",
         "AAPL",
         "AAPL:2025-06-02",
         "0.26042",
         "5.0",
         "2025-06-02"
        ],
        [
         "15",
         "16",
         "2025-06-03",
         "203.27000427246094",
         "203.77000427246094",
         "200.9600067138672",
         "201.35000610351562",
         "46381600",
         null,
         null,
         "2025-06-03",
         "AAPL",
         "AAPL:2025-06-03",
         "-0.038633333333333325",
         "3.0",
         "2025-06-03"
        ],
        [
         "0",
         "17",
         "2025-06-04",
         "202.82000732421875",
         "206.24000549316406",
         "202.10000610351562",
         "202.91000366210938",
         "43604000",
         null,
         null,
         "2025-06-04",
         "AAPL",
         "AAPL:2025-06-04",
         "-0.15115",
         "8.0",
         "2025-06-04"
        ],
        [
         "20",
         "18",
         "2025-06-05",
         "200.6300048828125",
         "204.75",
         "200.14999389648438",
         "203.5",
         "55126100",
         null,
         null,
         "2025-06-05",
         "AAPL",
         "AAPL:2025-06-05",
         "-0.0652375",
         "8.0",
         "2025-06-05"
        ],
        [
         "1",
         "19",
         "2025-06-06",
         "203.9199981689453",
         "205.6999969482422",
         "202.0500030517578",
         "203.0",
         "46607700",
         null,
         null,
         "2025-06-06",
         "AAPL",
         "AAPL:2025-06-06",
         "0.221725",
         "4.0",
         "2025-06-06"
        ],
        [
         "17",
         "20",
         "2025-06-09",
         "201.4499969482422",
         "206.0",
         "200.02000427246094",
         "204.38999938964844",
         "72862600",
         null,
         null,
         "2025-06-09",
         "AAPL",
         "AAPL:2025-06-09",
         "0.014671428571428571",
         "7.0",
         "2025-06-09"
        ],
        [
         "18",
         "21",
         "2025-06-10",
         "202.6699981689453",
         "204.35000610351562",
         "200.57000732421875",
         "200.60000610351562",
         "54672600",
         null,
         null,
         "2025-06-10",
         "AAPL",
         "AAPL:2025-06-10",
         "-0.003657142857142858",
         "7.0",
         "2025-06-10"
        ]
       ],
       "shape": {
        "columns": 15,
        "rows": 21
       }
      },
      "text/html": [
       "<div>\n",
       "<style scoped>\n",
       "    .dataframe tbody tr th:only-of-type {\n",
       "        vertical-align: middle;\n",
       "    }\n",
       "\n",
       "    .dataframe tbody tr th {\n",
       "        vertical-align: top;\n",
       "    }\n",
       "\n",
       "    .dataframe thead th {\n",
       "        text-align: right;\n",
       "    }\n",
       "</style>\n",
       "<table border=\"1\" class=\"dataframe\">\n",
       "  <thead>\n",
       "    <tr style=\"text-align: right;\">\n",
       "      <th></th>\n",
       "      <th>row_id</th>\n",
       "      <th>date</th>\n",
       "      <th>Close</th>\n",
       "      <th>High</th>\n",
       "      <th>Low</th>\n",
       "      <th>Open</th>\n",
       "      <th>Volume</th>\n",
       "      <th>runtime</th>\n",
       "      <th>pct_change</th>\n",
       "      <th>time_stamp</th>\n",
       "      <th>stock_code</th>\n",
       "      <th>unique_key</th>\n",
       "      <th>sentiment_score</th>\n",
       "      <th>article_count</th>\n",
       "      <th>Date</th>\n",
       "    </tr>\n",
       "  </thead>\n",
       "  <tbody>\n",
       "    <tr>\n",
       "      <th>6</th>\n",
       "      <td>1</td>\n",
       "      <td>2025-05-12</td>\n",
       "      <td>210.789993</td>\n",
       "      <td>211.270004</td>\n",
       "      <td>206.750000</td>\n",
       "      <td>210.970001</td>\n",
       "      <td>63775800</td>\n",
       "      <td>None</td>\n",
       "      <td>None</td>\n",
       "      <td>2025-05-12</td>\n",
       "      <td>AAPL</td>\n",
       "      <td>AAPL:2025-05-12</td>\n",
       "      <td>0.440400</td>\n",
       "      <td>1.0</td>\n",
       "      <td>2025-05-12</td>\n",
       "    </tr>\n",
       "    <tr>\n",
       "      <th>7</th>\n",
       "      <td>2</td>\n",
       "      <td>2025-05-13</td>\n",
       "      <td>212.929993</td>\n",
       "      <td>213.399994</td>\n",
       "      <td>209.000000</td>\n",
       "      <td>210.429993</td>\n",
       "      <td>51909300</td>\n",
       "      <td>None</td>\n",
       "      <td>None</td>\n",
       "      <td>2025-05-13</td>\n",
       "      <td>AAPL</td>\n",
       "      <td>AAPL:2025-05-13</td>\n",
       "      <td>NaN</td>\n",
       "      <td>NaN</td>\n",
       "      <td>2025-05-13</td>\n",
       "    </tr>\n",
       "    <tr>\n",
       "      <th>14</th>\n",
       "      <td>3</td>\n",
       "      <td>2025-05-14</td>\n",
       "      <td>212.330002</td>\n",
       "      <td>213.940002</td>\n",
       "      <td>210.580002</td>\n",
       "      <td>212.429993</td>\n",
       "      <td>49325800</td>\n",
       "      <td>None</td>\n",
       "      <td>None</td>\n",
       "      <td>2025-05-14</td>\n",
       "      <td>AAPL</td>\n",
       "      <td>AAPL:2025-05-14</td>\n",
       "      <td>NaN</td>\n",
       "      <td>NaN</td>\n",
       "      <td>2025-05-14</td>\n",
       "    </tr>\n",
       "    <tr>\n",
       "      <th>3</th>\n",
       "      <td>4</td>\n",
       "      <td>2025-05-15</td>\n",
       "      <td>211.449997</td>\n",
       "      <td>212.960007</td>\n",
       "      <td>209.539993</td>\n",
       "      <td>210.949997</td>\n",
       "      <td>45029500</td>\n",
       "      <td>None</td>\n",
       "      <td>None</td>\n",
       "      <td>2025-05-15</td>\n",
       "      <td>AAPL</td>\n",
       "      <td>AAPL:2025-05-15</td>\n",
       "      <td>0.000000</td>\n",
       "      <td>1.0</td>\n",
       "      <td>2025-05-15</td>\n",
       "    </tr>\n",
       "    <tr>\n",
       "      <th>10</th>\n",
       "      <td>5</td>\n",
       "      <td>2025-05-16</td>\n",
       "      <td>211.259995</td>\n",
       "      <td>212.570007</td>\n",
       "      <td>209.770004</td>\n",
       "      <td>212.360001</td>\n",
       "      <td>54737900</td>\n",
       "      <td>None</td>\n",
       "      <td>None</td>\n",
       "      <td>2025-05-16</td>\n",
       "      <td>AAPL</td>\n",
       "      <td>AAPL:2025-05-16</td>\n",
       "      <td>NaN</td>\n",
       "      <td>NaN</td>\n",
       "      <td>2025-05-16</td>\n",
       "    </tr>\n",
       "    <tr>\n",
       "      <th>16</th>\n",
       "      <td>6</td>\n",
       "      <td>2025-05-19</td>\n",
       "      <td>208.779999</td>\n",
       "      <td>209.479996</td>\n",
       "      <td>204.259995</td>\n",
       "      <td>207.910004</td>\n",
       "      <td>46140500</td>\n",
       "      <td>None</td>\n",
       "      <td>None</td>\n",
       "      <td>2025-05-19</td>\n",
       "      <td>AAPL</td>\n",
       "      <td>AAPL:2025-05-19</td>\n",
       "      <td>NaN</td>\n",
       "      <td>NaN</td>\n",
       "      <td>2025-05-19</td>\n",
       "    </tr>\n",
       "    <tr>\n",
       "      <th>19</th>\n",
       "      <td>7</td>\n",
       "      <td>2025-05-20</td>\n",
       "      <td>206.860001</td>\n",
       "      <td>208.470001</td>\n",
       "      <td>205.029999</td>\n",
       "      <td>207.669998</td>\n",
       "      <td>42496600</td>\n",
       "      <td>None</td>\n",
       "      <td>None</td>\n",
       "      <td>2025-05-20</td>\n",
       "      <td>AAPL</td>\n",
       "      <td>AAPL:2025-05-20</td>\n",
       "      <td>NaN</td>\n",
       "      <td>NaN</td>\n",
       "      <td>2025-05-20</td>\n",
       "    </tr>\n",
       "    <tr>\n",
       "      <th>4</th>\n",
       "      <td>8</td>\n",
       "      <td>2025-05-21</td>\n",
       "      <td>202.089996</td>\n",
       "      <td>207.039993</td>\n",
       "      <td>200.710007</td>\n",
       "      <td>205.169998</td>\n",
       "      <td>59211800</td>\n",
       "      <td>None</td>\n",
       "      <td>None</td>\n",
       "      <td>2025-05-21</td>\n",
       "      <td>AAPL</td>\n",
       "      <td>AAPL:2025-05-21</td>\n",
       "      <td>NaN</td>\n",
       "      <td>NaN</td>\n",
       "      <td>2025-05-21</td>\n",
       "    </tr>\n",
       "    <tr>\n",
       "      <th>5</th>\n",
       "      <td>9</td>\n",
       "      <td>2025-05-22</td>\n",
       "      <td>201.360001</td>\n",
       "      <td>202.750000</td>\n",
       "      <td>199.699997</td>\n",
       "      <td>200.710007</td>\n",
       "      <td>46742400</td>\n",
       "      <td>None</td>\n",
       "      <td>None</td>\n",
       "      <td>2025-05-22</td>\n",
       "      <td>AAPL</td>\n",
       "      <td>AAPL:2025-05-22</td>\n",
       "      <td>0.133967</td>\n",
       "      <td>3.0</td>\n",
       "      <td>2025-05-22</td>\n",
       "    </tr>\n",
       "    <tr>\n",
       "      <th>2</th>\n",
       "      <td>10</td>\n",
       "      <td>2025-05-23</td>\n",
       "      <td>195.270004</td>\n",
       "      <td>197.699997</td>\n",
       "      <td>193.460007</td>\n",
       "      <td>193.669998</td>\n",
       "      <td>78432900</td>\n",
       "      <td>None</td>\n",
       "      <td>None</td>\n",
       "      <td>2025-05-23</td>\n",
       "      <td>AAPL</td>\n",
       "      <td>AAPL:2025-05-23</td>\n",
       "      <td>-0.037338</td>\n",
       "      <td>13.0</td>\n",
       "      <td>2025-05-23</td>\n",
       "    </tr>\n",
       "    <tr>\n",
       "      <th>8</th>\n",
       "      <td>11</td>\n",
       "      <td>2025-05-27</td>\n",
       "      <td>200.210007</td>\n",
       "      <td>200.740005</td>\n",
       "      <td>197.429993</td>\n",
       "      <td>198.300003</td>\n",
       "      <td>56288500</td>\n",
       "      <td>None</td>\n",
       "      <td>None</td>\n",
       "      <td>2025-05-27</td>\n",
       "      <td>AAPL</td>\n",
       "      <td>AAPL:2025-05-27</td>\n",
       "      <td>-0.102100</td>\n",
       "      <td>16.0</td>\n",
       "      <td>2025-05-27</td>\n",
       "    </tr>\n",
       "    <tr>\n",
       "      <th>9</th>\n",
       "      <td>12</td>\n",
       "      <td>2025-05-28</td>\n",
       "      <td>200.419998</td>\n",
       "      <td>202.729996</td>\n",
       "      <td>199.899994</td>\n",
       "      <td>200.589996</td>\n",
       "      <td>45339700</td>\n",
       "      <td>None</td>\n",
       "      <td>None</td>\n",
       "      <td>2025-05-28</td>\n",
       "      <td>AAPL</td>\n",
       "      <td>AAPL:2025-05-28</td>\n",
       "      <td>-0.043763</td>\n",
       "      <td>8.0</td>\n",
       "      <td>2025-05-28</td>\n",
       "    </tr>\n",
       "    <tr>\n",
       "      <th>12</th>\n",
       "      <td>13</td>\n",
       "      <td>2025-05-29</td>\n",
       "      <td>199.949997</td>\n",
       "      <td>203.809998</td>\n",
       "      <td>198.509995</td>\n",
       "      <td>203.580002</td>\n",
       "      <td>51396800</td>\n",
       "      <td>None</td>\n",
       "      <td>None</td>\n",
       "      <td>2025-05-29</td>\n",
       "      <td>AAPL</td>\n",
       "      <td>AAPL:2025-05-29</td>\n",
       "      <td>0.089778</td>\n",
       "      <td>9.0</td>\n",
       "      <td>2025-05-29</td>\n",
       "    </tr>\n",
       "    <tr>\n",
       "      <th>13</th>\n",
       "      <td>14</td>\n",
       "      <td>2025-05-30</td>\n",
       "      <td>200.850006</td>\n",
       "      <td>201.960007</td>\n",
       "      <td>196.779999</td>\n",
       "      <td>199.369995</td>\n",
       "      <td>70819900</td>\n",
       "      <td>None</td>\n",
       "      <td>None</td>\n",
       "      <td>2025-05-30</td>\n",
       "      <td>AAPL</td>\n",
       "      <td>AAPL:2025-05-30</td>\n",
       "      <td>0.055029</td>\n",
       "      <td>7.0</td>\n",
       "      <td>2025-05-30</td>\n",
       "    </tr>\n",
       "    <tr>\n",
       "      <th>11</th>\n",
       "      <td>15</td>\n",
       "      <td>2025-06-02</td>\n",
       "      <td>201.699997</td>\n",
       "      <td>202.130005</td>\n",
       "      <td>200.119995</td>\n",
       "      <td>200.279999</td>\n",
       "      <td>35423300</td>\n",
       "      <td>None</td>\n",
       "      <td>None</td>\n",
       "      <td>2025-06-02</td>\n",
       "      <td>AAPL</td>\n",
       "      <td>AAPL:2025-06-02</td>\n",
       "      <td>0.260420</td>\n",
       "      <td>5.0</td>\n",
       "      <td>2025-06-02</td>\n",
       "    </tr>\n",
       "    <tr>\n",
       "      <th>15</th>\n",
       "      <td>16</td>\n",
       "      <td>2025-06-03</td>\n",
       "      <td>203.270004</td>\n",
       "      <td>203.770004</td>\n",
       "      <td>200.960007</td>\n",
       "      <td>201.350006</td>\n",
       "      <td>46381600</td>\n",
       "      <td>None</td>\n",
       "      <td>None</td>\n",
       "      <td>2025-06-03</td>\n",
       "      <td>AAPL</td>\n",
       "      <td>AAPL:2025-06-03</td>\n",
       "      <td>-0.038633</td>\n",
       "      <td>3.0</td>\n",
       "      <td>2025-06-03</td>\n",
       "    </tr>\n",
       "    <tr>\n",
       "      <th>0</th>\n",
       "      <td>17</td>\n",
       "      <td>2025-06-04</td>\n",
       "      <td>202.820007</td>\n",
       "      <td>206.240005</td>\n",
       "      <td>202.100006</td>\n",
       "      <td>202.910004</td>\n",
       "      <td>43604000</td>\n",
       "      <td>None</td>\n",
       "      <td>None</td>\n",
       "      <td>2025-06-04</td>\n",
       "      <td>AAPL</td>\n",
       "      <td>AAPL:2025-06-04</td>\n",
       "      <td>-0.151150</td>\n",
       "      <td>8.0</td>\n",
       "      <td>2025-06-04</td>\n",
       "    </tr>\n",
       "    <tr>\n",
       "      <th>20</th>\n",
       "      <td>18</td>\n",
       "      <td>2025-06-05</td>\n",
       "      <td>200.630005</td>\n",
       "      <td>204.750000</td>\n",
       "      <td>200.149994</td>\n",
       "      <td>203.500000</td>\n",
       "      <td>55126100</td>\n",
       "      <td>None</td>\n",
       "      <td>None</td>\n",
       "      <td>2025-06-05</td>\n",
       "      <td>AAPL</td>\n",
       "      <td>AAPL:2025-06-05</td>\n",
       "      <td>-0.065238</td>\n",
       "      <td>8.0</td>\n",
       "      <td>2025-06-05</td>\n",
       "    </tr>\n",
       "    <tr>\n",
       "      <th>1</th>\n",
       "      <td>19</td>\n",
       "      <td>2025-06-06</td>\n",
       "      <td>203.919998</td>\n",
       "      <td>205.699997</td>\n",
       "      <td>202.050003</td>\n",
       "      <td>203.000000</td>\n",
       "      <td>46607700</td>\n",
       "      <td>None</td>\n",
       "      <td>None</td>\n",
       "      <td>2025-06-06</td>\n",
       "      <td>AAPL</td>\n",
       "      <td>AAPL:2025-06-06</td>\n",
       "      <td>0.221725</td>\n",
       "      <td>4.0</td>\n",
       "      <td>2025-06-06</td>\n",
       "    </tr>\n",
       "    <tr>\n",
       "      <th>17</th>\n",
       "      <td>20</td>\n",
       "      <td>2025-06-09</td>\n",
       "      <td>201.449997</td>\n",
       "      <td>206.000000</td>\n",
       "      <td>200.020004</td>\n",
       "      <td>204.389999</td>\n",
       "      <td>72862600</td>\n",
       "      <td>None</td>\n",
       "      <td>None</td>\n",
       "      <td>2025-06-09</td>\n",
       "      <td>AAPL</td>\n",
       "      <td>AAPL:2025-06-09</td>\n",
       "      <td>0.014671</td>\n",
       "      <td>7.0</td>\n",
       "      <td>2025-06-09</td>\n",
       "    </tr>\n",
       "    <tr>\n",
       "      <th>18</th>\n",
       "      <td>21</td>\n",
       "      <td>2025-06-10</td>\n",
       "      <td>202.669998</td>\n",
       "      <td>204.350006</td>\n",
       "      <td>200.570007</td>\n",
       "      <td>200.600006</td>\n",
       "      <td>54672600</td>\n",
       "      <td>None</td>\n",
       "      <td>None</td>\n",
       "      <td>2025-06-10</td>\n",
       "      <td>AAPL</td>\n",
       "      <td>AAPL:2025-06-10</td>\n",
       "      <td>-0.003657</td>\n",
       "      <td>7.0</td>\n",
       "      <td>2025-06-10</td>\n",
       "    </tr>\n",
       "  </tbody>\n",
       "</table>\n",
       "</div>"
      ],
      "text/plain": [
       "    row_id        date       Close        High         Low        Open  \\\n",
       "6        1  2025-05-12  210.789993  211.270004  206.750000  210.970001   \n",
       "7        2  2025-05-13  212.929993  213.399994  209.000000  210.429993   \n",
       "14       3  2025-05-14  212.330002  213.940002  210.580002  212.429993   \n",
       "3        4  2025-05-15  211.449997  212.960007  209.539993  210.949997   \n",
       "10       5  2025-05-16  211.259995  212.570007  209.770004  212.360001   \n",
       "16       6  2025-05-19  208.779999  209.479996  204.259995  207.910004   \n",
       "19       7  2025-05-20  206.860001  208.470001  205.029999  207.669998   \n",
       "4        8  2025-05-21  202.089996  207.039993  200.710007  205.169998   \n",
       "5        9  2025-05-22  201.360001  202.750000  199.699997  200.710007   \n",
       "2       10  2025-05-23  195.270004  197.699997  193.460007  193.669998   \n",
       "8       11  2025-05-27  200.210007  200.740005  197.429993  198.300003   \n",
       "9       12  2025-05-28  200.419998  202.729996  199.899994  200.589996   \n",
       "12      13  2025-05-29  199.949997  203.809998  198.509995  203.580002   \n",
       "13      14  2025-05-30  200.850006  201.960007  196.779999  199.369995   \n",
       "11      15  2025-06-02  201.699997  202.130005  200.119995  200.279999   \n",
       "15      16  2025-06-03  203.270004  203.770004  200.960007  201.350006   \n",
       "0       17  2025-06-04  202.820007  206.240005  202.100006  202.910004   \n",
       "20      18  2025-06-05  200.630005  204.750000  200.149994  203.500000   \n",
       "1       19  2025-06-06  203.919998  205.699997  202.050003  203.000000   \n",
       "17      20  2025-06-09  201.449997  206.000000  200.020004  204.389999   \n",
       "18      21  2025-06-10  202.669998  204.350006  200.570007  200.600006   \n",
       "\n",
       "      Volume runtime pct_change  time_stamp stock_code       unique_key  \\\n",
       "6   63775800    None       None  2025-05-12       AAPL  AAPL:2025-05-12   \n",
       "7   51909300    None       None  2025-05-13       AAPL  AAPL:2025-05-13   \n",
       "14  49325800    None       None  2025-05-14       AAPL  AAPL:2025-05-14   \n",
       "3   45029500    None       None  2025-05-15       AAPL  AAPL:2025-05-15   \n",
       "10  54737900    None       None  2025-05-16       AAPL  AAPL:2025-05-16   \n",
       "16  46140500    None       None  2025-05-19       AAPL  AAPL:2025-05-19   \n",
       "19  42496600    None       None  2025-05-20       AAPL  AAPL:2025-05-20   \n",
       "4   59211800    None       None  2025-05-21       AAPL  AAPL:2025-05-21   \n",
       "5   46742400    None       None  2025-05-22       AAPL  AAPL:2025-05-22   \n",
       "2   78432900    None       None  2025-05-23       AAPL  AAPL:2025-05-23   \n",
       "8   56288500    None       None  2025-05-27       AAPL  AAPL:2025-05-27   \n",
       "9   45339700    None       None  2025-05-28       AAPL  AAPL:2025-05-28   \n",
       "12  51396800    None       None  2025-05-29       AAPL  AAPL:2025-05-29   \n",
       "13  70819900    None       None  2025-05-30       AAPL  AAPL:2025-05-30   \n",
       "11  35423300    None       None  2025-06-02       AAPL  AAPL:2025-06-02   \n",
       "15  46381600    None       None  2025-06-03       AAPL  AAPL:2025-06-03   \n",
       "0   43604000    None       None  2025-06-04       AAPL  AAPL:2025-06-04   \n",
       "20  55126100    None       None  2025-06-05       AAPL  AAPL:2025-06-05   \n",
       "1   46607700    None       None  2025-06-06       AAPL  AAPL:2025-06-06   \n",
       "17  72862600    None       None  2025-06-09       AAPL  AAPL:2025-06-09   \n",
       "18  54672600    None       None  2025-06-10       AAPL  AAPL:2025-06-10   \n",
       "\n",
       "    sentiment_score  article_count        Date  \n",
       "6          0.440400            1.0  2025-05-12  \n",
       "7               NaN            NaN  2025-05-13  \n",
       "14              NaN            NaN  2025-05-14  \n",
       "3          0.000000            1.0  2025-05-15  \n",
       "10              NaN            NaN  2025-05-16  \n",
       "16              NaN            NaN  2025-05-19  \n",
       "19              NaN            NaN  2025-05-20  \n",
       "4               NaN            NaN  2025-05-21  \n",
       "5          0.133967            3.0  2025-05-22  \n",
       "2         -0.037338           13.0  2025-05-23  \n",
       "8         -0.102100           16.0  2025-05-27  \n",
       "9         -0.043763            8.0  2025-05-28  \n",
       "12         0.089778            9.0  2025-05-29  \n",
       "13         0.055029            7.0  2025-05-30  \n",
       "11         0.260420            5.0  2025-06-02  \n",
       "15        -0.038633            3.0  2025-06-03  \n",
       "0         -0.151150            8.0  2025-06-04  \n",
       "20        -0.065238            8.0  2025-06-05  \n",
       "1          0.221725            4.0  2025-06-06  \n",
       "17         0.014671            7.0  2025-06-09  \n",
       "18        -0.003657            7.0  2025-06-10  "
      ]
     },
     "execution_count": 20,
     "metadata": {},
     "output_type": "execute_result"
    }
   ],
   "source": [
    "df_price"
   ]
  },
  {
   "cell_type": "code",
   "execution_count": 22,
   "id": "7233dc76",
   "metadata": {},
   "outputs": [
    {
     "data": {
      "application/vnd.plotly.v1+json": {
       "config": {
        "plotlyServerURL": "https://plot.ly"
       },
       "data": [
        {
         "line": {
          "color": "blue",
          "width": 2
         },
         "mode": "lines+markers",
         "name": "Close Price",
         "type": "scatter",
         "x": [
          "2025-05-12T00:00:00.000000000",
          "2025-05-15T00:00:00.000000000",
          "2025-05-22T00:00:00.000000000",
          "2025-05-23T00:00:00.000000000",
          "2025-05-27T00:00:00.000000000",
          "2025-05-28T00:00:00.000000000",
          "2025-05-29T00:00:00.000000000",
          "2025-05-30T00:00:00.000000000",
          "2025-06-02T00:00:00.000000000",
          "2025-06-03T00:00:00.000000000",
          "2025-06-04T00:00:00.000000000",
          "2025-06-05T00:00:00.000000000",
          "2025-06-06T00:00:00.000000000",
          "2025-06-09T00:00:00.000000000",
          "2025-06-10T00:00:00.000000000"
         ],
         "y": {
          "bdata": "AAAAoEdZakAAAABgZm5qQAAAACCFK2lAAAAA4KNoaEAAAABguAZpQAAAAKBwDWlAAAAAYGb+aEAAAABAMxtpQAAAAGBmNmlAAAAA4KNoaUAAAACAPVppQAAAAAApFGlAAAAAoHB9aUAAAABgZi5pQAAAAKBwVWlA",
          "dtype": "f8"
         },
         "yaxis": "y"
        },
        {
         "fill": "tozeroy",
         "fillcolor": "rgba(255,165,0,0.15)",
         "line": {
          "color": "orange",
          "dash": "dot",
          "width": 2
         },
         "mode": "lines",
         "name": "Smoothed Sentiment",
         "type": "scatter",
         "x": [
          "2025-05-12T00:00:00.000000000",
          "2025-05-15T00:00:00.000000000",
          "2025-05-22T00:00:00.000000000",
          "2025-05-23T00:00:00.000000000",
          "2025-05-27T00:00:00.000000000",
          "2025-05-28T00:00:00.000000000",
          "2025-05-29T00:00:00.000000000",
          "2025-05-30T00:00:00.000000000",
          "2025-06-02T00:00:00.000000000",
          "2025-06-03T00:00:00.000000000",
          "2025-06-04T00:00:00.000000000",
          "2025-06-05T00:00:00.000000000",
          "2025-06-06T00:00:00.000000000",
          "2025-06-09T00:00:00.000000000",
          "2025-06-10T00:00:00.000000000"
         ],
         "y": {
          "bdata": "OiNKe4Mv3D86I0p7gy/MP9vS35qdgcg/BGTuLcB9oD8A/zGrH+JdvyswmhEsRK+/e4+q/8Ekk790FYlSrD6hP42Zjf8mSsE/SBmNAx+ftz/THU98UxyYPwhgUt4Dw7W/ABhwqV0mXT/LT8E1DDatPxlhNmxE3LM/",
          "dtype": "f8"
         },
         "yaxis": "y2"
        }
       ],
       "layout": {
        "height": 520,
        "shapes": [
         {
          "fillcolor": "rgba(0,255,0,0.15)",
          "line": {
           "width": 0
          },
          "opacity": 0.5,
          "type": "rect",
          "x0": "2025-05-12T00:00:00",
          "x1": "2025-05-15T00:00:00",
          "xref": "x",
          "y0": 0,
          "y1": 1,
          "yref": "y domain"
         },
         {
          "fillcolor": "rgba(106,148,0,0.15)",
          "line": {
           "width": 0
          },
          "opacity": 0.5,
          "type": "rect",
          "x0": "2025-05-15T00:00:00",
          "x1": "2025-05-22T00:00:00",
          "xref": "x",
          "y0": 0,
          "y1": 1,
          "yref": "y domain"
         },
         {
          "fillcolor": "rgba(120,134,0,0.15)",
          "line": {
           "width": 0
          },
          "opacity": 0.5,
          "type": "rect",
          "x0": "2025-05-22T00:00:00",
          "x1": "2025-05-23T00:00:00",
          "xref": "x",
          "y0": 0,
          "y1": 1,
          "yref": "y domain"
         },
         {
          "fillcolor": "rgba(198,56,0,0.15)",
          "line": {
           "width": 0
          },
          "opacity": 0.5,
          "type": "rect",
          "x0": "2025-05-23T00:00:00",
          "x1": "2025-05-27T00:00:00",
          "xref": "x",
          "y0": 0,
          "y1": 1,
          "yref": "y domain"
         },
         {
          "fillcolor": "rgba(214,40,0,0.15)",
          "line": {
           "width": 0
          },
          "opacity": 0.5,
          "type": "rect",
          "x0": "2025-05-27T00:00:00",
          "x1": "2025-05-28T00:00:00",
          "xref": "x",
          "y0": 0,
          "y1": 1,
          "yref": "y domain"
         },
         {
          "fillcolor": "rgba(243,11,0,0.15)",
          "line": {
           "width": 0
          },
          "opacity": 0.5,
          "type": "rect",
          "x0": "2025-05-28T00:00:00",
          "x1": "2025-05-29T00:00:00",
          "xref": "x",
          "y0": 0,
          "y1": 1,
          "yref": "y domain"
         },
         {
          "fillcolor": "rgba(222,32,0,0.15)",
          "line": {
           "width": 0
          },
          "opacity": 0.5,
          "type": "rect",
          "x0": "2025-05-29T00:00:00",
          "x1": "2025-05-30T00:00:00",
          "xref": "x",
          "y0": 0,
          "y1": 1,
          "yref": "y domain"
         },
         {
          "fillcolor": "rgba(197,57,0,0.15)",
          "line": {
           "width": 0
          },
          "opacity": 0.5,
          "type": "rect",
          "x0": "2025-05-30T00:00:00",
          "x1": "2025-06-02T00:00:00",
          "xref": "x",
          "y0": 0,
          "y1": 1,
          "yref": "y domain"
         },
         {
          "fillcolor": "rgba(148,106,0,0.15)",
          "line": {
           "width": 0
          },
          "opacity": 0.5,
          "type": "rect",
          "x0": "2025-06-02T00:00:00",
          "x1": "2025-06-03T00:00:00",
          "xref": "x",
          "y0": 0,
          "y1": 1,
          "yref": "y domain"
         },
         {
          "fillcolor": "rgba(168,86,0,0.15)",
          "line": {
           "width": 0
          },
          "opacity": 0.5,
          "type": "rect",
          "x0": "2025-06-03T00:00:00",
          "x1": "2025-06-04T00:00:00",
          "xref": "x",
          "y0": 0,
          "y1": 1,
          "yref": "y domain"
         },
         {
          "fillcolor": "rgba(202,52,0,0.15)",
          "line": {
           "width": 0
          },
          "opacity": 0.5,
          "type": "rect",
          "x0": "2025-06-04T00:00:00",
          "x1": "2025-06-05T00:00:00",
          "xref": "x",
          "y0": 0,
          "y1": 1,
          "yref": "y domain"
         },
         {
          "fillcolor": "rgba(255,0,0,0.15)",
          "line": {
           "width": 0
          },
          "opacity": 0.5,
          "type": "rect",
          "x0": "2025-06-05T00:00:00",
          "x1": "2025-06-06T00:00:00",
          "xref": "x",
          "y0": 0,
          "y1": 1,
          "yref": "y domain"
         },
         {
          "fillcolor": "rgba(212,42,0,0.15)",
          "line": {
           "width": 0
          },
          "opacity": 0.5,
          "type": "rect",
          "x0": "2025-06-06T00:00:00",
          "x1": "2025-06-09T00:00:00",
          "xref": "x",
          "y0": 0,
          "y1": 1,
          "yref": "y domain"
         },
         {
          "fillcolor": "rgba(186,68,0,0.15)",
          "line": {
           "width": 0
          },
          "opacity": 0.5,
          "type": "rect",
          "x0": "2025-06-09T00:00:00",
          "x1": "2025-06-10T00:00:00",
          "xref": "x",
          "y0": 0,
          "y1": 1,
          "yref": "y domain"
         }
        ],
        "template": {
         "data": {
          "bar": [
           {
            "error_x": {
             "color": "#2a3f5f"
            },
            "error_y": {
             "color": "#2a3f5f"
            },
            "marker": {
             "line": {
              "color": "white",
              "width": 0.5
             },
             "pattern": {
              "fillmode": "overlay",
              "size": 10,
              "solidity": 0.2
             }
            },
            "type": "bar"
           }
          ],
          "barpolar": [
           {
            "marker": {
             "line": {
              "color": "white",
              "width": 0.5
             },
             "pattern": {
              "fillmode": "overlay",
              "size": 10,
              "solidity": 0.2
             }
            },
            "type": "barpolar"
           }
          ],
          "carpet": [
           {
            "aaxis": {
             "endlinecolor": "#2a3f5f",
             "gridcolor": "#C8D4E3",
             "linecolor": "#C8D4E3",
             "minorgridcolor": "#C8D4E3",
             "startlinecolor": "#2a3f5f"
            },
            "baxis": {
             "endlinecolor": "#2a3f5f",
             "gridcolor": "#C8D4E3",
             "linecolor": "#C8D4E3",
             "minorgridcolor": "#C8D4E3",
             "startlinecolor": "#2a3f5f"
            },
            "type": "carpet"
           }
          ],
          "choropleth": [
           {
            "colorbar": {
             "outlinewidth": 0,
             "ticks": ""
            },
            "type": "choropleth"
           }
          ],
          "contour": [
           {
            "colorbar": {
             "outlinewidth": 0,
             "ticks": ""
            },
            "colorscale": [
             [
              0,
              "#0d0887"
             ],
             [
              0.1111111111111111,
              "#46039f"
             ],
             [
              0.2222222222222222,
              "#7201a8"
             ],
             [
              0.3333333333333333,
              "#9c179e"
             ],
             [
              0.4444444444444444,
              "#bd3786"
             ],
             [
              0.5555555555555556,
              "#d8576b"
             ],
             [
              0.6666666666666666,
              "#ed7953"
             ],
             [
              0.7777777777777778,
              "#fb9f3a"
             ],
             [
              0.8888888888888888,
              "#fdca26"
             ],
             [
              1,
              "#f0f921"
             ]
            ],
            "type": "contour"
           }
          ],
          "contourcarpet": [
           {
            "colorbar": {
             "outlinewidth": 0,
             "ticks": ""
            },
            "type": "contourcarpet"
           }
          ],
          "heatmap": [
           {
            "colorbar": {
             "outlinewidth": 0,
             "ticks": ""
            },
            "colorscale": [
             [
              0,
              "#0d0887"
             ],
             [
              0.1111111111111111,
              "#46039f"
             ],
             [
              0.2222222222222222,
              "#7201a8"
             ],
             [
              0.3333333333333333,
              "#9c179e"
             ],
             [
              0.4444444444444444,
              "#bd3786"
             ],
             [
              0.5555555555555556,
              "#d8576b"
             ],
             [
              0.6666666666666666,
              "#ed7953"
             ],
             [
              0.7777777777777778,
              "#fb9f3a"
             ],
             [
              0.8888888888888888,
              "#fdca26"
             ],
             [
              1,
              "#f0f921"
             ]
            ],
            "type": "heatmap"
           }
          ],
          "histogram": [
           {
            "marker": {
             "pattern": {
              "fillmode": "overlay",
              "size": 10,
              "solidity": 0.2
             }
            },
            "type": "histogram"
           }
          ],
          "histogram2d": [
           {
            "colorbar": {
             "outlinewidth": 0,
             "ticks": ""
            },
            "colorscale": [
             [
              0,
              "#0d0887"
             ],
             [
              0.1111111111111111,
              "#46039f"
             ],
             [
              0.2222222222222222,
              "#7201a8"
             ],
             [
              0.3333333333333333,
              "#9c179e"
             ],
             [
              0.4444444444444444,
              "#bd3786"
             ],
             [
              0.5555555555555556,
              "#d8576b"
             ],
             [
              0.6666666666666666,
              "#ed7953"
             ],
             [
              0.7777777777777778,
              "#fb9f3a"
             ],
             [
              0.8888888888888888,
              "#fdca26"
             ],
             [
              1,
              "#f0f921"
             ]
            ],
            "type": "histogram2d"
           }
          ],
          "histogram2dcontour": [
           {
            "colorbar": {
             "outlinewidth": 0,
             "ticks": ""
            },
            "colorscale": [
             [
              0,
              "#0d0887"
             ],
             [
              0.1111111111111111,
              "#46039f"
             ],
             [
              0.2222222222222222,
              "#7201a8"
             ],
             [
              0.3333333333333333,
              "#9c179e"
             ],
             [
              0.4444444444444444,
              "#bd3786"
             ],
             [
              0.5555555555555556,
              "#d8576b"
             ],
             [
              0.6666666666666666,
              "#ed7953"
             ],
             [
              0.7777777777777778,
              "#fb9f3a"
             ],
             [
              0.8888888888888888,
              "#fdca26"
             ],
             [
              1,
              "#f0f921"
             ]
            ],
            "type": "histogram2dcontour"
           }
          ],
          "mesh3d": [
           {
            "colorbar": {
             "outlinewidth": 0,
             "ticks": ""
            },
            "type": "mesh3d"
           }
          ],
          "parcoords": [
           {
            "line": {
             "colorbar": {
              "outlinewidth": 0,
              "ticks": ""
             }
            },
            "type": "parcoords"
           }
          ],
          "pie": [
           {
            "automargin": true,
            "type": "pie"
           }
          ],
          "scatter": [
           {
            "fillpattern": {
             "fillmode": "overlay",
             "size": 10,
             "solidity": 0.2
            },
            "type": "scatter"
           }
          ],
          "scatter3d": [
           {
            "line": {
             "colorbar": {
              "outlinewidth": 0,
              "ticks": ""
             }
            },
            "marker": {
             "colorbar": {
              "outlinewidth": 0,
              "ticks": ""
             }
            },
            "type": "scatter3d"
           }
          ],
          "scattercarpet": [
           {
            "marker": {
             "colorbar": {
              "outlinewidth": 0,
              "ticks": ""
             }
            },
            "type": "scattercarpet"
           }
          ],
          "scattergeo": [
           {
            "marker": {
             "colorbar": {
              "outlinewidth": 0,
              "ticks": ""
             }
            },
            "type": "scattergeo"
           }
          ],
          "scattergl": [
           {
            "marker": {
             "colorbar": {
              "outlinewidth": 0,
              "ticks": ""
             }
            },
            "type": "scattergl"
           }
          ],
          "scattermap": [
           {
            "marker": {
             "colorbar": {
              "outlinewidth": 0,
              "ticks": ""
             }
            },
            "type": "scattermap"
           }
          ],
          "scattermapbox": [
           {
            "marker": {
             "colorbar": {
              "outlinewidth": 0,
              "ticks": ""
             }
            },
            "type": "scattermapbox"
           }
          ],
          "scatterpolar": [
           {
            "marker": {
             "colorbar": {
              "outlinewidth": 0,
              "ticks": ""
             }
            },
            "type": "scatterpolar"
           }
          ],
          "scatterpolargl": [
           {
            "marker": {
             "colorbar": {
              "outlinewidth": 0,
              "ticks": ""
             }
            },
            "type": "scatterpolargl"
           }
          ],
          "scatterternary": [
           {
            "marker": {
             "colorbar": {
              "outlinewidth": 0,
              "ticks": ""
             }
            },
            "type": "scatterternary"
           }
          ],
          "surface": [
           {
            "colorbar": {
             "outlinewidth": 0,
             "ticks": ""
            },
            "colorscale": [
             [
              0,
              "#0d0887"
             ],
             [
              0.1111111111111111,
              "#46039f"
             ],
             [
              0.2222222222222222,
              "#7201a8"
             ],
             [
              0.3333333333333333,
              "#9c179e"
             ],
             [
              0.4444444444444444,
              "#bd3786"
             ],
             [
              0.5555555555555556,
              "#d8576b"
             ],
             [
              0.6666666666666666,
              "#ed7953"
             ],
             [
              0.7777777777777778,
              "#fb9f3a"
             ],
             [
              0.8888888888888888,
              "#fdca26"
             ],
             [
              1,
              "#f0f921"
             ]
            ],
            "type": "surface"
           }
          ],
          "table": [
           {
            "cells": {
             "fill": {
              "color": "#EBF0F8"
             },
             "line": {
              "color": "white"
             }
            },
            "header": {
             "fill": {
              "color": "#C8D4E3"
             },
             "line": {
              "color": "white"
             }
            },
            "type": "table"
           }
          ]
         },
         "layout": {
          "annotationdefaults": {
           "arrowcolor": "#2a3f5f",
           "arrowhead": 0,
           "arrowwidth": 1
          },
          "autotypenumbers": "strict",
          "coloraxis": {
           "colorbar": {
            "outlinewidth": 0,
            "ticks": ""
           }
          },
          "colorscale": {
           "diverging": [
            [
             0,
             "#8e0152"
            ],
            [
             0.1,
             "#c51b7d"
            ],
            [
             0.2,
             "#de77ae"
            ],
            [
             0.3,
             "#f1b6da"
            ],
            [
             0.4,
             "#fde0ef"
            ],
            [
             0.5,
             "#f7f7f7"
            ],
            [
             0.6,
             "#e6f5d0"
            ],
            [
             0.7,
             "#b8e186"
            ],
            [
             0.8,
             "#7fbc41"
            ],
            [
             0.9,
             "#4d9221"
            ],
            [
             1,
             "#276419"
            ]
           ],
           "sequential": [
            [
             0,
             "#0d0887"
            ],
            [
             0.1111111111111111,
             "#46039f"
            ],
            [
             0.2222222222222222,
             "#7201a8"
            ],
            [
             0.3333333333333333,
             "#9c179e"
            ],
            [
             0.4444444444444444,
             "#bd3786"
            ],
            [
             0.5555555555555556,
             "#d8576b"
            ],
            [
             0.6666666666666666,
             "#ed7953"
            ],
            [
             0.7777777777777778,
             "#fb9f3a"
            ],
            [
             0.8888888888888888,
             "#fdca26"
            ],
            [
             1,
             "#f0f921"
            ]
           ],
           "sequentialminus": [
            [
             0,
             "#0d0887"
            ],
            [
             0.1111111111111111,
             "#46039f"
            ],
            [
             0.2222222222222222,
             "#7201a8"
            ],
            [
             0.3333333333333333,
             "#9c179e"
            ],
            [
             0.4444444444444444,
             "#bd3786"
            ],
            [
             0.5555555555555556,
             "#d8576b"
            ],
            [
             0.6666666666666666,
             "#ed7953"
            ],
            [
             0.7777777777777778,
             "#fb9f3a"
            ],
            [
             0.8888888888888888,
             "#fdca26"
            ],
            [
             1,
             "#f0f921"
            ]
           ]
          },
          "colorway": [
           "#636efa",
           "#EF553B",
           "#00cc96",
           "#ab63fa",
           "#FFA15A",
           "#19d3f3",
           "#FF6692",
           "#B6E880",
           "#FF97FF",
           "#FECB52"
          ],
          "font": {
           "color": "#2a3f5f"
          },
          "geo": {
           "bgcolor": "white",
           "lakecolor": "white",
           "landcolor": "white",
           "showlakes": true,
           "showland": true,
           "subunitcolor": "#C8D4E3"
          },
          "hoverlabel": {
           "align": "left"
          },
          "hovermode": "closest",
          "mapbox": {
           "style": "light"
          },
          "paper_bgcolor": "white",
          "plot_bgcolor": "white",
          "polar": {
           "angularaxis": {
            "gridcolor": "#EBF0F8",
            "linecolor": "#EBF0F8",
            "ticks": ""
           },
           "bgcolor": "white",
           "radialaxis": {
            "gridcolor": "#EBF0F8",
            "linecolor": "#EBF0F8",
            "ticks": ""
           }
          },
          "scene": {
           "xaxis": {
            "backgroundcolor": "white",
            "gridcolor": "#DFE8F3",
            "gridwidth": 2,
            "linecolor": "#EBF0F8",
            "showbackground": true,
            "ticks": "",
            "zerolinecolor": "#EBF0F8"
           },
           "yaxis": {
            "backgroundcolor": "white",
            "gridcolor": "#DFE8F3",
            "gridwidth": 2,
            "linecolor": "#EBF0F8",
            "showbackground": true,
            "ticks": "",
            "zerolinecolor": "#EBF0F8"
           },
           "zaxis": {
            "backgroundcolor": "white",
            "gridcolor": "#DFE8F3",
            "gridwidth": 2,
            "linecolor": "#EBF0F8",
            "showbackground": true,
            "ticks": "",
            "zerolinecolor": "#EBF0F8"
           }
          },
          "shapedefaults": {
           "line": {
            "color": "#2a3f5f"
           }
          },
          "ternary": {
           "aaxis": {
            "gridcolor": "#DFE8F3",
            "linecolor": "#A2B1C6",
            "ticks": ""
           },
           "baxis": {
            "gridcolor": "#DFE8F3",
            "linecolor": "#A2B1C6",
            "ticks": ""
           },
           "bgcolor": "white",
           "caxis": {
            "gridcolor": "#DFE8F3",
            "linecolor": "#A2B1C6",
            "ticks": ""
           }
          },
          "title": {
           "x": 0.05
          },
          "xaxis": {
           "automargin": true,
           "gridcolor": "#EBF0F8",
           "linecolor": "#EBF0F8",
           "ticks": "",
           "title": {
            "standoff": 15
           },
           "zerolinecolor": "#EBF0F8",
           "zerolinewidth": 2
          },
          "yaxis": {
           "automargin": true,
           "gridcolor": "#EBF0F8",
           "linecolor": "#EBF0F8",
           "ticks": "",
           "title": {
            "standoff": 15
           },
           "zerolinecolor": "#EBF0F8",
           "zerolinewidth": 2
          }
         }
        },
        "title": {
         "text": "Stock Price with Sentiment Intensity Overlay"
        },
        "width": 950,
        "xaxis": {
         "title": {
          "text": "Date"
         }
        },
        "yaxis": {
         "showgrid": true,
         "side": "left",
         "title": {
          "text": "Close Price"
         }
        },
        "yaxis2": {
         "overlaying": "y",
         "showgrid": false,
         "side": "right",
         "title": {
          "text": "Smoothed Sentiment"
         }
        }
       }
      }
     },
     "metadata": {},
     "output_type": "display_data"
    }
   ],
   "source": [
    "fig = plot_gradient_sentiment_overlay(df_price)"
   ]
  },
  {
   "cell_type": "code",
   "execution_count": 5,
   "id": "0d231b76",
   "metadata": {},
   "outputs": [
    {
     "data": {
      "application/vnd.plotly.v1+json": {
       "config": {
        "plotlyServerURL": "https://plot.ly"
       },
       "data": [
        {
         "line": {
          "color": "blue",
          "width": 2
         },
         "mode": "lines+markers",
         "name": "Sentiment Score",
         "type": "scatter",
         "x": [
          "2025-05-12",
          "2025-05-13",
          "2025-05-14",
          "2025-05-15",
          "2025-05-16",
          "2025-05-19",
          "2025-05-20",
          "2025-05-21",
          "2025-05-22",
          "2025-05-23",
          "2025-05-27",
          "2025-05-28",
          "2025-05-29",
          "2025-05-30",
          "2025-06-02",
          "2025-06-03",
          "2025-06-04",
          "2025-06-05",
          "2025-06-06",
          "2025-06-09",
          "2025-06-10"
         ],
         "y": {
          "bdata": "OiNKe4Mv3D8AAAAAAAD4fwAAAAAAAPh/AAAAAAAAAAAAAAAAAAD4fwAAAAAAAPh/AAAAAAAAAAAAAAAAAAD4fwAAAAAAAAAA0LNZ9bnawL+xqM51yX64P9AKa1AhRI+/XOjguEHBxj/qJjEIrByqvxPyQc9m1dQ/wNy1hHzQg78dWmQ730+9v30/NV66ScS/I2x4eqUsyz+qFURotV6HP1elBxhwqZ0/",
          "dtype": "f8"
         }
        },
        {
         "marker": {
          "color": "red",
          "size": 10,
          "symbol": "diamond"
         },
         "mode": "markers",
         "name": "Spikes",
         "type": "scatter",
         "x": [],
         "y": []
        }
       ],
       "layout": {
        "height": 450,
        "legend": {
         "title": {
          "text": "Legend"
         }
        },
        "template": {
         "data": {
          "bar": [
           {
            "error_x": {
             "color": "#2a3f5f"
            },
            "error_y": {
             "color": "#2a3f5f"
            },
            "marker": {
             "line": {
              "color": "white",
              "width": 0.5
             },
             "pattern": {
              "fillmode": "overlay",
              "size": 10,
              "solidity": 0.2
             }
            },
            "type": "bar"
           }
          ],
          "barpolar": [
           {
            "marker": {
             "line": {
              "color": "white",
              "width": 0.5
             },
             "pattern": {
              "fillmode": "overlay",
              "size": 10,
              "solidity": 0.2
             }
            },
            "type": "barpolar"
           }
          ],
          "carpet": [
           {
            "aaxis": {
             "endlinecolor": "#2a3f5f",
             "gridcolor": "#C8D4E3",
             "linecolor": "#C8D4E3",
             "minorgridcolor": "#C8D4E3",
             "startlinecolor": "#2a3f5f"
            },
            "baxis": {
             "endlinecolor": "#2a3f5f",
             "gridcolor": "#C8D4E3",
             "linecolor": "#C8D4E3",
             "minorgridcolor": "#C8D4E3",
             "startlinecolor": "#2a3f5f"
            },
            "type": "carpet"
           }
          ],
          "choropleth": [
           {
            "colorbar": {
             "outlinewidth": 0,
             "ticks": ""
            },
            "type": "choropleth"
           }
          ],
          "contour": [
           {
            "colorbar": {
             "outlinewidth": 0,
             "ticks": ""
            },
            "colorscale": [
             [
              0,
              "#0d0887"
             ],
             [
              0.1111111111111111,
              "#46039f"
             ],
             [
              0.2222222222222222,
              "#7201a8"
             ],
             [
              0.3333333333333333,
              "#9c179e"
             ],
             [
              0.4444444444444444,
              "#bd3786"
             ],
             [
              0.5555555555555556,
              "#d8576b"
             ],
             [
              0.6666666666666666,
              "#ed7953"
             ],
             [
              0.7777777777777778,
              "#fb9f3a"
             ],
             [
              0.8888888888888888,
              "#fdca26"
             ],
             [
              1,
              "#f0f921"
             ]
            ],
            "type": "contour"
           }
          ],
          "contourcarpet": [
           {
            "colorbar": {
             "outlinewidth": 0,
             "ticks": ""
            },
            "type": "contourcarpet"
           }
          ],
          "heatmap": [
           {
            "colorbar": {
             "outlinewidth": 0,
             "ticks": ""
            },
            "colorscale": [
             [
              0,
              "#0d0887"
             ],
             [
              0.1111111111111111,
              "#46039f"
             ],
             [
              0.2222222222222222,
              "#7201a8"
             ],
             [
              0.3333333333333333,
              "#9c179e"
             ],
             [
              0.4444444444444444,
              "#bd3786"
             ],
             [
              0.5555555555555556,
              "#d8576b"
             ],
             [
              0.6666666666666666,
              "#ed7953"
             ],
             [
              0.7777777777777778,
              "#fb9f3a"
             ],
             [
              0.8888888888888888,
              "#fdca26"
             ],
             [
              1,
              "#f0f921"
             ]
            ],
            "type": "heatmap"
           }
          ],
          "histogram": [
           {
            "marker": {
             "pattern": {
              "fillmode": "overlay",
              "size": 10,
              "solidity": 0.2
             }
            },
            "type": "histogram"
           }
          ],
          "histogram2d": [
           {
            "colorbar": {
             "outlinewidth": 0,
             "ticks": ""
            },
            "colorscale": [
             [
              0,
              "#0d0887"
             ],
             [
              0.1111111111111111,
              "#46039f"
             ],
             [
              0.2222222222222222,
              "#7201a8"
             ],
             [
              0.3333333333333333,
              "#9c179e"
             ],
             [
              0.4444444444444444,
              "#bd3786"
             ],
             [
              0.5555555555555556,
              "#d8576b"
             ],
             [
              0.6666666666666666,
              "#ed7953"
             ],
             [
              0.7777777777777778,
              "#fb9f3a"
             ],
             [
              0.8888888888888888,
              "#fdca26"
             ],
             [
              1,
              "#f0f921"
             ]
            ],
            "type": "histogram2d"
           }
          ],
          "histogram2dcontour": [
           {
            "colorbar": {
             "outlinewidth": 0,
             "ticks": ""
            },
            "colorscale": [
             [
              0,
              "#0d0887"
             ],
             [
              0.1111111111111111,
              "#46039f"
             ],
             [
              0.2222222222222222,
              "#7201a8"
             ],
             [
              0.3333333333333333,
              "#9c179e"
             ],
             [
              0.4444444444444444,
              "#bd3786"
             ],
             [
              0.5555555555555556,
              "#d8576b"
             ],
             [
              0.6666666666666666,
              "#ed7953"
             ],
             [
              0.7777777777777778,
              "#fb9f3a"
             ],
             [
              0.8888888888888888,
              "#fdca26"
             ],
             [
              1,
              "#f0f921"
             ]
            ],
            "type": "histogram2dcontour"
           }
          ],
          "mesh3d": [
           {
            "colorbar": {
             "outlinewidth": 0,
             "ticks": ""
            },
            "type": "mesh3d"
           }
          ],
          "parcoords": [
           {
            "line": {
             "colorbar": {
              "outlinewidth": 0,
              "ticks": ""
             }
            },
            "type": "parcoords"
           }
          ],
          "pie": [
           {
            "automargin": true,
            "type": "pie"
           }
          ],
          "scatter": [
           {
            "fillpattern": {
             "fillmode": "overlay",
             "size": 10,
             "solidity": 0.2
            },
            "type": "scatter"
           }
          ],
          "scatter3d": [
           {
            "line": {
             "colorbar": {
              "outlinewidth": 0,
              "ticks": ""
             }
            },
            "marker": {
             "colorbar": {
              "outlinewidth": 0,
              "ticks": ""
             }
            },
            "type": "scatter3d"
           }
          ],
          "scattercarpet": [
           {
            "marker": {
             "colorbar": {
              "outlinewidth": 0,
              "ticks": ""
             }
            },
            "type": "scattercarpet"
           }
          ],
          "scattergeo": [
           {
            "marker": {
             "colorbar": {
              "outlinewidth": 0,
              "ticks": ""
             }
            },
            "type": "scattergeo"
           }
          ],
          "scattergl": [
           {
            "marker": {
             "colorbar": {
              "outlinewidth": 0,
              "ticks": ""
             }
            },
            "type": "scattergl"
           }
          ],
          "scattermap": [
           {
            "marker": {
             "colorbar": {
              "outlinewidth": 0,
              "ticks": ""
             }
            },
            "type": "scattermap"
           }
          ],
          "scattermapbox": [
           {
            "marker": {
             "colorbar": {
              "outlinewidth": 0,
              "ticks": ""
             }
            },
            "type": "scattermapbox"
           }
          ],
          "scatterpolar": [
           {
            "marker": {
             "colorbar": {
              "outlinewidth": 0,
              "ticks": ""
             }
            },
            "type": "scatterpolar"
           }
          ],
          "scatterpolargl": [
           {
            "marker": {
             "colorbar": {
              "outlinewidth": 0,
              "ticks": ""
             }
            },
            "type": "scatterpolargl"
           }
          ],
          "scatterternary": [
           {
            "marker": {
             "colorbar": {
              "outlinewidth": 0,
              "ticks": ""
             }
            },
            "type": "scatterternary"
           }
          ],
          "surface": [
           {
            "colorbar": {
             "outlinewidth": 0,
             "ticks": ""
            },
            "colorscale": [
             [
              0,
              "#0d0887"
             ],
             [
              0.1111111111111111,
              "#46039f"
             ],
             [
              0.2222222222222222,
              "#7201a8"
             ],
             [
              0.3333333333333333,
              "#9c179e"
             ],
             [
              0.4444444444444444,
              "#bd3786"
             ],
             [
              0.5555555555555556,
              "#d8576b"
             ],
             [
              0.6666666666666666,
              "#ed7953"
             ],
             [
              0.7777777777777778,
              "#fb9f3a"
             ],
             [
              0.8888888888888888,
              "#fdca26"
             ],
             [
              1,
              "#f0f921"
             ]
            ],
            "type": "surface"
           }
          ],
          "table": [
           {
            "cells": {
             "fill": {
              "color": "#EBF0F8"
             },
             "line": {
              "color": "white"
             }
            },
            "header": {
             "fill": {
              "color": "#C8D4E3"
             },
             "line": {
              "color": "white"
             }
            },
            "type": "table"
           }
          ]
         },
         "layout": {
          "annotationdefaults": {
           "arrowcolor": "#2a3f5f",
           "arrowhead": 0,
           "arrowwidth": 1
          },
          "autotypenumbers": "strict",
          "coloraxis": {
           "colorbar": {
            "outlinewidth": 0,
            "ticks": ""
           }
          },
          "colorscale": {
           "diverging": [
            [
             0,
             "#8e0152"
            ],
            [
             0.1,
             "#c51b7d"
            ],
            [
             0.2,
             "#de77ae"
            ],
            [
             0.3,
             "#f1b6da"
            ],
            [
             0.4,
             "#fde0ef"
            ],
            [
             0.5,
             "#f7f7f7"
            ],
            [
             0.6,
             "#e6f5d0"
            ],
            [
             0.7,
             "#b8e186"
            ],
            [
             0.8,
             "#7fbc41"
            ],
            [
             0.9,
             "#4d9221"
            ],
            [
             1,
             "#276419"
            ]
           ],
           "sequential": [
            [
             0,
             "#0d0887"
            ],
            [
             0.1111111111111111,
             "#46039f"
            ],
            [
             0.2222222222222222,
             "#7201a8"
            ],
            [
             0.3333333333333333,
             "#9c179e"
            ],
            [
             0.4444444444444444,
             "#bd3786"
            ],
            [
             0.5555555555555556,
             "#d8576b"
            ],
            [
             0.6666666666666666,
             "#ed7953"
            ],
            [
             0.7777777777777778,
             "#fb9f3a"
            ],
            [
             0.8888888888888888,
             "#fdca26"
            ],
            [
             1,
             "#f0f921"
            ]
           ],
           "sequentialminus": [
            [
             0,
             "#0d0887"
            ],
            [
             0.1111111111111111,
             "#46039f"
            ],
            [
             0.2222222222222222,
             "#7201a8"
            ],
            [
             0.3333333333333333,
             "#9c179e"
            ],
            [
             0.4444444444444444,
             "#bd3786"
            ],
            [
             0.5555555555555556,
             "#d8576b"
            ],
            [
             0.6666666666666666,
             "#ed7953"
            ],
            [
             0.7777777777777778,
             "#fb9f3a"
            ],
            [
             0.8888888888888888,
             "#fdca26"
            ],
            [
             1,
             "#f0f921"
            ]
           ]
          },
          "colorway": [
           "#636efa",
           "#EF553B",
           "#00cc96",
           "#ab63fa",
           "#FFA15A",
           "#19d3f3",
           "#FF6692",
           "#B6E880",
           "#FF97FF",
           "#FECB52"
          ],
          "font": {
           "color": "#2a3f5f"
          },
          "geo": {
           "bgcolor": "white",
           "lakecolor": "white",
           "landcolor": "white",
           "showlakes": true,
           "showland": true,
           "subunitcolor": "#C8D4E3"
          },
          "hoverlabel": {
           "align": "left"
          },
          "hovermode": "closest",
          "mapbox": {
           "style": "light"
          },
          "paper_bgcolor": "white",
          "plot_bgcolor": "white",
          "polar": {
           "angularaxis": {
            "gridcolor": "#EBF0F8",
            "linecolor": "#EBF0F8",
            "ticks": ""
           },
           "bgcolor": "white",
           "radialaxis": {
            "gridcolor": "#EBF0F8",
            "linecolor": "#EBF0F8",
            "ticks": ""
           }
          },
          "scene": {
           "xaxis": {
            "backgroundcolor": "white",
            "gridcolor": "#DFE8F3",
            "gridwidth": 2,
            "linecolor": "#EBF0F8",
            "showbackground": true,
            "ticks": "",
            "zerolinecolor": "#EBF0F8"
           },
           "yaxis": {
            "backgroundcolor": "white",
            "gridcolor": "#DFE8F3",
            "gridwidth": 2,
            "linecolor": "#EBF0F8",
            "showbackground": true,
            "ticks": "",
            "zerolinecolor": "#EBF0F8"
           },
           "zaxis": {
            "backgroundcolor": "white",
            "gridcolor": "#DFE8F3",
            "gridwidth": 2,
            "linecolor": "#EBF0F8",
            "showbackground": true,
            "ticks": "",
            "zerolinecolor": "#EBF0F8"
           }
          },
          "shapedefaults": {
           "line": {
            "color": "#2a3f5f"
           }
          },
          "ternary": {
           "aaxis": {
            "gridcolor": "#DFE8F3",
            "linecolor": "#A2B1C6",
            "ticks": ""
           },
           "baxis": {
            "gridcolor": "#DFE8F3",
            "linecolor": "#A2B1C6",
            "ticks": ""
           },
           "bgcolor": "white",
           "caxis": {
            "gridcolor": "#DFE8F3",
            "linecolor": "#A2B1C6",
            "ticks": ""
           }
          },
          "title": {
           "x": 0.05
          },
          "xaxis": {
           "automargin": true,
           "gridcolor": "#EBF0F8",
           "linecolor": "#EBF0F8",
           "ticks": "",
           "title": {
            "standoff": 15
           },
           "zerolinecolor": "#EBF0F8",
           "zerolinewidth": 2
          },
          "yaxis": {
           "automargin": true,
           "gridcolor": "#EBF0F8",
           "linecolor": "#EBF0F8",
           "ticks": "",
           "title": {
            "standoff": 15
           },
           "zerolinecolor": "#EBF0F8",
           "zerolinewidth": 2
          }
         }
        },
        "title": {
         "text": "Sentiment Spikes Over Time"
        },
        "width": 900,
        "xaxis": {
         "title": {
          "text": "Date"
         }
        },
        "yaxis": {
         "title": {
          "text": "Sentiment Score"
         }
        }
       }
      }
     },
     "metadata": {},
     "output_type": "display_data"
    }
   ],
   "source": [
    "fig = plot_sentiment_spikes(df_price)"
   ]
  },
  {
   "cell_type": "code",
   "execution_count": 1,
   "id": "de61abdd",
   "metadata": {},
   "outputs": [
    {
     "name": "stderr",
     "output_type": "stream",
     "text": [
      "\u001b[32m2025-06-22 20:21:48.462\u001b[0m | \u001b[34m\u001b[1mDEBUG   \u001b[0m | \u001b[36mkrazy.utility_functions\u001b[0m:\u001b[33mconfigure:1048\u001b[0m - \u001b[34m\u001b[1mLogger initialized at: C:\\Users\\dhaan\\OneDrive\\Documents\\Python\\AI Project\\logs\\stock_analyzer.log\u001b[0m\n",
      "\u001b[32m2025-06-22 20:21:48.932\u001b[0m | \u001b[34m\u001b[1mDEBUG   \u001b[0m | \u001b[36mdata_processing\u001b[0m:\u001b[33mmerge_tables:72\u001b[0m - \u001b[34m\u001b[1mUpdating sentiment score in stock prices table\u001b[0m\n",
      "\u001b[32m2025-06-22 20:21:48.932\u001b[0m | \u001b[34m\u001b[1mDEBUG   \u001b[0m | \u001b[36mdata_processing\u001b[0m:\u001b[33mmerge_tables:83\u001b[0m - \u001b[34m\u001b[1mStock prices updated with article count and sentiment score successfully\u001b[0m\n"
     ]
    },
    {
     "data": {
      "application/vnd.microsoft.datawrangler.viewer.v0+json": {
       "columns": [
        {
         "name": "index",
         "rawType": "int64",
         "type": "integer"
        },
        {
         "name": "index",
         "rawType": "int64",
         "type": "integer"
        },
        {
         "name": "row_id",
         "rawType": "int64",
         "type": "integer"
        },
        {
         "name": "date",
         "rawType": "object",
         "type": "unknown"
        },
        {
         "name": "Close",
         "rawType": "float64",
         "type": "float"
        },
        {
         "name": "High",
         "rawType": "float64",
         "type": "float"
        },
        {
         "name": "Low",
         "rawType": "float64",
         "type": "float"
        },
        {
         "name": "Open",
         "rawType": "float64",
         "type": "float"
        },
        {
         "name": "Volume",
         "rawType": "int64",
         "type": "integer"
        },
        {
         "name": "runtime",
         "rawType": "object",
         "type": "unknown"
        },
        {
         "name": "pct_change",
         "rawType": "object",
         "type": "unknown"
        },
        {
         "name": "time_stamp",
         "rawType": "object",
         "type": "unknown"
        },
        {
         "name": "stock_code",
         "rawType": "object",
         "type": "string"
        },
        {
         "name": "unique_key",
         "rawType": "object",
         "type": "string"
        },
        {
         "name": "Date",
         "rawType": "object",
         "type": "unknown"
        },
        {
         "name": "index_x",
         "rawType": "int64",
         "type": "integer"
        },
        {
         "name": "level_0",
         "rawType": "int64",
         "type": "integer"
        },
        {
         "name": "index_y",
         "rawType": "float64",
         "type": "float"
        },
        {
         "name": "article_count",
         "rawType": "float64",
         "type": "float"
        },
        {
         "name": "sentiment_score",
         "rawType": "float64",
         "type": "float"
        }
       ],
       "ref": "875794fb-9513-4a7b-920a-e7dab4c9796c",
       "rows": [
        [
         "0",
         "0",
         "10",
         "2025-05-23",
         "195.27000427246094",
         "197.6999969482422",
         "193.4600067138672",
         "193.6699981689453",
         "78432900",
         null,
         null,
         "2025-05-23",
         "AAPL",
         "AAPL:2025-05-23",
         "2025-05-23",
         "9",
         "9",
         "2.0",
         "12.0",
         "-0.008633333333333331"
        ],
        [
         "1",
         "1",
         "11",
         "2025-05-27",
         "200.2100067138672",
         "200.74000549316406",
         "197.42999267578125",
         "198.3000030517578",
         "56288500",
         null,
         null,
         "2025-05-27",
         "AAPL",
         "AAPL:2025-05-27",
         "2025-05-27",
         "10",
         "10",
         "6.0",
         "15.0",
         "-0.06455999999999999"
        ],
        [
         "2",
         "2",
         "12",
         "2025-05-28",
         "200.4199981689453",
         "202.72999572753906",
         "199.89999389648438",
         "200.58999633789062",
         "45339700",
         null,
         null,
         "2025-05-28",
         "AAPL",
         "AAPL:2025-05-28",
         "2025-05-28",
         "11",
         "11",
         "7.0",
         "6.0",
         "-0.015266666666666687"
        ],
        [
         "3",
         "3",
         "13",
         "2025-05-29",
         "199.9499969482422",
         "203.80999755859375",
         "198.50999450683594",
         "203.5800018310547",
         "51396800",
         null,
         null,
         "2025-05-29",
         "AAPL",
         "AAPL:2025-05-29",
         "2025-05-29",
         "12",
         "12",
         "8.0",
         "8.0",
         "0.101"
        ],
        [
         "4",
         "4",
         "14",
         "2025-05-30",
         "200.85000610351562",
         "201.9600067138672",
         "196.77999877929688",
         "199.3699951171875",
         "70819900",
         null,
         null,
         "2025-05-30",
         "AAPL",
         "AAPL:2025-05-30",
         "2025-05-30",
         "13",
         "13",
         "9.0",
         "7.0",
         "0.05502857142857143"
        ],
        [
         "5",
         "5",
         "15",
         "2025-06-02",
         "201.6999969482422",
         "202.1300048828125",
         "200.1199951171875",
         "200.27999877929688",
         "35423300",
         null,
         null,
         "2025-06-02",
         "AAPL",
         "AAPL:2025-06-02",
         "2025-06-02",
         "14",
         "14",
         "12.0",
         "4.0",
         "0.325525"
        ],
        [
         "6",
         "6",
         "16",
         "2025-06-03",
         "203.27000427246094",
         "203.77000427246094",
         "200.9600067138672",
         "201.35000610351562",
         "46381600",
         null,
         null,
         "2025-06-03",
         "AAPL",
         "AAPL:2025-06-03",
         "2025-06-03",
         "15",
         "15",
         "13.0",
         "3.0",
         "-0.038633333333333325"
        ],
        [
         "7",
         "7",
         "17",
         "2025-06-04",
         "202.82000732421875",
         "206.24000549316406",
         "202.10000610351562",
         "202.91000366210938",
         "43604000",
         null,
         null,
         "2025-06-04",
         "AAPL",
         "AAPL:2025-06-04",
         "2025-06-04",
         "16",
         "16",
         "14.0",
         "6.0",
         "-0.13128333333333334"
        ],
        [
         "8",
         "8",
         "18",
         "2025-06-05",
         "200.6300048828125",
         "204.75",
         "200.14999389648438",
         "203.5",
         "55126100",
         null,
         null,
         "2025-06-05",
         "AAPL",
         "AAPL:2025-06-05",
         "2025-06-05",
         "17",
         "17",
         "15.0",
         "7.0",
         "-0.07455714285714286"
        ],
        [
         "9",
         "9",
         "19",
         "2025-06-06",
         "203.9199981689453",
         "205.6999969482422",
         "202.0500030517578",
         "203.0",
         "46607700",
         null,
         null,
         "2025-06-06",
         "AAPL",
         "AAPL:2025-06-06",
         "2025-06-06",
         "18",
         "18",
         "16.0",
         "4.0",
         "0.221725"
        ],
        [
         "10",
         "10",
         "20",
         "2025-06-09",
         "201.4499969482422",
         "206.0",
         "200.02000427246094",
         "204.38999938964844",
         "72862600",
         null,
         null,
         "2025-06-09",
         "AAPL",
         "AAPL:2025-06-09",
         "2025-06-09",
         "19",
         "19",
         "18.0",
         "4.0",
         "0.025675"
        ],
        [
         "11",
         "11",
         "21",
         "2025-06-10",
         "202.6699981689453",
         "204.35000610351562",
         "200.57000732421875",
         "200.60000610351562",
         "54672600",
         null,
         null,
         "2025-06-10",
         "AAPL",
         "AAPL:2025-06-10",
         "2025-06-10",
         "20",
         "20",
         "19.0",
         "5.0",
         "-0.005120000000000001"
        ],
        [
         "12",
         "12",
         "1",
         "2025-05-12",
         "210.7899932861328",
         "211.27000427246094",
         "206.75",
         "210.97000122070312",
         "63775800",
         null,
         null,
         "2025-05-12",
         "AAPL",
         "AAPL:2025-05-12",
         "2025-05-12",
         "0",
         "0",
         "0.0",
         "1.0",
         "0.4404"
        ],
        [
         "13",
         "13",
         "2",
         "2025-05-13",
         "212.92999267578125",
         "213.39999389648438",
         "209.0",
         "210.42999267578125",
         "51909300",
         null,
         null,
         "2025-05-13",
         "AAPL",
         "AAPL:2025-05-13",
         "2025-05-13",
         "1",
         "1",
         null,
         null,
         null
        ],
        [
         "14",
         "14",
         "3",
         "2025-05-14",
         "212.3300018310547",
         "213.94000244140625",
         "210.5800018310547",
         "212.42999267578125",
         "49325800",
         null,
         null,
         "2025-05-14",
         "AAPL",
         "AAPL:2025-05-14",
         "2025-05-14",
         "2",
         "2",
         null,
         null,
         null
        ],
        [
         "15",
         "15",
         "4",
         "2025-05-15",
         "211.4499969482422",
         "212.9600067138672",
         "209.5399932861328",
         "210.9499969482422",
         "45029500",
         null,
         null,
         "2025-05-15",
         "AAPL",
         "AAPL:2025-05-15",
         "2025-05-15",
         "3",
         "3",
         null,
         null,
         null
        ],
        [
         "16",
         "16",
         "5",
         "2025-05-16",
         "211.25999450683594",
         "212.57000732421875",
         "209.77000427246094",
         "212.36000061035156",
         "54737900",
         null,
         null,
         "2025-05-16",
         "AAPL",
         "AAPL:2025-05-16",
         "2025-05-16",
         "4",
         "4",
         null,
         null,
         null
        ],
        [
         "17",
         "17",
         "6",
         "2025-05-19",
         "208.77999877929688",
         "209.47999572753906",
         "204.25999450683594",
         "207.91000366210938",
         "46140500",
         null,
         null,
         "2025-05-19",
         "AAPL",
         "AAPL:2025-05-19",
         "2025-05-19",
         "5",
         "5",
         null,
         null,
         null
        ],
        [
         "18",
         "18",
         "7",
         "2025-05-20",
         "206.86000061035156",
         "208.47000122070312",
         "205.02999877929688",
         "207.6699981689453",
         "42496600",
         null,
         null,
         "2025-05-20",
         "AAPL",
         "AAPL:2025-05-20",
         "2025-05-20",
         "6",
         "6",
         null,
         null,
         null
        ],
        [
         "19",
         "19",
         "8",
         "2025-05-21",
         "202.08999633789062",
         "207.0399932861328",
         "200.7100067138672",
         "205.1699981689453",
         "59211800",
         null,
         null,
         "2025-05-21",
         "AAPL",
         "AAPL:2025-05-21",
         "2025-05-21",
         "7",
         "7",
         null,
         null,
         null
        ],
        [
         "20",
         "20",
         "9",
         "2025-05-22",
         "201.36000061035156",
         "202.75",
         "199.6999969482422",
         "200.7100067138672",
         "46742400",
         null,
         null,
         "2025-05-22",
         "AAPL",
         "AAPL:2025-05-22",
         "2025-05-22",
         "8",
         "8",
         "1.0",
         "3.0",
         "0.13396666666666665"
        ]
       ],
       "shape": {
        "columns": 19,
        "rows": 21
       }
      },
      "text/html": [
       "<div>\n",
       "<style scoped>\n",
       "    .dataframe tbody tr th:only-of-type {\n",
       "        vertical-align: middle;\n",
       "    }\n",
       "\n",
       "    .dataframe tbody tr th {\n",
       "        vertical-align: top;\n",
       "    }\n",
       "\n",
       "    .dataframe thead th {\n",
       "        text-align: right;\n",
       "    }\n",
       "</style>\n",
       "<table border=\"1\" class=\"dataframe\">\n",
       "  <thead>\n",
       "    <tr style=\"text-align: right;\">\n",
       "      <th></th>\n",
       "      <th>index</th>\n",
       "      <th>row_id</th>\n",
       "      <th>date</th>\n",
       "      <th>Close</th>\n",
       "      <th>High</th>\n",
       "      <th>Low</th>\n",
       "      <th>Open</th>\n",
       "      <th>Volume</th>\n",
       "      <th>runtime</th>\n",
       "      <th>pct_change</th>\n",
       "      <th>time_stamp</th>\n",
       "      <th>stock_code</th>\n",
       "      <th>unique_key</th>\n",
       "      <th>Date</th>\n",
       "      <th>index_x</th>\n",
       "      <th>level_0</th>\n",
       "      <th>index_y</th>\n",
       "      <th>article_count</th>\n",
       "      <th>sentiment_score</th>\n",
       "    </tr>\n",
       "  </thead>\n",
       "  <tbody>\n",
       "    <tr>\n",
       "      <th>0</th>\n",
       "      <td>0</td>\n",
       "      <td>10</td>\n",
       "      <td>2025-05-23</td>\n",
       "      <td>195.270004</td>\n",
       "      <td>197.699997</td>\n",
       "      <td>193.460007</td>\n",
       "      <td>193.669998</td>\n",
       "      <td>78432900</td>\n",
       "      <td>None</td>\n",
       "      <td>None</td>\n",
       "      <td>2025-05-23</td>\n",
       "      <td>AAPL</td>\n",
       "      <td>AAPL:2025-05-23</td>\n",
       "      <td>2025-05-23</td>\n",
       "      <td>9</td>\n",
       "      <td>9</td>\n",
       "      <td>2.0</td>\n",
       "      <td>12.0</td>\n",
       "      <td>-0.008633</td>\n",
       "    </tr>\n",
       "    <tr>\n",
       "      <th>1</th>\n",
       "      <td>1</td>\n",
       "      <td>11</td>\n",
       "      <td>2025-05-27</td>\n",
       "      <td>200.210007</td>\n",
       "      <td>200.740005</td>\n",
       "      <td>197.429993</td>\n",
       "      <td>198.300003</td>\n",
       "      <td>56288500</td>\n",
       "      <td>None</td>\n",
       "      <td>None</td>\n",
       "      <td>2025-05-27</td>\n",
       "      <td>AAPL</td>\n",
       "      <td>AAPL:2025-05-27</td>\n",
       "      <td>2025-05-27</td>\n",
       "      <td>10</td>\n",
       "      <td>10</td>\n",
       "      <td>6.0</td>\n",
       "      <td>15.0</td>\n",
       "      <td>-0.064560</td>\n",
       "    </tr>\n",
       "    <tr>\n",
       "      <th>2</th>\n",
       "      <td>2</td>\n",
       "      <td>12</td>\n",
       "      <td>2025-05-28</td>\n",
       "      <td>200.419998</td>\n",
       "      <td>202.729996</td>\n",
       "      <td>199.899994</td>\n",
       "      <td>200.589996</td>\n",
       "      <td>45339700</td>\n",
       "      <td>None</td>\n",
       "      <td>None</td>\n",
       "      <td>2025-05-28</td>\n",
       "      <td>AAPL</td>\n",
       "      <td>AAPL:2025-05-28</td>\n",
       "      <td>2025-05-28</td>\n",
       "      <td>11</td>\n",
       "      <td>11</td>\n",
       "      <td>7.0</td>\n",
       "      <td>6.0</td>\n",
       "      <td>-0.015267</td>\n",
       "    </tr>\n",
       "    <tr>\n",
       "      <th>3</th>\n",
       "      <td>3</td>\n",
       "      <td>13</td>\n",
       "      <td>2025-05-29</td>\n",
       "      <td>199.949997</td>\n",
       "      <td>203.809998</td>\n",
       "      <td>198.509995</td>\n",
       "      <td>203.580002</td>\n",
       "      <td>51396800</td>\n",
       "      <td>None</td>\n",
       "      <td>None</td>\n",
       "      <td>2025-05-29</td>\n",
       "      <td>AAPL</td>\n",
       "      <td>AAPL:2025-05-29</td>\n",
       "      <td>2025-05-29</td>\n",
       "      <td>12</td>\n",
       "      <td>12</td>\n",
       "      <td>8.0</td>\n",
       "      <td>8.0</td>\n",
       "      <td>0.101000</td>\n",
       "    </tr>\n",
       "    <tr>\n",
       "      <th>4</th>\n",
       "      <td>4</td>\n",
       "      <td>14</td>\n",
       "      <td>2025-05-30</td>\n",
       "      <td>200.850006</td>\n",
       "      <td>201.960007</td>\n",
       "      <td>196.779999</td>\n",
       "      <td>199.369995</td>\n",
       "      <td>70819900</td>\n",
       "      <td>None</td>\n",
       "      <td>None</td>\n",
       "      <td>2025-05-30</td>\n",
       "      <td>AAPL</td>\n",
       "      <td>AAPL:2025-05-30</td>\n",
       "      <td>2025-05-30</td>\n",
       "      <td>13</td>\n",
       "      <td>13</td>\n",
       "      <td>9.0</td>\n",
       "      <td>7.0</td>\n",
       "      <td>0.055029</td>\n",
       "    </tr>\n",
       "    <tr>\n",
       "      <th>5</th>\n",
       "      <td>5</td>\n",
       "      <td>15</td>\n",
       "      <td>2025-06-02</td>\n",
       "      <td>201.699997</td>\n",
       "      <td>202.130005</td>\n",
       "      <td>200.119995</td>\n",
       "      <td>200.279999</td>\n",
       "      <td>35423300</td>\n",
       "      <td>None</td>\n",
       "      <td>None</td>\n",
       "      <td>2025-06-02</td>\n",
       "      <td>AAPL</td>\n",
       "      <td>AAPL:2025-06-02</td>\n",
       "      <td>2025-06-02</td>\n",
       "      <td>14</td>\n",
       "      <td>14</td>\n",
       "      <td>12.0</td>\n",
       "      <td>4.0</td>\n",
       "      <td>0.325525</td>\n",
       "    </tr>\n",
       "    <tr>\n",
       "      <th>6</th>\n",
       "      <td>6</td>\n",
       "      <td>16</td>\n",
       "      <td>2025-06-03</td>\n",
       "      <td>203.270004</td>\n",
       "      <td>203.770004</td>\n",
       "      <td>200.960007</td>\n",
       "      <td>201.350006</td>\n",
       "      <td>46381600</td>\n",
       "      <td>None</td>\n",
       "      <td>None</td>\n",
       "      <td>2025-06-03</td>\n",
       "      <td>AAPL</td>\n",
       "      <td>AAPL:2025-06-03</td>\n",
       "      <td>2025-06-03</td>\n",
       "      <td>15</td>\n",
       "      <td>15</td>\n",
       "      <td>13.0</td>\n",
       "      <td>3.0</td>\n",
       "      <td>-0.038633</td>\n",
       "    </tr>\n",
       "    <tr>\n",
       "      <th>7</th>\n",
       "      <td>7</td>\n",
       "      <td>17</td>\n",
       "      <td>2025-06-04</td>\n",
       "      <td>202.820007</td>\n",
       "      <td>206.240005</td>\n",
       "      <td>202.100006</td>\n",
       "      <td>202.910004</td>\n",
       "      <td>43604000</td>\n",
       "      <td>None</td>\n",
       "      <td>None</td>\n",
       "      <td>2025-06-04</td>\n",
       "      <td>AAPL</td>\n",
       "      <td>AAPL:2025-06-04</td>\n",
       "      <td>2025-06-04</td>\n",
       "      <td>16</td>\n",
       "      <td>16</td>\n",
       "      <td>14.0</td>\n",
       "      <td>6.0</td>\n",
       "      <td>-0.131283</td>\n",
       "    </tr>\n",
       "    <tr>\n",
       "      <th>8</th>\n",
       "      <td>8</td>\n",
       "      <td>18</td>\n",
       "      <td>2025-06-05</td>\n",
       "      <td>200.630005</td>\n",
       "      <td>204.750000</td>\n",
       "      <td>200.149994</td>\n",
       "      <td>203.500000</td>\n",
       "      <td>55126100</td>\n",
       "      <td>None</td>\n",
       "      <td>None</td>\n",
       "      <td>2025-06-05</td>\n",
       "      <td>AAPL</td>\n",
       "      <td>AAPL:2025-06-05</td>\n",
       "      <td>2025-06-05</td>\n",
       "      <td>17</td>\n",
       "      <td>17</td>\n",
       "      <td>15.0</td>\n",
       "      <td>7.0</td>\n",
       "      <td>-0.074557</td>\n",
       "    </tr>\n",
       "    <tr>\n",
       "      <th>9</th>\n",
       "      <td>9</td>\n",
       "      <td>19</td>\n",
       "      <td>2025-06-06</td>\n",
       "      <td>203.919998</td>\n",
       "      <td>205.699997</td>\n",
       "      <td>202.050003</td>\n",
       "      <td>203.000000</td>\n",
       "      <td>46607700</td>\n",
       "      <td>None</td>\n",
       "      <td>None</td>\n",
       "      <td>2025-06-06</td>\n",
       "      <td>AAPL</td>\n",
       "      <td>AAPL:2025-06-06</td>\n",
       "      <td>2025-06-06</td>\n",
       "      <td>18</td>\n",
       "      <td>18</td>\n",
       "      <td>16.0</td>\n",
       "      <td>4.0</td>\n",
       "      <td>0.221725</td>\n",
       "    </tr>\n",
       "    <tr>\n",
       "      <th>10</th>\n",
       "      <td>10</td>\n",
       "      <td>20</td>\n",
       "      <td>2025-06-09</td>\n",
       "      <td>201.449997</td>\n",
       "      <td>206.000000</td>\n",
       "      <td>200.020004</td>\n",
       "      <td>204.389999</td>\n",
       "      <td>72862600</td>\n",
       "      <td>None</td>\n",
       "      <td>None</td>\n",
       "      <td>2025-06-09</td>\n",
       "      <td>AAPL</td>\n",
       "      <td>AAPL:2025-06-09</td>\n",
       "      <td>2025-06-09</td>\n",
       "      <td>19</td>\n",
       "      <td>19</td>\n",
       "      <td>18.0</td>\n",
       "      <td>4.0</td>\n",
       "      <td>0.025675</td>\n",
       "    </tr>\n",
       "    <tr>\n",
       "      <th>11</th>\n",
       "      <td>11</td>\n",
       "      <td>21</td>\n",
       "      <td>2025-06-10</td>\n",
       "      <td>202.669998</td>\n",
       "      <td>204.350006</td>\n",
       "      <td>200.570007</td>\n",
       "      <td>200.600006</td>\n",
       "      <td>54672600</td>\n",
       "      <td>None</td>\n",
       "      <td>None</td>\n",
       "      <td>2025-06-10</td>\n",
       "      <td>AAPL</td>\n",
       "      <td>AAPL:2025-06-10</td>\n",
       "      <td>2025-06-10</td>\n",
       "      <td>20</td>\n",
       "      <td>20</td>\n",
       "      <td>19.0</td>\n",
       "      <td>5.0</td>\n",
       "      <td>-0.005120</td>\n",
       "    </tr>\n",
       "    <tr>\n",
       "      <th>12</th>\n",
       "      <td>12</td>\n",
       "      <td>1</td>\n",
       "      <td>2025-05-12</td>\n",
       "      <td>210.789993</td>\n",
       "      <td>211.270004</td>\n",
       "      <td>206.750000</td>\n",
       "      <td>210.970001</td>\n",
       "      <td>63775800</td>\n",
       "      <td>None</td>\n",
       "      <td>None</td>\n",
       "      <td>2025-05-12</td>\n",
       "      <td>AAPL</td>\n",
       "      <td>AAPL:2025-05-12</td>\n",
       "      <td>2025-05-12</td>\n",
       "      <td>0</td>\n",
       "      <td>0</td>\n",
       "      <td>0.0</td>\n",
       "      <td>1.0</td>\n",
       "      <td>0.440400</td>\n",
       "    </tr>\n",
       "    <tr>\n",
       "      <th>13</th>\n",
       "      <td>13</td>\n",
       "      <td>2</td>\n",
       "      <td>2025-05-13</td>\n",
       "      <td>212.929993</td>\n",
       "      <td>213.399994</td>\n",
       "      <td>209.000000</td>\n",
       "      <td>210.429993</td>\n",
       "      <td>51909300</td>\n",
       "      <td>None</td>\n",
       "      <td>None</td>\n",
       "      <td>2025-05-13</td>\n",
       "      <td>AAPL</td>\n",
       "      <td>AAPL:2025-05-13</td>\n",
       "      <td>2025-05-13</td>\n",
       "      <td>1</td>\n",
       "      <td>1</td>\n",
       "      <td>NaN</td>\n",
       "      <td>NaN</td>\n",
       "      <td>NaN</td>\n",
       "    </tr>\n",
       "    <tr>\n",
       "      <th>14</th>\n",
       "      <td>14</td>\n",
       "      <td>3</td>\n",
       "      <td>2025-05-14</td>\n",
       "      <td>212.330002</td>\n",
       "      <td>213.940002</td>\n",
       "      <td>210.580002</td>\n",
       "      <td>212.429993</td>\n",
       "      <td>49325800</td>\n",
       "      <td>None</td>\n",
       "      <td>None</td>\n",
       "      <td>2025-05-14</td>\n",
       "      <td>AAPL</td>\n",
       "      <td>AAPL:2025-05-14</td>\n",
       "      <td>2025-05-14</td>\n",
       "      <td>2</td>\n",
       "      <td>2</td>\n",
       "      <td>NaN</td>\n",
       "      <td>NaN</td>\n",
       "      <td>NaN</td>\n",
       "    </tr>\n",
       "    <tr>\n",
       "      <th>15</th>\n",
       "      <td>15</td>\n",
       "      <td>4</td>\n",
       "      <td>2025-05-15</td>\n",
       "      <td>211.449997</td>\n",
       "      <td>212.960007</td>\n",
       "      <td>209.539993</td>\n",
       "      <td>210.949997</td>\n",
       "      <td>45029500</td>\n",
       "      <td>None</td>\n",
       "      <td>None</td>\n",
       "      <td>2025-05-15</td>\n",
       "      <td>AAPL</td>\n",
       "      <td>AAPL:2025-05-15</td>\n",
       "      <td>2025-05-15</td>\n",
       "      <td>3</td>\n",
       "      <td>3</td>\n",
       "      <td>NaN</td>\n",
       "      <td>NaN</td>\n",
       "      <td>NaN</td>\n",
       "    </tr>\n",
       "    <tr>\n",
       "      <th>16</th>\n",
       "      <td>16</td>\n",
       "      <td>5</td>\n",
       "      <td>2025-05-16</td>\n",
       "      <td>211.259995</td>\n",
       "      <td>212.570007</td>\n",
       "      <td>209.770004</td>\n",
       "      <td>212.360001</td>\n",
       "      <td>54737900</td>\n",
       "      <td>None</td>\n",
       "      <td>None</td>\n",
       "      <td>2025-05-16</td>\n",
       "      <td>AAPL</td>\n",
       "      <td>AAPL:2025-05-16</td>\n",
       "      <td>2025-05-16</td>\n",
       "      <td>4</td>\n",
       "      <td>4</td>\n",
       "      <td>NaN</td>\n",
       "      <td>NaN</td>\n",
       "      <td>NaN</td>\n",
       "    </tr>\n",
       "    <tr>\n",
       "      <th>17</th>\n",
       "      <td>17</td>\n",
       "      <td>6</td>\n",
       "      <td>2025-05-19</td>\n",
       "      <td>208.779999</td>\n",
       "      <td>209.479996</td>\n",
       "      <td>204.259995</td>\n",
       "      <td>207.910004</td>\n",
       "      <td>46140500</td>\n",
       "      <td>None</td>\n",
       "      <td>None</td>\n",
       "      <td>2025-05-19</td>\n",
       "      <td>AAPL</td>\n",
       "      <td>AAPL:2025-05-19</td>\n",
       "      <td>2025-05-19</td>\n",
       "      <td>5</td>\n",
       "      <td>5</td>\n",
       "      <td>NaN</td>\n",
       "      <td>NaN</td>\n",
       "      <td>NaN</td>\n",
       "    </tr>\n",
       "    <tr>\n",
       "      <th>18</th>\n",
       "      <td>18</td>\n",
       "      <td>7</td>\n",
       "      <td>2025-05-20</td>\n",
       "      <td>206.860001</td>\n",
       "      <td>208.470001</td>\n",
       "      <td>205.029999</td>\n",
       "      <td>207.669998</td>\n",
       "      <td>42496600</td>\n",
       "      <td>None</td>\n",
       "      <td>None</td>\n",
       "      <td>2025-05-20</td>\n",
       "      <td>AAPL</td>\n",
       "      <td>AAPL:2025-05-20</td>\n",
       "      <td>2025-05-20</td>\n",
       "      <td>6</td>\n",
       "      <td>6</td>\n",
       "      <td>NaN</td>\n",
       "      <td>NaN</td>\n",
       "      <td>NaN</td>\n",
       "    </tr>\n",
       "    <tr>\n",
       "      <th>19</th>\n",
       "      <td>19</td>\n",
       "      <td>8</td>\n",
       "      <td>2025-05-21</td>\n",
       "      <td>202.089996</td>\n",
       "      <td>207.039993</td>\n",
       "      <td>200.710007</td>\n",
       "      <td>205.169998</td>\n",
       "      <td>59211800</td>\n",
       "      <td>None</td>\n",
       "      <td>None</td>\n",
       "      <td>2025-05-21</td>\n",
       "      <td>AAPL</td>\n",
       "      <td>AAPL:2025-05-21</td>\n",
       "      <td>2025-05-21</td>\n",
       "      <td>7</td>\n",
       "      <td>7</td>\n",
       "      <td>NaN</td>\n",
       "      <td>NaN</td>\n",
       "      <td>NaN</td>\n",
       "    </tr>\n",
       "    <tr>\n",
       "      <th>20</th>\n",
       "      <td>20</td>\n",
       "      <td>9</td>\n",
       "      <td>2025-05-22</td>\n",
       "      <td>201.360001</td>\n",
       "      <td>202.750000</td>\n",
       "      <td>199.699997</td>\n",
       "      <td>200.710007</td>\n",
       "      <td>46742400</td>\n",
       "      <td>None</td>\n",
       "      <td>None</td>\n",
       "      <td>2025-05-22</td>\n",
       "      <td>AAPL</td>\n",
       "      <td>AAPL:2025-05-22</td>\n",
       "      <td>2025-05-22</td>\n",
       "      <td>8</td>\n",
       "      <td>8</td>\n",
       "      <td>1.0</td>\n",
       "      <td>3.0</td>\n",
       "      <td>0.133967</td>\n",
       "    </tr>\n",
       "  </tbody>\n",
       "</table>\n",
       "</div>"
      ],
      "text/plain": [
       "    index  row_id        date       Close        High         Low        Open  \\\n",
       "0       0      10  2025-05-23  195.270004  197.699997  193.460007  193.669998   \n",
       "1       1      11  2025-05-27  200.210007  200.740005  197.429993  198.300003   \n",
       "2       2      12  2025-05-28  200.419998  202.729996  199.899994  200.589996   \n",
       "3       3      13  2025-05-29  199.949997  203.809998  198.509995  203.580002   \n",
       "4       4      14  2025-05-30  200.850006  201.960007  196.779999  199.369995   \n",
       "5       5      15  2025-06-02  201.699997  202.130005  200.119995  200.279999   \n",
       "6       6      16  2025-06-03  203.270004  203.770004  200.960007  201.350006   \n",
       "7       7      17  2025-06-04  202.820007  206.240005  202.100006  202.910004   \n",
       "8       8      18  2025-06-05  200.630005  204.750000  200.149994  203.500000   \n",
       "9       9      19  2025-06-06  203.919998  205.699997  202.050003  203.000000   \n",
       "10     10      20  2025-06-09  201.449997  206.000000  200.020004  204.389999   \n",
       "11     11      21  2025-06-10  202.669998  204.350006  200.570007  200.600006   \n",
       "12     12       1  2025-05-12  210.789993  211.270004  206.750000  210.970001   \n",
       "13     13       2  2025-05-13  212.929993  213.399994  209.000000  210.429993   \n",
       "14     14       3  2025-05-14  212.330002  213.940002  210.580002  212.429993   \n",
       "15     15       4  2025-05-15  211.449997  212.960007  209.539993  210.949997   \n",
       "16     16       5  2025-05-16  211.259995  212.570007  209.770004  212.360001   \n",
       "17     17       6  2025-05-19  208.779999  209.479996  204.259995  207.910004   \n",
       "18     18       7  2025-05-20  206.860001  208.470001  205.029999  207.669998   \n",
       "19     19       8  2025-05-21  202.089996  207.039993  200.710007  205.169998   \n",
       "20     20       9  2025-05-22  201.360001  202.750000  199.699997  200.710007   \n",
       "\n",
       "      Volume runtime pct_change  time_stamp stock_code       unique_key  \\\n",
       "0   78432900    None       None  2025-05-23       AAPL  AAPL:2025-05-23   \n",
       "1   56288500    None       None  2025-05-27       AAPL  AAPL:2025-05-27   \n",
       "2   45339700    None       None  2025-05-28       AAPL  AAPL:2025-05-28   \n",
       "3   51396800    None       None  2025-05-29       AAPL  AAPL:2025-05-29   \n",
       "4   70819900    None       None  2025-05-30       AAPL  AAPL:2025-05-30   \n",
       "5   35423300    None       None  2025-06-02       AAPL  AAPL:2025-06-02   \n",
       "6   46381600    None       None  2025-06-03       AAPL  AAPL:2025-06-03   \n",
       "7   43604000    None       None  2025-06-04       AAPL  AAPL:2025-06-04   \n",
       "8   55126100    None       None  2025-06-05       AAPL  AAPL:2025-06-05   \n",
       "9   46607700    None       None  2025-06-06       AAPL  AAPL:2025-06-06   \n",
       "10  72862600    None       None  2025-06-09       AAPL  AAPL:2025-06-09   \n",
       "11  54672600    None       None  2025-06-10       AAPL  AAPL:2025-06-10   \n",
       "12  63775800    None       None  2025-05-12       AAPL  AAPL:2025-05-12   \n",
       "13  51909300    None       None  2025-05-13       AAPL  AAPL:2025-05-13   \n",
       "14  49325800    None       None  2025-05-14       AAPL  AAPL:2025-05-14   \n",
       "15  45029500    None       None  2025-05-15       AAPL  AAPL:2025-05-15   \n",
       "16  54737900    None       None  2025-05-16       AAPL  AAPL:2025-05-16   \n",
       "17  46140500    None       None  2025-05-19       AAPL  AAPL:2025-05-19   \n",
       "18  42496600    None       None  2025-05-20       AAPL  AAPL:2025-05-20   \n",
       "19  59211800    None       None  2025-05-21       AAPL  AAPL:2025-05-21   \n",
       "20  46742400    None       None  2025-05-22       AAPL  AAPL:2025-05-22   \n",
       "\n",
       "          Date  index_x  level_0  index_y  article_count  sentiment_score  \n",
       "0   2025-05-23        9        9      2.0           12.0        -0.008633  \n",
       "1   2025-05-27       10       10      6.0           15.0        -0.064560  \n",
       "2   2025-05-28       11       11      7.0            6.0        -0.015267  \n",
       "3   2025-05-29       12       12      8.0            8.0         0.101000  \n",
       "4   2025-05-30       13       13      9.0            7.0         0.055029  \n",
       "5   2025-06-02       14       14     12.0            4.0         0.325525  \n",
       "6   2025-06-03       15       15     13.0            3.0        -0.038633  \n",
       "7   2025-06-04       16       16     14.0            6.0        -0.131283  \n",
       "8   2025-06-05       17       17     15.0            7.0        -0.074557  \n",
       "9   2025-06-06       18       18     16.0            4.0         0.221725  \n",
       "10  2025-06-09       19       19     18.0            4.0         0.025675  \n",
       "11  2025-06-10       20       20     19.0            5.0        -0.005120  \n",
       "12  2025-05-12        0        0      0.0            1.0         0.440400  \n",
       "13  2025-05-13        1        1      NaN            NaN              NaN  \n",
       "14  2025-05-14        2        2      NaN            NaN              NaN  \n",
       "15  2025-05-15        3        3      NaN            NaN              NaN  \n",
       "16  2025-05-16        4        4      NaN            NaN              NaN  \n",
       "17  2025-05-19        5        5      NaN            NaN              NaN  \n",
       "18  2025-05-20        6        6      NaN            NaN              NaN  \n",
       "19  2025-05-21        7        7      NaN            NaN              NaN  \n",
       "20  2025-05-22        8        8      1.0            3.0         0.133967  "
      ]
     },
     "execution_count": 1,
     "metadata": {},
     "output_type": "execute_result"
    }
   ],
   "source": [
    "from data_processing import merge_tables\n",
    "ticker = \"AAPL\"\n",
    "start_date = \"2025-05-12\"\n",
    "end_date = \"2025-06-11\"\n",
    "\n",
    "table = merge_tables(ticker, start_date, end_date)\n",
    "\n",
    "table"
   ]
  },
  {
   "cell_type": "code",
   "execution_count": 7,
   "id": "14ca71e7",
   "metadata": {},
   "outputs": [],
   "source": [
    "table"
   ]
  },
  {
   "cell_type": "code",
   "execution_count": 10,
   "id": "09304c6d",
   "metadata": {},
   "outputs": [],
   "source": [
    "# import streamlit as st\n",
    "# import pandas as pd\n",
    "# from datetime import datetime, timedelta\n",
    "# import sys\n",
    "# import os\n",
    "# import subprocess\n",
    "# import sqlite3\n",
    "from general import connect_to_db\n",
    "\n",
    "ticker = \"AAPL\"\n",
    "start_date = \"2025-05-12\"\n",
    "end_date = \"2025-06-11\"\n",
    "# sys.path.append(os.path.join(os.path.dirname(__file__), '..', 'backend'))\n",
    "# db_path = os.path.join(os.path.dirname(__file__), '..', 'backend', 'stock_data.db')\n",
    "# conn = sqlite3.connect(db_path)\n",
    "engine = connect_to_db()\n",
    "query_price = f\"\"\"\n",
    "                SELECT * FROM stock_analyzer.stock_prices WHERE stock_code = '{ticker}' AND date BETWEEN '{start_date}' AND '{end_date}' ORDER BY date;\n",
    "            \"\"\"\n",
    "df_price = pd.read_sql_query(query_price, engine)"
   ]
  },
  {
   "cell_type": "code",
   "execution_count": 11,
   "id": "aef3071f",
   "metadata": {},
   "outputs": [
    {
     "data": {
      "application/vnd.microsoft.datawrangler.viewer.v0+json": {
       "columns": [
        {
         "name": "index",
         "rawType": "int64",
         "type": "integer"
        },
        {
         "name": "row_id",
         "rawType": "int64",
         "type": "integer"
        },
        {
         "name": "date",
         "rawType": "object",
         "type": "unknown"
        },
        {
         "name": "Close",
         "rawType": "float64",
         "type": "float"
        },
        {
         "name": "High",
         "rawType": "float64",
         "type": "float"
        },
        {
         "name": "Low",
         "rawType": "float64",
         "type": "float"
        },
        {
         "name": "Open",
         "rawType": "float64",
         "type": "float"
        },
        {
         "name": "Volume",
         "rawType": "int64",
         "type": "integer"
        },
        {
         "name": "runtime",
         "rawType": "object",
         "type": "unknown"
        },
        {
         "name": "pct_change",
         "rawType": "object",
         "type": "unknown"
        },
        {
         "name": "time_stamp",
         "rawType": "object",
         "type": "unknown"
        },
        {
         "name": "stock_code",
         "rawType": "object",
         "type": "string"
        },
        {
         "name": "unique_key",
         "rawType": "object",
         "type": "string"
        },
        {
         "name": "sentiment_score",
         "rawType": "float64",
         "type": "float"
        },
        {
         "name": "article_count",
         "rawType": "float64",
         "type": "float"
        },
        {
         "name": "Date",
         "rawType": "object",
         "type": "unknown"
        }
       ],
       "ref": "5900f569-cf0f-49bd-81d0-90542cdf4c30",
       "rows": [
        [
         "0",
         "1",
         "2025-05-12",
         "210.7899932861328",
         "211.27000427246094",
         "206.75",
         "210.97000122070312",
         "63775800",
         null,
         null,
         "2025-05-12",
         "AAPL",
         "AAPL:2025-05-12",
         "0.4404",
         "1.0",
         "2025-05-12"
        ],
        [
         "1",
         "2",
         "2025-05-13",
         "212.92999267578125",
         "213.39999389648438",
         "209.0",
         "210.42999267578125",
         "51909300",
         null,
         null,
         "2025-05-13",
         "AAPL",
         "AAPL:2025-05-13",
         null,
         null,
         "2025-05-13"
        ],
        [
         "2",
         "3",
         "2025-05-14",
         "212.3300018310547",
         "213.94000244140625",
         "210.5800018310547",
         "212.42999267578125",
         "49325800",
         null,
         null,
         "2025-05-14",
         "AAPL",
         "AAPL:2025-05-14",
         null,
         null,
         "2025-05-14"
        ],
        [
         "3",
         "4",
         "2025-05-15",
         "211.4499969482422",
         "212.9600067138672",
         "209.5399932861328",
         "210.9499969482422",
         "45029500",
         null,
         null,
         "2025-05-15",
         "AAPL",
         "AAPL:2025-05-15",
         "0.0",
         "1.0",
         "2025-05-15"
        ],
        [
         "4",
         "5",
         "2025-05-16",
         "211.25999450683594",
         "212.57000732421875",
         "209.77000427246094",
         "212.36000061035156",
         "54737900",
         null,
         null,
         "2025-05-16",
         "AAPL",
         "AAPL:2025-05-16",
         null,
         null,
         "2025-05-16"
        ],
        [
         "5",
         "6",
         "2025-05-19",
         "208.77999877929688",
         "209.47999572753906",
         "204.25999450683594",
         "207.91000366210938",
         "46140500",
         null,
         null,
         "2025-05-19",
         "AAPL",
         "AAPL:2025-05-19",
         null,
         null,
         "2025-05-19"
        ],
        [
         "6",
         "7",
         "2025-05-20",
         "206.86000061035156",
         "208.47000122070312",
         "205.02999877929688",
         "207.6699981689453",
         "42496600",
         null,
         null,
         "2025-05-20",
         "AAPL",
         "AAPL:2025-05-20",
         null,
         null,
         "2025-05-20"
        ],
        [
         "7",
         "8",
         "2025-05-21",
         "202.08999633789062",
         "207.0399932861328",
         "200.7100067138672",
         "205.1699981689453",
         "59211800",
         null,
         null,
         "2025-05-21",
         "AAPL",
         "AAPL:2025-05-21",
         null,
         null,
         "2025-05-21"
        ],
        [
         "8",
         "9",
         "2025-05-22",
         "201.36000061035156",
         "202.75",
         "199.6999969482422",
         "200.7100067138672",
         "46742400",
         null,
         null,
         "2025-05-22",
         "AAPL",
         "AAPL:2025-05-22",
         "0.13396666666666665",
         "3.0",
         "2025-05-22"
        ],
        [
         "9",
         "10",
         "2025-05-23",
         "195.27000427246094",
         "197.6999969482422",
         "193.4600067138672",
         "193.6699981689453",
         "78432900",
         null,
         null,
         "2025-05-23",
         "AAPL",
         "AAPL:2025-05-23",
         "-0.037338461538461536",
         "13.0",
         "2025-05-23"
        ],
        [
         "10",
         "11",
         "2025-05-27",
         "200.2100067138672",
         "200.74000549316406",
         "197.42999267578125",
         "198.3000030517578",
         "56288500",
         null,
         null,
         "2025-05-27",
         "AAPL",
         "AAPL:2025-05-27",
         "-0.1021",
         "16.0",
         "2025-05-27"
        ],
        [
         "11",
         "12",
         "2025-05-28",
         "200.4199981689453",
         "202.72999572753906",
         "199.89999389648438",
         "200.58999633789062",
         "45339700",
         null,
         null,
         "2025-05-28",
         "AAPL",
         "AAPL:2025-05-28",
         "-0.04376250000000001",
         "8.0",
         "2025-05-28"
        ],
        [
         "12",
         "13",
         "2025-05-29",
         "199.9499969482422",
         "203.80999755859375",
         "198.50999450683594",
         "203.5800018310547",
         "51396800",
         null,
         null,
         "2025-05-29",
         "AAPL",
         "AAPL:2025-05-29",
         "0.08977777777777779",
         "9.0",
         "2025-05-29"
        ],
        [
         "13",
         "14",
         "2025-05-30",
         "200.85000610351562",
         "201.9600067138672",
         "196.77999877929688",
         "199.3699951171875",
         "70819900",
         null,
         null,
         "2025-05-30",
         "AAPL",
         "AAPL:2025-05-30",
         "0.05502857142857143",
         "7.0",
         "2025-05-30"
        ],
        [
         "14",
         "15",
         "2025-06-02",
         "201.6999969482422",
         "202.1300048828125",
         "200.1199951171875",
         "200.27999877929688",
         "35423300",
         null,
         null,
         "2025-06-02",
         "AAPL",
         "AAPL:2025-06-02",
         "0.26042",
         "5.0",
         "2025-06-02"
        ],
        [
         "15",
         "16",
         "2025-06-03",
         "203.27000427246094",
         "203.77000427246094",
         "200.9600067138672",
         "201.35000610351562",
         "46381600",
         null,
         null,
         "2025-06-03",
         "AAPL",
         "AAPL:2025-06-03",
         "-0.038633333333333325",
         "3.0",
         "2025-06-03"
        ],
        [
         "16",
         "17",
         "2025-06-04",
         "202.82000732421875",
         "206.24000549316406",
         "202.10000610351562",
         "202.91000366210938",
         "43604000",
         null,
         null,
         "2025-06-04",
         "AAPL",
         "AAPL:2025-06-04",
         "-0.15115",
         "8.0",
         "2025-06-04"
        ],
        [
         "17",
         "18",
         "2025-06-05",
         "200.6300048828125",
         "204.75",
         "200.14999389648438",
         "203.5",
         "55126100",
         null,
         null,
         "2025-06-05",
         "AAPL",
         "AAPL:2025-06-05",
         "-0.0652375",
         "8.0",
         "2025-06-05"
        ],
        [
         "18",
         "19",
         "2025-06-06",
         "203.9199981689453",
         "205.6999969482422",
         "202.0500030517578",
         "203.0",
         "46607700",
         null,
         null,
         "2025-06-06",
         "AAPL",
         "AAPL:2025-06-06",
         "0.221725",
         "4.0",
         "2025-06-06"
        ],
        [
         "19",
         "20",
         "2025-06-09",
         "201.4499969482422",
         "206.0",
         "200.02000427246094",
         "204.38999938964844",
         "72862600",
         null,
         null,
         "2025-06-09",
         "AAPL",
         "AAPL:2025-06-09",
         "0.014671428571428571",
         "7.0",
         "2025-06-09"
        ],
        [
         "20",
         "21",
         "2025-06-10",
         "202.6699981689453",
         "204.35000610351562",
         "200.57000732421875",
         "200.60000610351562",
         "54672600",
         null,
         null,
         "2025-06-10",
         "AAPL",
         "AAPL:2025-06-10",
         "-0.003657142857142858",
         "7.0",
         "2025-06-10"
        ]
       ],
       "shape": {
        "columns": 15,
        "rows": 21
       }
      },
      "text/html": [
       "<div>\n",
       "<style scoped>\n",
       "    .dataframe tbody tr th:only-of-type {\n",
       "        vertical-align: middle;\n",
       "    }\n",
       "\n",
       "    .dataframe tbody tr th {\n",
       "        vertical-align: top;\n",
       "    }\n",
       "\n",
       "    .dataframe thead th {\n",
       "        text-align: right;\n",
       "    }\n",
       "</style>\n",
       "<table border=\"1\" class=\"dataframe\">\n",
       "  <thead>\n",
       "    <tr style=\"text-align: right;\">\n",
       "      <th></th>\n",
       "      <th>row_id</th>\n",
       "      <th>date</th>\n",
       "      <th>Close</th>\n",
       "      <th>High</th>\n",
       "      <th>Low</th>\n",
       "      <th>Open</th>\n",
       "      <th>Volume</th>\n",
       "      <th>runtime</th>\n",
       "      <th>pct_change</th>\n",
       "      <th>time_stamp</th>\n",
       "      <th>stock_code</th>\n",
       "      <th>unique_key</th>\n",
       "      <th>sentiment_score</th>\n",
       "      <th>article_count</th>\n",
       "      <th>Date</th>\n",
       "    </tr>\n",
       "  </thead>\n",
       "  <tbody>\n",
       "    <tr>\n",
       "      <th>0</th>\n",
       "      <td>1</td>\n",
       "      <td>2025-05-12</td>\n",
       "      <td>210.789993</td>\n",
       "      <td>211.270004</td>\n",
       "      <td>206.750000</td>\n",
       "      <td>210.970001</td>\n",
       "      <td>63775800</td>\n",
       "      <td>None</td>\n",
       "      <td>None</td>\n",
       "      <td>2025-05-12</td>\n",
       "      <td>AAPL</td>\n",
       "      <td>AAPL:2025-05-12</td>\n",
       "      <td>0.440400</td>\n",
       "      <td>1.0</td>\n",
       "      <td>2025-05-12</td>\n",
       "    </tr>\n",
       "    <tr>\n",
       "      <th>1</th>\n",
       "      <td>2</td>\n",
       "      <td>2025-05-13</td>\n",
       "      <td>212.929993</td>\n",
       "      <td>213.399994</td>\n",
       "      <td>209.000000</td>\n",
       "      <td>210.429993</td>\n",
       "      <td>51909300</td>\n",
       "      <td>None</td>\n",
       "      <td>None</td>\n",
       "      <td>2025-05-13</td>\n",
       "      <td>AAPL</td>\n",
       "      <td>AAPL:2025-05-13</td>\n",
       "      <td>NaN</td>\n",
       "      <td>NaN</td>\n",
       "      <td>2025-05-13</td>\n",
       "    </tr>\n",
       "    <tr>\n",
       "      <th>2</th>\n",
       "      <td>3</td>\n",
       "      <td>2025-05-14</td>\n",
       "      <td>212.330002</td>\n",
       "      <td>213.940002</td>\n",
       "      <td>210.580002</td>\n",
       "      <td>212.429993</td>\n",
       "      <td>49325800</td>\n",
       "      <td>None</td>\n",
       "      <td>None</td>\n",
       "      <td>2025-05-14</td>\n",
       "      <td>AAPL</td>\n",
       "      <td>AAPL:2025-05-14</td>\n",
       "      <td>NaN</td>\n",
       "      <td>NaN</td>\n",
       "      <td>2025-05-14</td>\n",
       "    </tr>\n",
       "    <tr>\n",
       "      <th>3</th>\n",
       "      <td>4</td>\n",
       "      <td>2025-05-15</td>\n",
       "      <td>211.449997</td>\n",
       "      <td>212.960007</td>\n",
       "      <td>209.539993</td>\n",
       "      <td>210.949997</td>\n",
       "      <td>45029500</td>\n",
       "      <td>None</td>\n",
       "      <td>None</td>\n",
       "      <td>2025-05-15</td>\n",
       "      <td>AAPL</td>\n",
       "      <td>AAPL:2025-05-15</td>\n",
       "      <td>0.000000</td>\n",
       "      <td>1.0</td>\n",
       "      <td>2025-05-15</td>\n",
       "    </tr>\n",
       "    <tr>\n",
       "      <th>4</th>\n",
       "      <td>5</td>\n",
       "      <td>2025-05-16</td>\n",
       "      <td>211.259995</td>\n",
       "      <td>212.570007</td>\n",
       "      <td>209.770004</td>\n",
       "      <td>212.360001</td>\n",
       "      <td>54737900</td>\n",
       "      <td>None</td>\n",
       "      <td>None</td>\n",
       "      <td>2025-05-16</td>\n",
       "      <td>AAPL</td>\n",
       "      <td>AAPL:2025-05-16</td>\n",
       "      <td>NaN</td>\n",
       "      <td>NaN</td>\n",
       "      <td>2025-05-16</td>\n",
       "    </tr>\n",
       "    <tr>\n",
       "      <th>5</th>\n",
       "      <td>6</td>\n",
       "      <td>2025-05-19</td>\n",
       "      <td>208.779999</td>\n",
       "      <td>209.479996</td>\n",
       "      <td>204.259995</td>\n",
       "      <td>207.910004</td>\n",
       "      <td>46140500</td>\n",
       "      <td>None</td>\n",
       "      <td>None</td>\n",
       "      <td>2025-05-19</td>\n",
       "      <td>AAPL</td>\n",
       "      <td>AAPL:2025-05-19</td>\n",
       "      <td>NaN</td>\n",
       "      <td>NaN</td>\n",
       "      <td>2025-05-19</td>\n",
       "    </tr>\n",
       "    <tr>\n",
       "      <th>6</th>\n",
       "      <td>7</td>\n",
       "      <td>2025-05-20</td>\n",
       "      <td>206.860001</td>\n",
       "      <td>208.470001</td>\n",
       "      <td>205.029999</td>\n",
       "      <td>207.669998</td>\n",
       "      <td>42496600</td>\n",
       "      <td>None</td>\n",
       "      <td>None</td>\n",
       "      <td>2025-05-20</td>\n",
       "      <td>AAPL</td>\n",
       "      <td>AAPL:2025-05-20</td>\n",
       "      <td>NaN</td>\n",
       "      <td>NaN</td>\n",
       "      <td>2025-05-20</td>\n",
       "    </tr>\n",
       "    <tr>\n",
       "      <th>7</th>\n",
       "      <td>8</td>\n",
       "      <td>2025-05-21</td>\n",
       "      <td>202.089996</td>\n",
       "      <td>207.039993</td>\n",
       "      <td>200.710007</td>\n",
       "      <td>205.169998</td>\n",
       "      <td>59211800</td>\n",
       "      <td>None</td>\n",
       "      <td>None</td>\n",
       "      <td>2025-05-21</td>\n",
       "      <td>AAPL</td>\n",
       "      <td>AAPL:2025-05-21</td>\n",
       "      <td>NaN</td>\n",
       "      <td>NaN</td>\n",
       "      <td>2025-05-21</td>\n",
       "    </tr>\n",
       "    <tr>\n",
       "      <th>8</th>\n",
       "      <td>9</td>\n",
       "      <td>2025-05-22</td>\n",
       "      <td>201.360001</td>\n",
       "      <td>202.750000</td>\n",
       "      <td>199.699997</td>\n",
       "      <td>200.710007</td>\n",
       "      <td>46742400</td>\n",
       "      <td>None</td>\n",
       "      <td>None</td>\n",
       "      <td>2025-05-22</td>\n",
       "      <td>AAPL</td>\n",
       "      <td>AAPL:2025-05-22</td>\n",
       "      <td>0.133967</td>\n",
       "      <td>3.0</td>\n",
       "      <td>2025-05-22</td>\n",
       "    </tr>\n",
       "    <tr>\n",
       "      <th>9</th>\n",
       "      <td>10</td>\n",
       "      <td>2025-05-23</td>\n",
       "      <td>195.270004</td>\n",
       "      <td>197.699997</td>\n",
       "      <td>193.460007</td>\n",
       "      <td>193.669998</td>\n",
       "      <td>78432900</td>\n",
       "      <td>None</td>\n",
       "      <td>None</td>\n",
       "      <td>2025-05-23</td>\n",
       "      <td>AAPL</td>\n",
       "      <td>AAPL:2025-05-23</td>\n",
       "      <td>-0.037338</td>\n",
       "      <td>13.0</td>\n",
       "      <td>2025-05-23</td>\n",
       "    </tr>\n",
       "    <tr>\n",
       "      <th>10</th>\n",
       "      <td>11</td>\n",
       "      <td>2025-05-27</td>\n",
       "      <td>200.210007</td>\n",
       "      <td>200.740005</td>\n",
       "      <td>197.429993</td>\n",
       "      <td>198.300003</td>\n",
       "      <td>56288500</td>\n",
       "      <td>None</td>\n",
       "      <td>None</td>\n",
       "      <td>2025-05-27</td>\n",
       "      <td>AAPL</td>\n",
       "      <td>AAPL:2025-05-27</td>\n",
       "      <td>-0.102100</td>\n",
       "      <td>16.0</td>\n",
       "      <td>2025-05-27</td>\n",
       "    </tr>\n",
       "    <tr>\n",
       "      <th>11</th>\n",
       "      <td>12</td>\n",
       "      <td>2025-05-28</td>\n",
       "      <td>200.419998</td>\n",
       "      <td>202.729996</td>\n",
       "      <td>199.899994</td>\n",
       "      <td>200.589996</td>\n",
       "      <td>45339700</td>\n",
       "      <td>None</td>\n",
       "      <td>None</td>\n",
       "      <td>2025-05-28</td>\n",
       "      <td>AAPL</td>\n",
       "      <td>AAPL:2025-05-28</td>\n",
       "      <td>-0.043763</td>\n",
       "      <td>8.0</td>\n",
       "      <td>2025-05-28</td>\n",
       "    </tr>\n",
       "    <tr>\n",
       "      <th>12</th>\n",
       "      <td>13</td>\n",
       "      <td>2025-05-29</td>\n",
       "      <td>199.949997</td>\n",
       "      <td>203.809998</td>\n",
       "      <td>198.509995</td>\n",
       "      <td>203.580002</td>\n",
       "      <td>51396800</td>\n",
       "      <td>None</td>\n",
       "      <td>None</td>\n",
       "      <td>2025-05-29</td>\n",
       "      <td>AAPL</td>\n",
       "      <td>AAPL:2025-05-29</td>\n",
       "      <td>0.089778</td>\n",
       "      <td>9.0</td>\n",
       "      <td>2025-05-29</td>\n",
       "    </tr>\n",
       "    <tr>\n",
       "      <th>13</th>\n",
       "      <td>14</td>\n",
       "      <td>2025-05-30</td>\n",
       "      <td>200.850006</td>\n",
       "      <td>201.960007</td>\n",
       "      <td>196.779999</td>\n",
       "      <td>199.369995</td>\n",
       "      <td>70819900</td>\n",
       "      <td>None</td>\n",
       "      <td>None</td>\n",
       "      <td>2025-05-30</td>\n",
       "      <td>AAPL</td>\n",
       "      <td>AAPL:2025-05-30</td>\n",
       "      <td>0.055029</td>\n",
       "      <td>7.0</td>\n",
       "      <td>2025-05-30</td>\n",
       "    </tr>\n",
       "    <tr>\n",
       "      <th>14</th>\n",
       "      <td>15</td>\n",
       "      <td>2025-06-02</td>\n",
       "      <td>201.699997</td>\n",
       "      <td>202.130005</td>\n",
       "      <td>200.119995</td>\n",
       "      <td>200.279999</td>\n",
       "      <td>35423300</td>\n",
       "      <td>None</td>\n",
       "      <td>None</td>\n",
       "      <td>2025-06-02</td>\n",
       "      <td>AAPL</td>\n",
       "      <td>AAPL:2025-06-02</td>\n",
       "      <td>0.260420</td>\n",
       "      <td>5.0</td>\n",
       "      <td>2025-06-02</td>\n",
       "    </tr>\n",
       "    <tr>\n",
       "      <th>15</th>\n",
       "      <td>16</td>\n",
       "      <td>2025-06-03</td>\n",
       "      <td>203.270004</td>\n",
       "      <td>203.770004</td>\n",
       "      <td>200.960007</td>\n",
       "      <td>201.350006</td>\n",
       "      <td>46381600</td>\n",
       "      <td>None</td>\n",
       "      <td>None</td>\n",
       "      <td>2025-06-03</td>\n",
       "      <td>AAPL</td>\n",
       "      <td>AAPL:2025-06-03</td>\n",
       "      <td>-0.038633</td>\n",
       "      <td>3.0</td>\n",
       "      <td>2025-06-03</td>\n",
       "    </tr>\n",
       "    <tr>\n",
       "      <th>16</th>\n",
       "      <td>17</td>\n",
       "      <td>2025-06-04</td>\n",
       "      <td>202.820007</td>\n",
       "      <td>206.240005</td>\n",
       "      <td>202.100006</td>\n",
       "      <td>202.910004</td>\n",
       "      <td>43604000</td>\n",
       "      <td>None</td>\n",
       "      <td>None</td>\n",
       "      <td>2025-06-04</td>\n",
       "      <td>AAPL</td>\n",
       "      <td>AAPL:2025-06-04</td>\n",
       "      <td>-0.151150</td>\n",
       "      <td>8.0</td>\n",
       "      <td>2025-06-04</td>\n",
       "    </tr>\n",
       "    <tr>\n",
       "      <th>17</th>\n",
       "      <td>18</td>\n",
       "      <td>2025-06-05</td>\n",
       "      <td>200.630005</td>\n",
       "      <td>204.750000</td>\n",
       "      <td>200.149994</td>\n",
       "      <td>203.500000</td>\n",
       "      <td>55126100</td>\n",
       "      <td>None</td>\n",
       "      <td>None</td>\n",
       "      <td>2025-06-05</td>\n",
       "      <td>AAPL</td>\n",
       "      <td>AAPL:2025-06-05</td>\n",
       "      <td>-0.065238</td>\n",
       "      <td>8.0</td>\n",
       "      <td>2025-06-05</td>\n",
       "    </tr>\n",
       "    <tr>\n",
       "      <th>18</th>\n",
       "      <td>19</td>\n",
       "      <td>2025-06-06</td>\n",
       "      <td>203.919998</td>\n",
       "      <td>205.699997</td>\n",
       "      <td>202.050003</td>\n",
       "      <td>203.000000</td>\n",
       "      <td>46607700</td>\n",
       "      <td>None</td>\n",
       "      <td>None</td>\n",
       "      <td>2025-06-06</td>\n",
       "      <td>AAPL</td>\n",
       "      <td>AAPL:2025-06-06</td>\n",
       "      <td>0.221725</td>\n",
       "      <td>4.0</td>\n",
       "      <td>2025-06-06</td>\n",
       "    </tr>\n",
       "    <tr>\n",
       "      <th>19</th>\n",
       "      <td>20</td>\n",
       "      <td>2025-06-09</td>\n",
       "      <td>201.449997</td>\n",
       "      <td>206.000000</td>\n",
       "      <td>200.020004</td>\n",
       "      <td>204.389999</td>\n",
       "      <td>72862600</td>\n",
       "      <td>None</td>\n",
       "      <td>None</td>\n",
       "      <td>2025-06-09</td>\n",
       "      <td>AAPL</td>\n",
       "      <td>AAPL:2025-06-09</td>\n",
       "      <td>0.014671</td>\n",
       "      <td>7.0</td>\n",
       "      <td>2025-06-09</td>\n",
       "    </tr>\n",
       "    <tr>\n",
       "      <th>20</th>\n",
       "      <td>21</td>\n",
       "      <td>2025-06-10</td>\n",
       "      <td>202.669998</td>\n",
       "      <td>204.350006</td>\n",
       "      <td>200.570007</td>\n",
       "      <td>200.600006</td>\n",
       "      <td>54672600</td>\n",
       "      <td>None</td>\n",
       "      <td>None</td>\n",
       "      <td>2025-06-10</td>\n",
       "      <td>AAPL</td>\n",
       "      <td>AAPL:2025-06-10</td>\n",
       "      <td>-0.003657</td>\n",
       "      <td>7.0</td>\n",
       "      <td>2025-06-10</td>\n",
       "    </tr>\n",
       "  </tbody>\n",
       "</table>\n",
       "</div>"
      ],
      "text/plain": [
       "    row_id        date       Close        High         Low        Open  \\\n",
       "0        1  2025-05-12  210.789993  211.270004  206.750000  210.970001   \n",
       "1        2  2025-05-13  212.929993  213.399994  209.000000  210.429993   \n",
       "2        3  2025-05-14  212.330002  213.940002  210.580002  212.429993   \n",
       "3        4  2025-05-15  211.449997  212.960007  209.539993  210.949997   \n",
       "4        5  2025-05-16  211.259995  212.570007  209.770004  212.360001   \n",
       "5        6  2025-05-19  208.779999  209.479996  204.259995  207.910004   \n",
       "6        7  2025-05-20  206.860001  208.470001  205.029999  207.669998   \n",
       "7        8  2025-05-21  202.089996  207.039993  200.710007  205.169998   \n",
       "8        9  2025-05-22  201.360001  202.750000  199.699997  200.710007   \n",
       "9       10  2025-05-23  195.270004  197.699997  193.460007  193.669998   \n",
       "10      11  2025-05-27  200.210007  200.740005  197.429993  198.300003   \n",
       "11      12  2025-05-28  200.419998  202.729996  199.899994  200.589996   \n",
       "12      13  2025-05-29  199.949997  203.809998  198.509995  203.580002   \n",
       "13      14  2025-05-30  200.850006  201.960007  196.779999  199.369995   \n",
       "14      15  2025-06-02  201.699997  202.130005  200.119995  200.279999   \n",
       "15      16  2025-06-03  203.270004  203.770004  200.960007  201.350006   \n",
       "16      17  2025-06-04  202.820007  206.240005  202.100006  202.910004   \n",
       "17      18  2025-06-05  200.630005  204.750000  200.149994  203.500000   \n",
       "18      19  2025-06-06  203.919998  205.699997  202.050003  203.000000   \n",
       "19      20  2025-06-09  201.449997  206.000000  200.020004  204.389999   \n",
       "20      21  2025-06-10  202.669998  204.350006  200.570007  200.600006   \n",
       "\n",
       "      Volume runtime pct_change  time_stamp stock_code       unique_key  \\\n",
       "0   63775800    None       None  2025-05-12       AAPL  AAPL:2025-05-12   \n",
       "1   51909300    None       None  2025-05-13       AAPL  AAPL:2025-05-13   \n",
       "2   49325800    None       None  2025-05-14       AAPL  AAPL:2025-05-14   \n",
       "3   45029500    None       None  2025-05-15       AAPL  AAPL:2025-05-15   \n",
       "4   54737900    None       None  2025-05-16       AAPL  AAPL:2025-05-16   \n",
       "5   46140500    None       None  2025-05-19       AAPL  AAPL:2025-05-19   \n",
       "6   42496600    None       None  2025-05-20       AAPL  AAPL:2025-05-20   \n",
       "7   59211800    None       None  2025-05-21       AAPL  AAPL:2025-05-21   \n",
       "8   46742400    None       None  2025-05-22       AAPL  AAPL:2025-05-22   \n",
       "9   78432900    None       None  2025-05-23       AAPL  AAPL:2025-05-23   \n",
       "10  56288500    None       None  2025-05-27       AAPL  AAPL:2025-05-27   \n",
       "11  45339700    None       None  2025-05-28       AAPL  AAPL:2025-05-28   \n",
       "12  51396800    None       None  2025-05-29       AAPL  AAPL:2025-05-29   \n",
       "13  70819900    None       None  2025-05-30       AAPL  AAPL:2025-05-30   \n",
       "14  35423300    None       None  2025-06-02       AAPL  AAPL:2025-06-02   \n",
       "15  46381600    None       None  2025-06-03       AAPL  AAPL:2025-06-03   \n",
       "16  43604000    None       None  2025-06-04       AAPL  AAPL:2025-06-04   \n",
       "17  55126100    None       None  2025-06-05       AAPL  AAPL:2025-06-05   \n",
       "18  46607700    None       None  2025-06-06       AAPL  AAPL:2025-06-06   \n",
       "19  72862600    None       None  2025-06-09       AAPL  AAPL:2025-06-09   \n",
       "20  54672600    None       None  2025-06-10       AAPL  AAPL:2025-06-10   \n",
       "\n",
       "    sentiment_score  article_count        Date  \n",
       "0          0.440400            1.0  2025-05-12  \n",
       "1               NaN            NaN  2025-05-13  \n",
       "2               NaN            NaN  2025-05-14  \n",
       "3          0.000000            1.0  2025-05-15  \n",
       "4               NaN            NaN  2025-05-16  \n",
       "5               NaN            NaN  2025-05-19  \n",
       "6               NaN            NaN  2025-05-20  \n",
       "7               NaN            NaN  2025-05-21  \n",
       "8          0.133967            3.0  2025-05-22  \n",
       "9         -0.037338           13.0  2025-05-23  \n",
       "10        -0.102100           16.0  2025-05-27  \n",
       "11        -0.043763            8.0  2025-05-28  \n",
       "12         0.089778            9.0  2025-05-29  \n",
       "13         0.055029            7.0  2025-05-30  \n",
       "14         0.260420            5.0  2025-06-02  \n",
       "15        -0.038633            3.0  2025-06-03  \n",
       "16        -0.151150            8.0  2025-06-04  \n",
       "17        -0.065238            8.0  2025-06-05  \n",
       "18         0.221725            4.0  2025-06-06  \n",
       "19         0.014671            7.0  2025-06-09  \n",
       "20        -0.003657            7.0  2025-06-10  "
      ]
     },
     "execution_count": 11,
     "metadata": {},
     "output_type": "execute_result"
    }
   ],
   "source": [
    "df_price"
   ]
  },
  {
   "cell_type": "code",
   "execution_count": 12,
   "id": "a70ada67",
   "metadata": {},
   "outputs": [
    {
     "name": "stderr",
     "output_type": "stream",
     "text": [
      "\u001b[32m2025-06-22 21:06:41.482\u001b[0m | \u001b[34m\u001b[1mDEBUG   \u001b[0m | \u001b[36mdata_handeling\u001b[0m:\u001b[33mall_articles_fetch_data:82\u001b[0m - \u001b[34m\u001b[1mFetching articles for query: AAPL from 2025-05-12 to 2025-06-11\u001b[0m\n",
      "\u001b[32m2025-06-22 21:07:29.444\u001b[0m | \u001b[34m\u001b[1mDEBUG   \u001b[0m | \u001b[36mdata_handeling\u001b[0m:\u001b[33mall_articles_fetch_data:105\u001b[0m - \u001b[34m\u001b[1mAll articles fetched successfully\u001b[0m\n"
     ]
    }
   ],
   "source": [
    "from data_handeling import all_articles_fetch_data\n",
    "\n",
    "all_articles = all_articles_fetch_data(ticker, start_date, end_date)"
   ]
  },
  {
   "cell_type": "code",
   "execution_count": 13,
   "id": "5cb086ae",
   "metadata": {},
   "outputs": [
    {
     "data": {
      "application/vnd.microsoft.datawrangler.viewer.v0+json": {
       "columns": [
        {
         "name": "index",
         "rawType": "int64",
         "type": "integer"
        },
        {
         "name": "headline",
         "rawType": "object",
         "type": "string"
        },
        {
         "name": "description",
         "rawType": "object",
         "type": "string"
        },
        {
         "name": "published date",
         "rawType": "datetime64[ns]",
         "type": "datetime"
        },
        {
         "name": "url",
         "rawType": "object",
         "type": "string"
        },
        {
         "name": "link",
         "rawType": "object",
         "type": "string"
        },
        {
         "name": "title",
         "rawType": "object",
         "type": "string"
        },
        {
         "name": "date",
         "rawType": "object",
         "type": "unknown"
        },
        {
         "name": "stock_code",
         "rawType": "object",
         "type": "string"
        }
       ],
       "ref": "14ecda6f-4050-4507-bf61-ae8e1ece6421",
       "rows": [
        [
         "0",
         "Apple (AAPL) Faces Significant Threat From ChatGPT, Veteran Investor Says - Yahoo Finance",
         "Apple (AAPL) Faces Significant Threat From ChatGPT, Veteran Investor Says  Yahoo Finance",
         "2025-05-27 07:00:00",
         "https://news.google.com/rss/articles/CBMiiAFBVV95cUxPOVVYTzk5czZ6OC1CMkd3Zk1Yd0ZkLWIxLUYtcWgwbEswM3Q4Zi1xUXRsVTJKd2NVczVZWmExcUx3UjJQSGgtdHpWaWtSQ2NZRzgyalltZktPVWloSmFOZWREVDVSQVJ2aEJnWnhydVg3TTBMRDh3SFNQbXhNeGR3OEl5MXJidlkt?oc=5&hl=en-IN&gl=IN&ceid=IN:en",
         "https://finance.yahoo.com",
         "Yahoo Finance",
         "2025-05-27",
         "AAPL"
        ],
        [
         "1",
         "Apple has been the worst Big Tech stock lately. Here’s why investors are missing the big picture. - MarketWatch",
         "Apple has been the worst Big Tech stock lately. Here’s why investors are missing the big picture.  MarketWatch",
         "2025-05-24 07:00:00",
         "https://news.google.com/rss/articles/CBMi0wFBVV95cUxPakd1SGZPLUlNQWlxZXFla2p1emhyNzgzUFB3VU92cGRjZHhxZjF0RnNSTFZBUlhnTk9jdkxlZ1FBS1B1NUpfS2xpRFVHQmZCMkszRDloeHlDdVotMzkzRTMySzhWclBkYU9jNXEwUU56QWpYeDdBdl9uTldDUFYyTV9RWm9hTXV0aWZZa3FjRWJ6LURNanRPZ2MxRW9vT1RvMGdXV294ekhxcmVlSThOcDdLOU1XZTBZUDF2LU9GcGxKeTFmMUJuRGtweUxFRi1ZN2tV?oc=5&hl=en-IN&gl=IN&ceid=IN:en",
         "https://www.marketwatch.com",
         "MarketWatch",
         "2025-05-24",
         "AAPL"
        ],
        [
         "2",
         "Best Stock to Buy Right Now: Apple vs. Chipotle - The Motley Fool",
         "Best Stock to Buy Right Now: Apple vs. Chipotle  The Motley Fool",
         "2025-05-31 07:00:00",
         "https://news.google.com/rss/articles/CBMikgFBVV95cUxPaGlWSXIzVDMtcFBxZGRkSmszd3VzeGs1Nkp6WTFQWXdTa0ZpMjRYWGxzZE9qOFZvMlpLeVRfUzlEdmMxalA0a2pnUzNDTGdjeUdYRkJCNTU4Q0dhYm5EUENMNVBEb0ZYSHpkZGJlZGxPWU9qWG5sS1FnZFBuQXJNZm1ENEJXOHV2Z2VLVEstbXp6UQ?oc=5&hl=en-IN&gl=IN&ceid=IN:en",
         "https://www.fool.com",
         "The Motley Fool",
         "2025-05-31",
         "AAPL"
        ],
        [
         "3",
         "Apple Inc. (AAPL) is Attracting Investor Attention: Here is What You Should Know - Nasdaq",
         "Apple Inc. (AAPL) is Attracting Investor Attention: Here is What You Should Know  Nasdaq",
         "2025-05-27 07:00:00",
         "https://news.google.com/rss/articles/CBMipwFBVV95cUxONlVNcXY5czNRdG5EejVYNENaYmxZTzJUX2h4b0pfTFR1Nlg1Yy0tV0ktaUIxblRxWDhQcGhyaEdvLVJHQ3IteXNBN3A2R3o4SlA2SlhDQ0hRa3hTVkhibHB3WEo5dnBLazBrcnd1VGR2bEhoeHFidXhiVldaelpvUUR6NFV5bXpFR1dRSTZNWlVJcnhrcno0Vjk3WEV6SU5IQ0p4OEtmYw?oc=5&hl=en-IN&gl=IN&ceid=IN:en",
         "https://www.nasdaq.com",
         "Nasdaq",
         "2025-05-27",
         "AAPL"
        ],
        [
         "4",
         "'Little, little screws' one of many hurdles to US-made iPhones - Reuters",
         "'Little, little screws' one of many hurdles to US-made iPhones  Reuters",
         "2025-05-24 07:00:00",
         "https://news.google.com/rss/articles/CBMinwFBVV95cUxQTkdPV21uQTVUZFhPSl9YcUJlaUttVzY4djI4NFZiSTVCZ2UtdVBxQ2hILU9NVGhuWEVrTlZlNUVfTjhwSUYyaGJ2RjdqSkxaMjNrWk1HeFNwanZLdGFjNU4wQ2FnbGsyWGNnc1hIdjY0MHZYTzFLWE1mdjJRNEVUYTFHWU9GQjJmQllNUnNNbUliTjR3dWpqZmdtTi1YS1U?oc=5&hl=en-IN&gl=IN&ceid=IN:en",
         "https://www.reuters.com",
         "Reuters",
         "2025-05-24",
         "AAPL"
        ],
        [
         "5",
         "Apple (AAPL) Trails the ‘Magnificent Seven’ — Let’s Look at Who Owns the Stock - TipRanks",
         "Apple (AAPL) Trails the ‘Magnificent Seven’ — Let’s Look at Who Owns the Stock  TipRanks",
         "2025-05-29 07:00:00",
         "https://news.google.com/rss/articles/CBMiowFBVV95cUxNcGM3UFF2SWEtWHhaOXFId1M2dzBENGFLbnBwSmlIY3BfQy1fcjBXMWRPcDJhX0p6MjNzZEVxY3YzdkxyNVB2VlFmRjlDQ190SjdKTGlCclNGUXpvMDU2aU1HZ19vbmZ3OHRTNmRhMGFBVHU4U1A2dUpUOUtRRDg0MU1ETVhaNkRndmlYeFYydHlzQVBRYTlPODZBaGtteUN6VWZz?oc=5&hl=en-IN&gl=IN&ceid=IN:en",
         "https://www.tipranks.com",
         "TipRanks",
         "2025-05-29",
         "AAPL"
        ],
        [
         "6",
         "Should You Buy or Sell Apple (AAPL) Stock After Trump's Manufacturing Ultimatum? - Money Morning",
         "Should You Buy or Sell Apple (AAPL) Stock After Trump's Manufacturing Ultimatum?  Money Morning",
         "2025-05-27 07:00:00",
         "https://news.google.com/rss/articles/CBMiswFBVV95cUxNc0psSGxXU1laOFBaY2M5UzEyUFJGU2xkRjFObHZkSnJVa1pDSjV4UFZDLTZhYm1ja25TUzFpdHVQVmMxbXdxTGRvLWRMeDZtTlFuam5FWkJsS3RFSFhaZXVYZDlEeWFIZVE2eHpVSmcxWTEzMUZYMzBfX2p1NHdSTW9XYmxCcVBBeHhkNkhyVjl2MGlsbHB2bTMzZUxtQ3J4M0JONV9QV1YxNXdzenVaNlR2b9IBuAFBVV95cUxQaWZwdUkzVWNqcEpVaVhCYjdvd0xnTzUxbEVrRDNtMF8yazFfQ0VkcjZ6bGZvdVFwYlpuUWtwTXVnTUw4VGFCM3l1WDhzZ3FMN1RpVWdNZkhJZXhoSHZRdUVqVjN2aXFtUUVWajNac1ZBZ1lzN0VhZGZlRDV1Z2phMEdURlE2OE14WVkxRklkNUt1UmxhSl9XYThTZ0pCN0VBWnFvbndaLVhzQVMyVXhvZjllTV9IRldC?oc=5&hl=en-IN&gl=IN&ceid=IN:en",
         "https://moneymorning.com",
         "Money Morning",
         "2025-05-27",
         "AAPL"
        ],
        [
         "7",
         "Apple stock dropped as WWDC got going. Here's why. - Business Insider",
         "Apple stock dropped as WWDC got going. Here's why.  Business Insider",
         "2025-06-09 07:00:00",
         "https://news.google.com/rss/articles/CBMimAFBVV95cUxPa0tTekxmczhmekxPUml6Q1pQZlA4aDFfLVRVOHJyR1JqelkxWXFERjA2eG4wRHRNckYyZW9OZGcwY0VLd3RzY3l5WTJIZ2cydzQtNnVnOUNZU3pQREZKdW5Uc1dwRmtONWRnQzhUZVJLSWhJbzBKcHE1WTljZlJ4TmhPMUlUUUo2ejdhS0RjcWtxMTZQcXFjRQ?oc=5&hl=en-IN&gl=IN&ceid=IN:en",
         "https://www.businessinsider.com",
         "Business Insider",
         "2025-06-09",
         "AAPL"
        ],
        [
         "8",
         "Apple gets a rare downgrade as earnings and high valuation come under pressure - CNBC",
         "Apple gets a rare downgrade as earnings and high valuation come under pressure  CNBC",
         "2025-06-04 07:00:00",
         "https://news.google.com/rss/articles/CBMitgFBVV95cUxPZGtuRjdKcHNmQnl4cDM5Z1o3VjRXQUtTNjBQRVhzbnVVV3NUYmdXMEtQX3RLUlFOTEVDbURvUXdDb0lDTElFMnlHZEVWQktjTHl2ZHJ6cHoxRTgyNG5YLVcyZ19DN05BN0NQUEtOZG1UQ1dKRXpUWWNnTU9jbnlTb05PREY5S2lsZlJoaWlBSzFCUGFuUGo1UnJ2T1dZRjFiVGZQTXBYdmlnRmhGQXpUQS10ZmpFUQ?oc=5&hl=en-IN&gl=IN&ceid=IN:en",
         "https://www.cnbc.com",
         "CNBC",
         "2025-06-04",
         "AAPL"
        ],
        [
         "9",
         "AAPL Investors Have Opportunity to Join Apple Inc. Fraud Investigation with the Schall Law Firm - Business Wire",
         "AAPL Investors Have Opportunity to Join Apple Inc. Fraud Investigation with the Schall Law Firm  Business Wire",
         "2025-06-10 07:00:00",
         "https://news.google.com/rss/articles/CBMi5wFBVV95cUxQLXNtU1Bfay0wbVo0aXIxSmFVWUctWDBweTVXbi1jNW0zTzdQejRyRllJQjA3dnphRHU3QzVUZ1VxZkJwV0FndUNPeHZNVldubVJVY3VOQkZqUlVpRVBhcm1IN21XVi1pLXJIOExMRXpqZndEM0dGelBFTkZyRXc4UmF4VTBSQmhwRVdJVUlwUzZHLS02dHFuV1Y5X1h3TUpzVjZ5VjM3VTZmaWhuYkpzblRURS1SdmVGbFhDVUFFZ1Myc1lMcHNBdGtrWmRnN0VGaGNkVXRaWXRjMWl0cUpBWW5pVEQtUnM?oc=5&hl=en-IN&gl=IN&ceid=IN:en",
         "https://www.businesswire.com",
         "Business Wire",
         "2025-06-10",
         "AAPL"
        ],
        [
         "10",
         "Wedbush on Apple (AAPL): 'We believe the concept of Apple producing iPhones in the US is a fairy tale that is not feasible' - StreetInsider",
         "Wedbush on Apple (AAPL): 'We believe the concept of Apple producing iPhones in the US is a fairy tale that is not feasible'  StreetInsider",
         "2025-05-23 07:00:00",
         "https://news.google.com/rss/articles/CBMilwJBVV95cUxORU1rZ0xkZThWbjBuNHdONGhaUXFjLVoxd3BRc2NlelhfRldUNl9WT252MnJLbUlpeFZ5RjZJRENTS2xfaWVkWEZHR0YxbE5qZGtKVEYwU2p1UWlENFVyZ3VhUmJKY3J5Tk45Z3h3cUVuYnZObHZCMFdPekR2Q2hUcnEtcGR1SmQ2YUZIV2NnRnpMV3FrRGZVdVdnZ2h4ak9XeHJEMThFTEVzdmFfeldHS1J0VjRTNmpGUEQ2UThxczVBSVlLcG54Y0NNWkFzaGktX3dlOWdNQUh2YU1rRmlNeDlaUWFtLTFtNERWNVZxTUFJTnFOR05YWlR2dXNVTjYzbmEyNGlqSDVCS2VOX0Z6Z1VodkR3cnc?oc=5&hl=en-IN&gl=IN&ceid=IN:en",
         "https://www.streetinsider.com",
         "StreetInsider",
         "2025-05-23",
         "AAPL"
        ],
        [
         "11",
         "Apple (AAPL) Faces a New Kind of Rival – And Wall Street Is Paying Attention - Yahoo Finance",
         "Apple (AAPL) Faces a New Kind of Rival – And Wall Street Is Paying Attention  Yahoo Finance",
         "2025-05-24 07:00:00",
         "https://news.google.com/rss/articles/CBMifkFVX3lxTE1wNEU3WG1iaVE5M2hQcEJrZVhzemdkck14MDZHWEQ4TldYcTUwZU16NDhoNjdKZ1BBSzlQekVYYTJkV2d4RExrX3NKd2gzVjFycGU5cEFKZFItRTlfSExRd3I3Yk8zTGozYlFqcjhYTktVV0Q5VDhiMnhOZGNuZw?oc=5&hl=en-IN&gl=IN&ceid=IN:en",
         "https://finance.yahoo.com",
         "Yahoo Finance",
         "2025-05-24",
         "AAPL"
        ],
        [
         "12",
         "Apple Inc. (AAPL) Should Be Bought on Weakness, Veteran Investor Says - Yahoo Finance",
         "Apple Inc. (AAPL) Should Be Bought on Weakness, Veteran Investor Says  Yahoo Finance",
         "2025-05-28 07:00:00",
         "https://news.google.com/rss/articles/CBMiggFBVV95cUxQLUZXc0YzOHF0V0Rha1QyT1pWWHQzTmNoUlQ4UVh2WnphM1JHVjZiUjJjY2tuVkdqWEt3YUl2bmhteVVyUF93ejlDYXc3MWxNUEkwNDByNEVMbmdTNHJMN29zcVBzT0FTVUlQeEtORnZ1YWdiNHpVRzVMWFJFNHVDbHlR?oc=5&hl=en-IN&gl=IN&ceid=IN:en",
         "https://finance.yahoo.com",
         "Yahoo Finance",
         "2025-05-28",
         "AAPL"
        ],
        [
         "13",
         "Trump threatens Apple Inc. (AAPL) with New Tariffs if iPhones Not Made in U.S. - Yahoo Finance",
         "Trump threatens Apple Inc. (AAPL) with New Tariffs if iPhones Not Made in U.S.  Yahoo Finance",
         "2025-05-24 07:00:00",
         "https://news.google.com/rss/articles/CBMiggFBVV95cUxQUnVKN2F4MVNQWVQ2NUN1bXRqNk9Lcy1JUjFZT0ttcHAxM3VoeWdTSEFjVlhxa0VvdUxXcGFQYk9PcU5ncjhNamVEY1ZWczFvTnBKa2xyeHBkeXhRNUliUzAxbHQ5emhGeGFYQjNOdk1JdGtBRkpKMzUxZFljbG1OR1ZB?oc=5&hl=en-IN&gl=IN&ceid=IN:en",
         "https://finance.yahoo.com",
         "Yahoo Finance",
         "2025-05-24",
         "AAPL"
        ],
        [
         "14",
         "Wedbush: Apple Inc. (NASDAQ:AAPL) Could Face US Pressure, But India Key to Avoiding $3,500 iPhones - Yahoo Finance",
         "Wedbush: Apple Inc. (NASDAQ:AAPL) Could Face US Pressure, But India Key to Avoiding $3,500 iPhones  Yahoo Finance",
         "2025-05-29 07:00:00",
         "https://news.google.com/rss/articles/CBMigAFBVV95cUxQdTFCb2JMd1lzSEF5cjUwR2NNVUhkLUpiMDVUZkYyaHJkdEktLVRzWl9JN3RVdUIybGxyYzBWMGhnSGNkM2NwNm1JVjhNZkxtLWQyY2g4NTBlbnJYWlNkSnZwVEtlcDdnZFUyZDh4XzNLZVdIb2dWV1dFNDg1OUJJYw?oc=5&hl=en-IN&gl=IN&ceid=IN:en",
         "https://finance.yahoo.com",
         "Yahoo Finance",
         "2025-05-29",
         "AAPL"
        ],
        [
         "15",
         "Apple (AAPL) Could Gain From Tariff Shake-Up, iPhone and AI Bets Drive Optimism - Yahoo Finance",
         "Apple (AAPL) Could Gain From Tariff Shake-Up, iPhone and AI Bets Drive Optimism  Yahoo Finance",
         "2025-06-02 07:00:00",
         "https://news.google.com/rss/articles/CBMif0FVX3lxTE1ReU5XdDdST2F6WDQzWXJkNi1sd0daVEgyWU1HZEk3TWFxQU9Ub3d4OWs0YVI1LTViNC01b2F3dzRQUDhZc3h3TEwzLURkS0JuNHNFZWlyaW5sd2JscFJwR1AzY2dzVU04YXR4OEtWS21OOHZTd1NHWDhNUjBVLVU?oc=5&hl=en-IN&gl=IN&ceid=IN:en",
         "https://finance.yahoo.com",
         "Yahoo Finance",
         "2025-06-02",
         "AAPL"
        ],
        [
         "16",
         "A Look At The Fair Value Of Apple Inc. (NASDAQ:AAPL) - Yahoo Finance",
         "A Look At The Fair Value Of Apple Inc. (NASDAQ:AAPL)  Yahoo Finance",
         "2025-05-27 07:00:00",
         "https://news.google.com/rss/articles/CBMie0FVX3lxTFBFZloxZEVYTllqM2RMRWFySDctamZBeWxzS2Rkam5PeW9vZHdJOE1kQ1gwZXZZd0FlcG5sR19zanR4NDlCMzQ5MWZsWC1tVXZXd1ZjTTY5S2R4UFN5anJmUUlIV2t2V1BuOWE1ZFNKaGRXcUZhVTZvblJjUQ?oc=5&hl=en-IN&gl=IN&ceid=IN:en",
         "https://finance.yahoo.com",
         "Yahoo Finance",
         "2025-05-27",
         "AAPL"
        ],
        [
         "17",
         "Citi Reiterates Buy Rating on Apple (AAPL), Keeps PT at $240 - Yahoo Finance",
         "Citi Reiterates Buy Rating on Apple (AAPL), Keeps PT at $240  Yahoo Finance",
         "2025-05-27 07:00:00",
         "https://news.google.com/rss/articles/CBMihAFBVV95cUxPSEdlTnc0dENTbHB0TGktSzRoVkp6S1pZNW9aN2dKamQzZml0VFo0RXFzV1ZtMnZINjlPSTgtOFpYUTE2eXVmZEQ2RW9QOC1Rc0FsTHBVU0wwUXdPNGNKaXA1QzFsdGI1dGRoMnpOXy1zR216Mndza0Nvb0g2WGJKNWhVd3c?oc=5&hl=en-IN&gl=IN&ceid=IN:en",
         "https://finance.yahoo.com",
         "Yahoo Finance",
         "2025-05-27",
         "AAPL"
        ],
        [
         "18",
         "AAPL: Wedbush Sees Apple as Trade Deal's Biggest Winner - Yahoo Finance",
         "AAPL: Wedbush Sees Apple as Trade Deal's Biggest Winner  Yahoo Finance",
         "2025-05-28 07:00:00",
         "https://news.google.com/rss/articles/CBMigAFBVV95cUxOT05KLVY4X01fLURGbjZpTHByNzk4bjNYb05vbFliZzJHcU0xaC1wRExWaVI2ejJhN1cxRElzYjJBRDYyRnRybVlKcFQwd3IzT0F1V0doa3JWbEpyVjFkVmEtcC1tU2VJQ1lNQ0dIY3B0WUg0a1ZuUjBPa2F2eEY1WA?oc=5&hl=en-IN&gl=IN&ceid=IN:en",
         "https://finance.yahoo.com",
         "Yahoo Finance",
         "2025-05-28",
         "AAPL"
        ],
        [
         "19",
         "Apple Inc. (AAPL) Partners with Emory Healthcare to Power First U.S. Hospital with Its Devices - Yahoo Finance",
         "Apple Inc. (AAPL) Partners with Emory Healthcare to Power First U.S. Hospital with Its Devices  Yahoo Finance",
         "2025-05-22 07:00:00",
         "https://news.google.com/rss/articles/CBMigAFBVV95cUxQN25neWdHWWxUak1HaHhrMXNwUGstOWcxVEZKWkcwdzk0Q0dHTzA4YWhaLWU5ODdEcDljVWRvaEN1eVpNd25wSmlELW16d0NVN2MteDhFMi1XUElJTEVZR2ltSVBPc3VKUVFxdWtiT1RMTEpnY2w0bmg1dUxxZEFkaA?oc=5&hl=en-IN&gl=IN&ceid=IN:en",
         "https://finance.yahoo.com",
         "Yahoo Finance",
         "2025-05-22",
         "AAPL"
        ],
        [
         "20",
         "INVESTOR ALERT: Pomerantz Law Firm Investigates Claims On Behalf of Investors of Apple Inc. - AAPL - PR Newswire",
         "INVESTOR ALERT: Pomerantz Law Firm Investigates Claims On Behalf of Investors of Apple Inc. - AAPL  PR Newswire",
         "2025-06-01 07:00:00",
         "https://news.google.com/rss/articles/CBMi5wFBVV95cUxOSHZ1OWphV2RqWTZFRF8yZ3NrSEthaEhCeFJKLVExZzRrd2p6TTVLb2tDY0VrMXlHUUN4NmlqcUxDNFp2OVJFQUpXbTVGVElKSEh4VjcwWGVDa1F0V0NsWlI0LUQyazE5V3RLeGZGN3ZTV1UtOU5sWFpWQzdTMWVnNDhYSHRESW9Ld0Z6VTdheTJHRHBobmJObmMydU9rVHdUTW01SzVpLWZkZ3N5S2Q4OHhfQXFoOUJqZHllN1ZhQzV6dFl0eWs1bnlnSmFrQ1NUa2c2NWsyNWpLcWVZS2pzSEpiOXhIS1k?oc=5&hl=en-IN&gl=IN&ceid=IN:en",
         "https://www.prnewswire.com",
         "PR Newswire",
         "2025-06-01",
         "AAPL"
        ],
        [
         "21",
         "AAPL: Apple Stock Jumps as Traders Anticipate Tariff Reprieve for iPhone Maker - TradingView",
         "AAPL: Apple Stock Jumps as Traders Anticipate Tariff Reprieve for iPhone Maker  TradingView",
         "2025-05-27 07:00:00",
         "https://news.google.com/rss/articles/CBMi1gFBVV95cUxQS0FFVTlQckRWLU5pLUZmTURGWmJ5UE5kWHNHS1NGbDRMdi04ZGk2YXZFd1RuLWpjNGRYcHl2M2F1bmh5Tkg3S0hLaDRSOVRoN0VVNk5OcmdfSVZkaU9yMGxyLW1mdzBzMnlmR1haR0RUMzR6ODV5WllSbk5LNllISTJjMHZlUnFENXlobEZZd0NXVW1qZlhEbWlrTklSRlNyV3FMT1N5Q2ZUUmQxNDZJWExQYzJSNjhqekg1czlpV2ZHOC1KM2w5ekoxc3UtRS1ySDd6aHNB?oc=5&hl=en-IN&gl=IN&ceid=IN:en",
         "https://www.tradingview.com",
         "TradingView",
         "2025-05-27",
         "AAPL"
        ],
        [
         "22",
         "Apple Shares Face More Pain as Trump’s Tariff Threat Looms - Bloomberg",
         "Apple Shares Face More Pain as Trump’s Tariff Threat Looms  Bloomberg",
         "2025-05-27 07:00:00",
         "https://news.google.com/rss/articles/CBMivAFBVV95cUxQa3RQWlNFN0MycmVfendGeW5DVUR0UnBBVTlvbG9BNFhQWldzblJKV0xFM0IycU9hUmhubGlvMGZkSURibGJnT1VKQW84UV9CTTFucFliVW1UZFpnYmQ5TWtvSktDX0U3bmpUNUU4R3pmYjRvbVZRUDFxY092MVBKVE01LVVqUkpfVTJLNnRVam5QQ21CNXkxQzBIRWNXNTBVODlWSkpqWlJtYUx2YkNQcGJZaVdrNWpJYzBubA?oc=5&hl=en-IN&gl=IN&ceid=IN:en",
         "https://www.bloomberg.com",
         "Bloomberg",
         "2025-05-27",
         "AAPL"
        ],
        [
         "23",
         "Apple Inc. (AAPL): CEO Tim Cook Is The \"Best Mover,\" Says Jim Cramer - Yahoo Finance",
         "Apple Inc. (AAPL): CEO Tim Cook Is The \"Best Mover,\" Says Jim Cramer  Yahoo Finance",
         "2025-06-06 07:00:00",
         "https://news.google.com/rss/articles/CBMid0FVX3lxTE1aV1k4NGJrRjJhN0g2c1ZSLXZIX2czaFhOUjF2Y1dCWFhOTVczYUk3Mk9fbFVZTkRxMV9TREhiR3ltMk5RUXI2elpBQ0VhSTBKX25UZll3UHgxbUF1NHByUFlNLXdteFI1VGhHMkFvSGg3VWxQRG00?oc=5&hl=en-IN&gl=IN&ceid=IN:en",
         "https://finance.yahoo.com",
         "Yahoo Finance",
         "2025-06-06",
         "AAPL"
        ],
        [
         "24",
         "Market’s New Hope for Apple (AAPL) ‘Super Cycle’ After AI Dissappointment: iPhone Air - Yahoo Finance",
         "Market’s New Hope for Apple (AAPL) ‘Super Cycle’ After AI Dissappointment: iPhone Air  Yahoo Finance",
         "2025-06-04 07:00:00",
         "https://news.google.com/rss/articles/CBMif0FVX3lxTFBsTFdJVjBrNkpfU0NhdnVRVl9lQnNZWF9GakV4TVlHMTlZaUxQcXVZVm5xSGtvRUVFWmJ0c21JUGVrNnFhYlB5d1ZURDdzLXpTa01sZHBWaVh4UXpna3ZMbzFydG8wX0JneHZPbkJJaHcyeHdPaEZXNm9wRDN3UHM?oc=5&hl=en-IN&gl=IN&ceid=IN:en",
         "https://finance.yahoo.com",
         "Yahoo Finance",
         "2025-06-04",
         "AAPL"
        ],
        [
         "25",
         "Apple Stock's Rebound May Be A Trap (NASDAQ:AAPL) - Seeking Alpha",
         "Apple Stock's Rebound May Be A Trap (NASDAQ:AAPL)  Seeking Alpha",
         "2025-06-03 07:00:00",
         "https://news.google.com/rss/articles/CBMif0FVX3lxTFBEOWJybTRnUXJsenZkWjlZSW9GYTI0QWVhRnk0SkJBTF9KeE1aY2V5bXI1Q1VQdDVtN2pwQm1Td2R6ODJ6NkVPbFMtVUhIcEhMSWpreThYWXpiRFRTOVVSS0Y1ODB2b0JLUmdpR21YSXlUNEwxVFl1Y0V3Vmdwcjg?oc=5&hl=en-IN&gl=IN&ceid=IN:en",
         "https://seekingalpha.com",
         "Seeking Alpha",
         "2025-06-03",
         "AAPL"
        ],
        [
         "26",
         "Apple: Berkshire Hathaway Offers Attractive Indirect Ownership (NASDAQ:AAPL) - Seeking Alpha",
         "Apple: Berkshire Hathaway Offers Attractive Indirect Ownership (NASDAQ:AAPL)  Seeking Alpha",
         "2025-06-02 07:00:00",
         "https://news.google.com/rss/articles/CBMipAFBVV95cUxPR1pLc1c3emIyb3dJZ2ExRnROUUhPQnB3dTJjMWItQmdkM0U1NHZRTTJkTHFtaGdHOW5QTlExbk9peS1mSEROTkJPUE15YWVVVlVCWHcza0M3OEhfXzNYVlBHdG5STWp4UzExUjl5UnBONEtZaTA1NlJnX1RHLW9DVDZLSlFhb3A0TkNpRkZKdWpYZUFPd0xuSDVHV2hvTThUcEppdg?oc=5&hl=en-IN&gl=IN&ceid=IN:en",
         "https://seekingalpha.com",
         "Seeking Alpha",
         "2025-06-02",
         "AAPL"
        ],
        [
         "27",
         "Apple Stock (AAPL) Won’t Be Saved by iPhones from India - TipRanks",
         "Apple Stock (AAPL) Won’t Be Saved by iPhones from India  TipRanks",
         "2025-05-27 07:00:00",
         "https://news.google.com/rss/articles/CBMiigFBVV95cUxNeTJJQnVpSFJEakpWVmlBdW1wQTZWOTZoeGZJR25aOU4xUG0xMWNNMEVYWUZ0ZTBxNGRHTzJ4eWh6N3dIc2xqNVlGWDg1eEg0U3U2dFJTdDhfdFBoclFWZzZLRnlQejhidFRLSHAtdUx3V09MRURJSk5zRHdobV9RQ1ZtVkliVmUxRUE?oc=5&hl=en-IN&gl=IN&ceid=IN:en",
         "https://www.tipranks.com",
         "TipRanks",
         "2025-05-27",
         "AAPL"
        ],
        [
         "28",
         "Apple (AAPL) Downgraded to 'Hold' by Needham on Weak iPhone Outlook - Yahoo Finance",
         "Apple (AAPL) Downgraded to 'Hold' by Needham on Weak iPhone Outlook  Yahoo Finance",
         "2025-06-05 07:00:00",
         "https://news.google.com/rss/articles/CBMihwFBVV95cUxPNV80dTBBYUpFX2xXSlZ2T3c3M3NwNWRDLXZKbTBZSEdnWDhUdFBOZ3FGVXBqRURQamo3TFYybXYtZHhRSF9OZ3k0bEJMZ0lZLTlLS3Fuenl5eUdnaWJVU19oRFRnaVgtZlM5dUxJT1JrSjJPUFlaeElQMjV5Z0kzWGZLTl9JVDg?oc=5&hl=en-IN&gl=IN&ceid=IN:en",
         "https://finance.yahoo.com",
         "Yahoo Finance",
         "2025-06-05",
         "AAPL"
        ],
        [
         "29",
         "‘Tariff Threat Overblown,’ Say Top Analysts as Apple (AAPL) Stock Falls Over 3% - TipRanks",
         "‘Tariff Threat Overblown,’ Say Top Analysts as Apple (AAPL) Stock Falls Over 3%  TipRanks",
         "2025-05-25 07:00:00",
         "https://news.google.com/rss/articles/CBMipgFBVV95cUxNYWZxSHRYOVM5cjNTOHpDSHp0MElJOWEwVjBOTUJVaUxza1RkRFJaZmo1ejk0T3lqVzdfZDRwTUpHN2Z0SnlSdzJXZHJTX0hNM1FqV0RDMDR0c2pIRjFJd3lFZkhka3dMMEdOYjlaZXN5NjdrZ2NMLXlUT2Q3RHN5aTdvWE9oQXRRS1M3QkJhZmV1cU9GTFlkbU9JcWQ1b3BUbkpOa1RB?oc=5&hl=en-IN&gl=IN&ceid=IN:en",
         "https://www.tipranks.com",
         "TipRanks",
         "2025-05-25",
         "AAPL"
        ],
        [
         "30",
         "Goldman Sachs Thinks You Should Buy Apple Stock Before June 9 - Barchart.com",
         "Goldman Sachs Thinks You Should Buy Apple Stock Before June 9  Barchart.com",
         "2025-05-29 07:00:00",
         "https://news.google.com/rss/articles/CBMiqgFBVV95cUxQV204OTBnQlF1T2J3Q1YzM0p0eVpnX1MzLUFfcWdORnBYeEd6ZDNCNXZSbUFqWFowd1RueVh5Y1dMSURhaDF2VXhBcEFGcG1ZbkxBY1cwRThDNlBMVEQtblRqZTRCWGhuV1dqUlhIYkRJREtURWdSdm5hYjlwMFZrdERTakZDZ2xhcmlxdlUwdWkyZEtjdUlocS1BV0hQNjlUbllEMnROdjZVZw?oc=5&hl=en-IN&gl=IN&ceid=IN:en",
         "https://www.barchart.com",
         "Barchart.com",
         "2025-05-29",
         "AAPL"
        ],
        [
         "31",
         "Apple (AAPL) Unveils 'Liquid Glass' Redesign, But AI Upgrades Leave Wall Street Cold - Yahoo Finance",
         "Apple (AAPL) Unveils 'Liquid Glass' Redesign, But AI Upgrades Leave Wall Street Cold  Yahoo Finance",
         "2025-06-10 07:00:00",
         "https://news.google.com/rss/articles/CBMigwFBVV95cUxOTVhQQmVyZ0otM0RfcnRNdTk5ZkZxMHlKQTVwd0Rqbm14bXdUUDlVZGx5bENJTW9PVllhYmc0WHZLbm1ObEJBOHZkQUEtYnBKaUJxRGNGNG4tc1lGYjhDcmlzZE5YWGFzVWFnQUxhWTN4SmNaZWtXbXFSUTZqcUVIYmgzNA?oc=5&hl=en-IN&gl=IN&ceid=IN:en",
         "https://finance.yahoo.com",
         "Yahoo Finance",
         "2025-06-10",
         "AAPL"
        ],
        [
         "32",
         "Apple (NasdaqGS:AAPL) Unveils New Products And OS Features Across Devices - Yahoo Finance",
         "Apple (NasdaqGS:AAPL) Unveils New Products And OS Features Across Devices  Yahoo Finance",
         "2025-06-10 07:00:00",
         "https://news.google.com/rss/articles/CBMiigFBVV95cUxNVGlhd1liVWZrNzh3MnJVemY5YjJBNGlMVy1XZ1NTbzI0UElrQzYwSE02VkF6akVaekNmSWdrRmNTQjY5Um9ucXJxMkEzV0RfRVN2WDNoaEt2QVUtY1J0QjZpSzZQYzFsTTBuRHJ1RE91bmhHNGd1d29XSEQxQXlFQUZqb2wwMWZiNWc?oc=5&hl=en-IN&gl=IN&ceid=IN:en",
         "https://finance.yahoo.com",
         "Yahoo Finance",
         "2025-06-10",
         "AAPL"
        ],
        [
         "33",
         "‘It might be another Apple or Microsoft’: My wife invested $100K in one stock and it exploded 1,500%. Do we sell? - MarketWatch",
         "‘It might be another Apple or Microsoft’: My wife invested $100K in one stock and it exploded 1,500%. Do we sell?  MarketWatch",
         "2025-06-09 07:00:00",
         "https://news.google.com/rss/articles/CBMi4wFBVV95cUxQUjBuTTVYbHNNbndvd0RDZUZvZHpNN2VYTTNoN2wwSFlETUlzdFBkN2R3V2hmNGtRUkNYSWFRbmxoeU5YcFpCRmlad1VsTDFNWmxrOS1mLWhibmNzc3k2M3g4bEFrVXg2QkJ2TGxCeW9iU09mTWhQZ0NtUGJscFpSRFJ5eW9IYVI1TmdZVy1XYzFsVHBxOG9veDE1WHVjcUxJUGFpVWZYeWVUT3JUUy11Qmh0MjVHUEIyU19KV0tUb01JX3VVUEhVSnJ3SUI5di1SU3BZMHZ6UXVSMHhuREp6aDBpWQ?oc=5&hl=en-IN&gl=IN&ceid=IN:en",
         "https://www.marketwatch.com",
         "MarketWatch",
         "2025-06-09",
         "AAPL"
        ],
        [
         "34",
         "UBS Reiterates Neutral on Apple (AAPL) as Tariff Talk Sparks iPhone Buying Surge - Yahoo Finance",
         "UBS Reiterates Neutral on Apple (AAPL) as Tariff Talk Sparks iPhone Buying Surge  Yahoo Finance",
         "2025-05-29 07:00:00",
         "https://news.google.com/rss/articles/CBMihgFBVV95cUxObUk2TUpLeWRJb2tRLWh5TGtaaFZKV0xJNzBmdHdRR2JVc1dhSGJ3RXVsWHlUOTVvVGQ0ZElORXpMWVBEN19qd2NYXzNzRFN5NFBkREJjVldpSHFPdlhjRF83MGp4ZmJtanNyMXRNb29VZi1wSFpKT3lIbDgzREd0V1EwYzQ0dw?oc=5&hl=en-IN&gl=IN&ceid=IN:en",
         "https://finance.yahoo.com",
         "Yahoo Finance",
         "2025-05-29",
         "AAPL"
        ],
        [
         "35",
         "Trump Threatens Apple on US-Made iPhones. How Should You Play AAPL Stock Here? - MSN",
         "Trump Threatens Apple on US-Made iPhones. How Should You Play AAPL Stock Here?  MSN",
         "2025-05-26 10:19:54",
         "https://news.google.com/rss/articles/CBMi6wFBVV95cUxQbmRUNVVKTGdQcy1vNzc1Wld4cS1TYm1VRkw1MlJxOHRTUV9PZkxQSGFBcHNOTDZvSjMzV01qUE1SSUhKRl9LZXkydG9oYi1RNlNRb3dNcFFGOXh4SlRTUUw2dS1peVdXcUdSQTBXb29BODhpUHJXYkM4aHpzczdXSktaaFBaVXFuZ0V4Mk9IV0pTNjU1dHpuZmNOWW92TFE4SVZPSXNtY1Jick5Xb1Ayd2RTWEJOQXBVMGpsU0xtX2FDSDBkcVMtX1ZubUNfbklqam1mcmJXSzlNWlFjMFUtLXNqNHFwVGQyX1Bv?oc=5&hl=en-IN&gl=IN&ceid=IN:en",
         "https://www.msn.com",
         "MSN",
         "2025-05-26",
         "AAPL"
        ],
        [
         "36",
         "Should You Buy AAPL Stock As Apple Cooks Up AI Glasses? - Barchart.com",
         "Should You Buy AAPL Stock As Apple Cooks Up AI Glasses?  Barchart.com",
         "2025-05-29 07:00:00",
         "https://news.google.com/rss/articles/CBMioAFBVV95cUxQWDJobi11bTFGZWFsUzcySHFfNXBxRzNVVGpXR0hLNnlqWGwycHJpdHRaWDFOU2FTYlZaek81QnJlbkRzUzhYb3djQWlzWVF2NXdyNmFVN3V5RkU1NkwtOEVTMThPT2hCWHlUWHZzc1E3QlNqRHRHWnlKZmZxSi1EZ2hmMmJST2hrbHp4UWxFaGpjQXl0d3dKVnQ3WVU4NFNa?oc=5&hl=en-IN&gl=IN&ceid=IN:en",
         "https://www.barchart.com",
         "Barchart.com",
         "2025-05-29",
         "AAPL"
        ],
        [
         "37",
         "Trump Threatens Apple On US-Made IPhones. How Should You Play AAPL Stock Here? - Barchart.com",
         "Trump Threatens Apple On US-Made IPhones. How Should You Play AAPL Stock Here?  Barchart.com",
         "2025-05-24 07:00:00",
         "https://news.google.com/rss/articles/CBMivgFBVV95cUxQc2JULUVDNUJCLVBMZXBQVWFrS0loUnI5TzBqa1ZicDZGMFJWdk4zY1pZUzRXQTZQdkJDajJrQy1KY1hNbnJyTXJOa1dsYV9JZlc3eEhtQVZsajhEQ2NrSkF4OWlGQXNpSXpISGFVTTFIMUJLYU5hQUs0dmkzNW1MVTV5VTB2QzJNazFSMDVGMU9MMnlzMTR6TEF0UWlPYVhiYTRHQm9pbFBudDYydzhtMUxUVG45d1M0MHVSeVBR?oc=5&hl=en-IN&gl=IN&ceid=IN:en",
         "https://www.barchart.com",
         "Barchart.com",
         "2025-05-24",
         "AAPL"
        ],
        [
         "38",
         "Apple’s Ecosystem Is Eating Hardware (NASDAQ:AAPL) - Seeking Alpha",
         "Apple’s Ecosystem Is Eating Hardware (NASDAQ:AAPL)  Seeking Alpha",
         "2025-05-23 07:00:00",
         "https://news.google.com/rss/articles/CBMifkFVX3lxTE1EQnpQLTRHaFd0cUc4Xzc1ZWUzQnRiQXBwcVpwVHhZYlZjVmMzZmxLUUx2NmFLb0tVWTEyUnUwWVNYNlluTU9KZFhxOWpLd0dMZUoybjlNU0pkZzVCY0w5SEVxRGttNldmYmxmaUo5MGxqaXB5b3lhMk9rSml0QQ?oc=5&hl=en-IN&gl=IN&ceid=IN:en",
         "https://seekingalpha.com",
         "Seeking Alpha",
         "2025-05-23",
         "AAPL"
        ],
        [
         "39",
         "Should You Buy the Dip in Apple Stock? What Market Pros Have to Say. - Business Insider",
         "Should You Buy the Dip in Apple Stock? What Market Pros Have to Say.  Business Insider",
         "2025-05-30 07:00:00",
         "https://news.google.com/rss/articles/CBMikAFBVV95cUxQMEI2ZWFNd3E5Y2cwYkhrSWt1ZzJ5TUJSVlRjT2o4VThNR3FtWjZBUTBYVkRzNmJBLVU5amN5VFFCcGZrZGpQNzdVMTlLWnZqaDhGZXlmbTRtT0VrZFE5cVBCTmFaZU9RU2JJVDFPVjJtUWpmWlB2TjNLRER6dXNERFFjMFY3Tnd5N3RQZWlxNno?oc=5&hl=en-IN&gl=IN&ceid=IN:en",
         "https://www.businessinsider.com",
         "Business Insider",
         "2025-05-30",
         "AAPL"
        ],
        [
         "40",
         "Apple: China Sales Collapse Is Only Getting Worse (NASDAQ:AAPL) - Seeking Alpha",
         "Apple: China Sales Collapse Is Only Getting Worse (NASDAQ:AAPL)  Seeking Alpha",
         "2025-05-30 07:00:00",
         "https://news.google.com/rss/articles/CBMikwFBVV95cUxPZ1R3d3VnTE9SYXJpNEdPSmcwQmNHLTFpcUNuZE1JNUlIOXNIZzlieVJhdjJvNlE5bkx4cy05UUM5bHJkYkNZUUM3UFR4SWxXS1pJZlFVa0dPbkUxTk1ueTlxS3ctYkNqSHE1SkJ0bWUzU1k2TmkxbmlOVFF3MFJxUGlCbnF6ZTFOZWlIcVp2X2Q3dEE?oc=5&hl=en-IN&gl=IN&ceid=IN:en",
         "https://seekingalpha.com",
         "Seeking Alpha",
         "2025-05-30",
         "AAPL"
        ],
        [
         "41",
         "Apple: Double-Down When The Market Gets Silly - Seeking Alpha",
         "Apple: Double-Down When The Market Gets Silly  Seeking Alpha",
         "2025-05-30 07:00:00",
         "https://news.google.com/rss/articles/CBMijgFBVV95cUxPeGJuNFhGUGRKVzZRRWp2M3FtTlFkNG8yT3NhWEhqMllOMXozdmM3ZkR2QW5Vc3N0UHA5QTNUN3dJdURxLWtvTDJ2dEFXMEF1Q3c3eFNMSVN6QjJONFdwd0hmV2pLM1lTOHJLNzBROUJmd1RTUFZxTDM5b3A2ek1UcC1iUnlOaXMzNnZjQ0VB?oc=5&hl=en-IN&gl=IN&ceid=IN:en",
         "https://seekingalpha.com",
         "Seeking Alpha",
         "2025-05-30",
         "AAPL"
        ],
        [
         "42",
         "Trump’s 25% Tariff Threat Looms, But Apple (AAPL) Isn’t Moving – Yet - Yahoo Finance",
         "Trump’s 25% Tariff Threat Looms, But Apple (AAPL) Isn’t Moving – Yet  Yahoo Finance",
         "2025-05-28 07:00:00",
         "https://news.google.com/rss/articles/CBMif0FVX3lxTFA4UXF0YlRrcy1DWHgyYXJQSFowQWxvWlV5Wm96NjNHdjQxUjlDS05qWWk5OXRmNy1rSHVYeG4wWElNZk13OEw0djBxMUd2eGhEVXo0UC1kQlA3dHJkdDZpOW82OXZXZE5ETGV2TktIR0JvLV9zNjd3RUQwVUQ4d0k?oc=5&hl=en-IN&gl=IN&ceid=IN:en",
         "https://finance.yahoo.com",
         "Yahoo Finance",
         "2025-05-28",
         "AAPL"
        ],
        [
         "43",
         "Apple Expands ChatGPT Deal and Mimics Google in AI Comeback Attempt - Bloomberg",
         "Apple Expands ChatGPT Deal and Mimics Google in AI Comeback Attempt  Bloomberg",
         "2025-06-09 07:00:00",
         "https://news.google.com/rss/articles/CBMiwwFBVV95cUxNbzY5bEtILTZrY25pd18zcTdFUkFoakRrUjdJLW5BUG1FQW5VLTVFZmk2R1lwUURTN3gxZ2ZRUDlXWWt6S1RPMUd0NkRtcS1ydGNqR2xIbFl6Q1F5dDRPSUpOTHRjaVhBR1lvWExpa1NIVkFaR2ROVFNWak1hMUpuYnR6ZmFiQXpVM2FLZ0ZBOV9NRjdJMG1sUEVKWEszX0lldWVSSU9vV3dEcF8zRXVZUUxtN2RHRl9IR3BnMElMc21SVTg?oc=5&hl=en-IN&gl=IN&ceid=IN:en",
         "https://www.bloomberg.com",
         "Bloomberg",
         "2025-06-09",
         "AAPL"
        ],
        [
         "44",
         "Apple Inc. (AAPL) to Show Off Incremental AI at WWDC, Analysts Temper Hype - Yahoo Finance",
         "Apple Inc. (AAPL) to Show Off Incremental AI at WWDC, Analysts Temper Hype  Yahoo Finance",
         "2025-06-04 07:00:00",
         "https://news.google.com/rss/articles/CBMieEFVX3lxTE9Rc1RWNjBLVjRPbHNfWFNvdFhTZ1lKU2N1LTU2b1lWWU55N2ZZY2pEYThEeVk3ejJzLUtCOTJ2a3lJVU9ydV9EekhIYl82d3AxZUVreXRGd0sxa2I1N0tuX0pxbHNLSXptNnRyN21MWTk4TXhnUkZocw?oc=5&hl=en-IN&gl=IN&ceid=IN:en",
         "https://finance.yahoo.com",
         "Yahoo Finance",
         "2025-06-04",
         "AAPL"
        ],
        [
         "45",
         "Jim Cramer Says Apple (AAPL) Seems to Be Hostage to a Different Agenda Inside the White House - Yahoo Finance",
         "Jim Cramer Says Apple (AAPL) Seems to Be Hostage to a Different Agenda Inside the White House  Yahoo Finance",
         "2025-06-09 07:00:00",
         "https://news.google.com/rss/articles/CBMifEFVX3lxTE0tNkRTa3pjM1lxTWtaS1NoVkk0eXNPV1EwTTdydVJPQks2THFPLTNPbllIejlzWWJPS3JaY19vaFBPT2xlaVBhdmlNS1ZOMVZSb1VwRHpsZ05nVFMyMlljdVozOUI3Wk9KVW84aDBQRi04ZEhNemJEQVhrNG0?oc=5&hl=en-IN&gl=IN&ceid=IN:en",
         "https://finance.yahoo.com",
         "Yahoo Finance",
         "2025-06-09",
         "AAPL"
        ],
        [
         "46",
         "Apple's Perfect Storm: Tariffs, China, AI, And Innovation (NASDAQ:AAPL) - Seeking Alpha",
         "Apple's Perfect Storm: Tariffs, China, AI, And Innovation (NASDAQ:AAPL)  Seeking Alpha",
         "2025-05-29 07:00:00",
         "https://news.google.com/rss/articles/CBMimAFBVV95cUxNY3gzWmFfY0JBcWh0bGc5U1NZbDlFNFBIZFpSZzhtS2FBTTFVYTF4eHJpdWg3Z3d2YnhOY3Vpb0Rtb3d2eVlLRHM2NE5IMjdMWUk5Um5Qek1BMzU5ekt1b0VGQWQ3OHRfU0FPQmhudFZrM3JjOV9RZ0swVFltYUttQ00zU1IzSV9hS1N1LU9RMEx1UEdfT3U2NA?oc=5&hl=en-IN&gl=IN&ceid=IN:en",
         "https://seekingalpha.com",
         "Seeking Alpha",
         "2025-05-29",
         "AAPL"
        ],
        [
         "47",
         "Apple: Quantifying The Impact Of 25% Tariffs On Gross Margins (NASDAQ:AAPL) - Seeking Alpha",
         "Apple: Quantifying The Impact Of 25% Tariffs On Gross Margins (NASDAQ:AAPL)  Seeking Alpha",
         "2025-05-27 07:00:00",
         "https://news.google.com/rss/articles/CBMirAFBVV95cUxPVGd3ZWZCUXJINFd6WmFJY2JIMTFlVWZ2UFRsdEtNY3doODkyUWdnWkJTVkY5TXY1b0FaVnlhVU9NOUw0U29vNzRPZDhFSFNOWWRNYi10RlNpN3gxbFBBWE1mV1hTSG5sSUV1UkZGd0NkRTh0LUR4OF9EaW44OHlaTjZzMjRhU3BSaWwyZklkb1diS0Ewc3JJUGdPY1VWZlZwbjJnMzc1Z2t2dUNz?oc=5&hl=en-IN&gl=IN&ceid=IN:en",
         "https://seekingalpha.com",
         "Seeking Alpha",
         "2025-05-27",
         "AAPL"
        ],
        [
         "48",
         "Famous Investor Suggests That Apple (AAPL) Is Not a Buy - Insider Monkey",
         "Famous Investor Suggests That Apple (AAPL) Is Not a Buy  Insider Monkey",
         "2025-05-27 07:00:00",
         "https://news.google.com/rss/articles/CBMingFBVV95cUxOT3FwNzJtQ2o0MzY3Z3EwMkd6Mzd3TklIeUNyOHdNY2RWWENyMVFaLTM3RG5aZWdtdURDZFZJS3BhbzlWb3l1dEZhZ0lFVUx3Umg0RVNaY1JZSmR0aG1KRzctS3ZkQS1TbUhQUl85dXRhNlMyZVdpOU1zWmJEc25qT2dPSHNyRWUyazUzemg0TlpoRThtVVZJTjRaZHJtQdIBpgFBVV95cUxNYmdBTVhUa2xKWXRWbU9ybUJSY2JSMjIzWWRELU00TjVTUS1oYzNRcU5zdGdidHN4NFRWU0NwaE1wVXdILUVhZ28xT1FsN3FGUnNBUGhCNGpCUlBjLVdZeW5iUzZCWkpNcHhhbmxHekFvQ2RhYUdaWXZRUmZ6Nk9wdmVQVTlkUFJfdmptVHhWdTlkZEdCeGxSdWVobXB0LTV5R3J0Y0dB?oc=5&hl=en-IN&gl=IN&ceid=IN:en",
         "https://www.insidermonkey.com",
         "Insider Monkey",
         "2025-05-27",
         "AAPL"
        ],
        [
         "49",
         "Buy, Sell or Hold the Apple Stock Post the WWDC25 Announcements? - Yahoo Finance",
         "Buy, Sell or Hold the Apple Stock Post the WWDC25 Announcements?  Yahoo Finance",
         "2025-06-11 07:00:00",
         "https://news.google.com/rss/articles/CBMie0FVX3lxTE5MVjVoalVzUGpwak50WjBVVC1JSE0zNWtIY3N3OGJ2eFlBWHFzUFRDRmdNWjNXYkh1OVFEQ2ZqdWhJUmt4a0J3MmRDQkp5UmNnUHNmOFU2NjRtV29XM0IydjRpMmhnOWwyQVRSWjRIOGdNbUVnZzlMY2JKTQ?oc=5&hl=en-IN&gl=IN&ceid=IN:en",
         "https://finance.yahoo.com",
         "Yahoo Finance",
         "2025-06-11",
         "AAPL"
        ]
       ],
       "shape": {
        "columns": 8,
        "rows": 100
       }
      },
      "text/html": [
       "<div>\n",
       "<style scoped>\n",
       "    .dataframe tbody tr th:only-of-type {\n",
       "        vertical-align: middle;\n",
       "    }\n",
       "\n",
       "    .dataframe tbody tr th {\n",
       "        vertical-align: top;\n",
       "    }\n",
       "\n",
       "    .dataframe thead th {\n",
       "        text-align: right;\n",
       "    }\n",
       "</style>\n",
       "<table border=\"1\" class=\"dataframe\">\n",
       "  <thead>\n",
       "    <tr style=\"text-align: right;\">\n",
       "      <th></th>\n",
       "      <th>headline</th>\n",
       "      <th>description</th>\n",
       "      <th>published date</th>\n",
       "      <th>url</th>\n",
       "      <th>link</th>\n",
       "      <th>title</th>\n",
       "      <th>date</th>\n",
       "      <th>stock_code</th>\n",
       "    </tr>\n",
       "  </thead>\n",
       "  <tbody>\n",
       "    <tr>\n",
       "      <th>0</th>\n",
       "      <td>Apple (AAPL) Faces Significant Threat From Cha...</td>\n",
       "      <td>Apple (AAPL) Faces Significant Threat From Cha...</td>\n",
       "      <td>2025-05-27 07:00:00</td>\n",
       "      <td>https://news.google.com/rss/articles/CBMiiAFBV...</td>\n",
       "      <td>https://finance.yahoo.com</td>\n",
       "      <td>Yahoo Finance</td>\n",
       "      <td>2025-05-27</td>\n",
       "      <td>AAPL</td>\n",
       "    </tr>\n",
       "    <tr>\n",
       "      <th>1</th>\n",
       "      <td>Apple has been the worst Big Tech stock lately...</td>\n",
       "      <td>Apple has been the worst Big Tech stock lately...</td>\n",
       "      <td>2025-05-24 07:00:00</td>\n",
       "      <td>https://news.google.com/rss/articles/CBMi0wFBV...</td>\n",
       "      <td>https://www.marketwatch.com</td>\n",
       "      <td>MarketWatch</td>\n",
       "      <td>2025-05-24</td>\n",
       "      <td>AAPL</td>\n",
       "    </tr>\n",
       "    <tr>\n",
       "      <th>2</th>\n",
       "      <td>Best Stock to Buy Right Now: Apple vs. Chipotl...</td>\n",
       "      <td>Best Stock to Buy Right Now: Apple vs. Chipotl...</td>\n",
       "      <td>2025-05-31 07:00:00</td>\n",
       "      <td>https://news.google.com/rss/articles/CBMikgFBV...</td>\n",
       "      <td>https://www.fool.com</td>\n",
       "      <td>The Motley Fool</td>\n",
       "      <td>2025-05-31</td>\n",
       "      <td>AAPL</td>\n",
       "    </tr>\n",
       "    <tr>\n",
       "      <th>3</th>\n",
       "      <td>Apple Inc. (AAPL) is Attracting Investor Atten...</td>\n",
       "      <td>Apple Inc. (AAPL) is Attracting Investor Atten...</td>\n",
       "      <td>2025-05-27 07:00:00</td>\n",
       "      <td>https://news.google.com/rss/articles/CBMipwFBV...</td>\n",
       "      <td>https://www.nasdaq.com</td>\n",
       "      <td>Nasdaq</td>\n",
       "      <td>2025-05-27</td>\n",
       "      <td>AAPL</td>\n",
       "    </tr>\n",
       "    <tr>\n",
       "      <th>4</th>\n",
       "      <td>'Little, little screws' one of many hurdles to...</td>\n",
       "      <td>'Little, little screws' one of many hurdles to...</td>\n",
       "      <td>2025-05-24 07:00:00</td>\n",
       "      <td>https://news.google.com/rss/articles/CBMinwFBV...</td>\n",
       "      <td>https://www.reuters.com</td>\n",
       "      <td>Reuters</td>\n",
       "      <td>2025-05-24</td>\n",
       "      <td>AAPL</td>\n",
       "    </tr>\n",
       "    <tr>\n",
       "      <th>...</th>\n",
       "      <td>...</td>\n",
       "      <td>...</td>\n",
       "      <td>...</td>\n",
       "      <td>...</td>\n",
       "      <td>...</td>\n",
       "      <td>...</td>\n",
       "      <td>...</td>\n",
       "      <td>...</td>\n",
       "    </tr>\n",
       "    <tr>\n",
       "      <th>95</th>\n",
       "      <td>4 stocks to watch on Wednesday: AAPL, DLTR, MD...</td>\n",
       "      <td>4 stocks to watch on Wednesday: AAPL, DLTR, MD...</td>\n",
       "      <td>2025-06-04 07:00:00</td>\n",
       "      <td>https://news.google.com/rss/articles/CBMilAFBV...</td>\n",
       "      <td>https://seekingalpha.com</td>\n",
       "      <td>Seeking Alpha</td>\n",
       "      <td>2025-06-04</td>\n",
       "      <td>AAPL</td>\n",
       "    </tr>\n",
       "    <tr>\n",
       "      <th>96</th>\n",
       "      <td>“Lackluster” WWDC Ahead: Apple Stock (NASDAQ:A...</td>\n",
       "      <td>“Lackluster” WWDC Ahead: Apple Stock (NASDAQ:A...</td>\n",
       "      <td>2025-06-06 07:00:00</td>\n",
       "      <td>https://news.google.com/rss/articles/CBMipgFBV...</td>\n",
       "      <td>https://www.tipranks.com</td>\n",
       "      <td>TipRanks</td>\n",
       "      <td>2025-06-06</td>\n",
       "      <td>AAPL</td>\n",
       "    </tr>\n",
       "    <tr>\n",
       "      <th>97</th>\n",
       "      <td>Apple Stock (AAPL) Advances as it Deepens Indi...</td>\n",
       "      <td>Apple Stock (AAPL) Advances as it Deepens Indi...</td>\n",
       "      <td>2025-06-05 07:00:00</td>\n",
       "      <td>https://news.google.com/rss/articles/CBMilwFBV...</td>\n",
       "      <td>https://www.tipranks.com</td>\n",
       "      <td>TipRanks</td>\n",
       "      <td>2025-06-05</td>\n",
       "      <td>AAPL</td>\n",
       "    </tr>\n",
       "    <tr>\n",
       "      <th>98</th>\n",
       "      <td>Apple: The Covert Cyclical Of The Mag 7 (NASDA...</td>\n",
       "      <td>Apple: The Covert Cyclical Of The Mag 7 (NASDA...</td>\n",
       "      <td>2025-05-27 07:00:00</td>\n",
       "      <td>https://news.google.com/rss/articles/CBMid0FVX...</td>\n",
       "      <td>https://seekingalpha.com</td>\n",
       "      <td>Seeking Alpha</td>\n",
       "      <td>2025-05-27</td>\n",
       "      <td>AAPL</td>\n",
       "    </tr>\n",
       "    <tr>\n",
       "      <th>99</th>\n",
       "      <td>Jim Cramer on Apple Inc. (AAPL): “They’ll Have...</td>\n",
       "      <td>Jim Cramer on Apple Inc. (AAPL): “They’ll Have...</td>\n",
       "      <td>2025-05-29 20:22:34</td>\n",
       "      <td>https://news.google.com/rss/articles/CBMif0FVX...</td>\n",
       "      <td>https://ca.finance.yahoo.com</td>\n",
       "      <td>Yahoo</td>\n",
       "      <td>2025-05-29</td>\n",
       "      <td>AAPL</td>\n",
       "    </tr>\n",
       "  </tbody>\n",
       "</table>\n",
       "<p>100 rows × 8 columns</p>\n",
       "</div>"
      ],
      "text/plain": [
       "                                             headline  \\\n",
       "0   Apple (AAPL) Faces Significant Threat From Cha...   \n",
       "1   Apple has been the worst Big Tech stock lately...   \n",
       "2   Best Stock to Buy Right Now: Apple vs. Chipotl...   \n",
       "3   Apple Inc. (AAPL) is Attracting Investor Atten...   \n",
       "4   'Little, little screws' one of many hurdles to...   \n",
       "..                                                ...   \n",
       "95  4 stocks to watch on Wednesday: AAPL, DLTR, MD...   \n",
       "96  “Lackluster” WWDC Ahead: Apple Stock (NASDAQ:A...   \n",
       "97  Apple Stock (AAPL) Advances as it Deepens Indi...   \n",
       "98  Apple: The Covert Cyclical Of The Mag 7 (NASDA...   \n",
       "99  Jim Cramer on Apple Inc. (AAPL): “They’ll Have...   \n",
       "\n",
       "                                          description      published date  \\\n",
       "0   Apple (AAPL) Faces Significant Threat From Cha... 2025-05-27 07:00:00   \n",
       "1   Apple has been the worst Big Tech stock lately... 2025-05-24 07:00:00   \n",
       "2   Best Stock to Buy Right Now: Apple vs. Chipotl... 2025-05-31 07:00:00   \n",
       "3   Apple Inc. (AAPL) is Attracting Investor Atten... 2025-05-27 07:00:00   \n",
       "4   'Little, little screws' one of many hurdles to... 2025-05-24 07:00:00   \n",
       "..                                                ...                 ...   \n",
       "95  4 stocks to watch on Wednesday: AAPL, DLTR, MD... 2025-06-04 07:00:00   \n",
       "96  “Lackluster” WWDC Ahead: Apple Stock (NASDAQ:A... 2025-06-06 07:00:00   \n",
       "97  Apple Stock (AAPL) Advances as it Deepens Indi... 2025-06-05 07:00:00   \n",
       "98  Apple: The Covert Cyclical Of The Mag 7 (NASDA... 2025-05-27 07:00:00   \n",
       "99  Jim Cramer on Apple Inc. (AAPL): “They’ll Have... 2025-05-29 20:22:34   \n",
       "\n",
       "                                                  url  \\\n",
       "0   https://news.google.com/rss/articles/CBMiiAFBV...   \n",
       "1   https://news.google.com/rss/articles/CBMi0wFBV...   \n",
       "2   https://news.google.com/rss/articles/CBMikgFBV...   \n",
       "3   https://news.google.com/rss/articles/CBMipwFBV...   \n",
       "4   https://news.google.com/rss/articles/CBMinwFBV...   \n",
       "..                                                ...   \n",
       "95  https://news.google.com/rss/articles/CBMilAFBV...   \n",
       "96  https://news.google.com/rss/articles/CBMipgFBV...   \n",
       "97  https://news.google.com/rss/articles/CBMilwFBV...   \n",
       "98  https://news.google.com/rss/articles/CBMid0FVX...   \n",
       "99  https://news.google.com/rss/articles/CBMif0FVX...   \n",
       "\n",
       "                            link            title        date stock_code  \n",
       "0      https://finance.yahoo.com    Yahoo Finance  2025-05-27       AAPL  \n",
       "1    https://www.marketwatch.com      MarketWatch  2025-05-24       AAPL  \n",
       "2           https://www.fool.com  The Motley Fool  2025-05-31       AAPL  \n",
       "3         https://www.nasdaq.com           Nasdaq  2025-05-27       AAPL  \n",
       "4        https://www.reuters.com          Reuters  2025-05-24       AAPL  \n",
       "..                           ...              ...         ...        ...  \n",
       "95      https://seekingalpha.com    Seeking Alpha  2025-06-04       AAPL  \n",
       "96      https://www.tipranks.com         TipRanks  2025-06-06       AAPL  \n",
       "97      https://www.tipranks.com         TipRanks  2025-06-05       AAPL  \n",
       "98      https://seekingalpha.com    Seeking Alpha  2025-05-27       AAPL  \n",
       "99  https://ca.finance.yahoo.com            Yahoo  2025-05-29       AAPL  \n",
       "\n",
       "[100 rows x 8 columns]"
      ]
     },
     "execution_count": 13,
     "metadata": {},
     "output_type": "execute_result"
    }
   ],
   "source": [
    "all_articles"
   ]
  }
 ],
 "metadata": {
  "kernelspec": {
   "display_name": "base",
   "language": "python",
   "name": "python3"
  },
  "language_info": {
   "codemirror_mode": {
    "name": "ipython",
    "version": 3
   },
   "file_extension": ".py",
   "mimetype": "text/x-python",
   "name": "python",
   "nbconvert_exporter": "python",
   "pygments_lexer": "ipython3",
   "version": "3.12.9"
  }
 },
 "nbformat": 4,
 "nbformat_minor": 5
}
