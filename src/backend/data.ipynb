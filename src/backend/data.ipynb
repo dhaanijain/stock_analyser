{
 "cells": [
  {
   "cell_type": "code",
   "execution_count": 1,
   "id": "fd82644b",
   "metadata": {},
   "outputs": [
    {
     "name": "stderr",
     "output_type": "stream",
     "text": [
      "\u001b[32m2025-06-23 21:45:31.744\u001b[0m | \u001b[34m\u001b[1mDEBUG   \u001b[0m | \u001b[36mkrazy.utility_functions\u001b[0m:\u001b[33mconfigure:1048\u001b[0m - \u001b[34m\u001b[1mLogger initialized at: C:\\Users\\dhaan\\OneDrive\\Documents\\Python\\AI Project\\logs\\stock_analyzer.log\u001b[0m\n"
     ]
    }
   ],
   "source": [
    "from data_analysis import data_analysis\n",
    "from data_analysis import plot_area_chart\n",
    "from data_analysis import plot_sentiment_heatmap_plotly\n",
    "from data_analysis import plot_gradient_sentiment_overlay\n",
    "from data_analysis import plot_interactive\n",
    "from data_analysis import plot_sentiment_spikes\n",
    "from data_handeling import fetch_prices\n",
    "from data_handeling import articles_fetch_data\n",
    "# from data_analysis import price_analysis\n",
    "# from data_processing import one_hot_encode_sentiment\n",
    "\n",
    "from IPython.display import display\n",
    "import sqlite3\n",
    "import pandas as pd\n",
    "\n",
    "ticker = \"AAPL\"\n",
    "start_date = \"2025-05-12\"\n",
    "end_date = \"2025-06-11\"\n",
    "db_path = '../backend/stock_data.db'  # Adjust path if needed\n",
    "# conn = sqlite3.connect(db_path)\n",
    "# query = '''\n",
    "#     SELECT * FROM stock_analyzer.stock_prices WHERE ticker = ? AND date BETWEEN ? AND ? ORDER BY date\n",
    "# '''\n",
    "# df_price = pd.read_sql_query(query, conn, params=(ticker, start_date, end_date))\n",
    "# conn.close()\n",
    "# # Usage in a notebook cell:\n",
    "\n",
    "df_price = fetch_prices(ticker, start_date, end_date)\n",
    "df_articles = articles_fetch_data(ticker, start_date, end_date)\n",
    "\n",
    "# df_price.sort_values(by='date', inplace=True, ascending=True)\n",
    "# df_price = df_price.loc[df_price['sentiment_score'].notna()]\n",
    "# fig = plot_sentiment_heatmap_plotly(df_price)\n",
    "\n",
    "# fig = plot_area_chart(df_price)\n",
    "\n",
    "# fig = plot_gradient_sentiment_overlay(df_price)\n",
    "\n",
    "# fig = plot_interactive(df_price)\n",
    "\n",
    "# fig.show()\n",
    "\n",
    "# fig = data_analysis()\n",
    "# return fig\n",
    "# fig.savefig(f\"data_analysis_{ticker}_{start_date}_{end_date}.png\")\n"
   ]
  },
  {
   "cell_type": "code",
   "execution_count": 2,
   "id": "8ce2157c",
   "metadata": {},
   "outputs": [
    {
     "data": {
      "application/vnd.plotly.v1+json": {
       "config": {
        "plotlyServerURL": "https://plot.ly"
       },
       "data": [
        {
         "coloraxis": "coloraxis",
         "hovertemplate": "day: %{x}<br>month: %{y}<br>Sentiment Score: %{z}<extra></extra>",
         "name": "0",
         "type": "heatmap",
         "x": {
          "bdata": "AgAAAAMAAAAEAAAABQAAAAYAAAAJAAAACgAAAAwAAAAPAAAAFAAAABYAAAAXAAAAGwAAABwAAAAdAAAAHgAAAA==",
          "dtype": "i4"
         },
         "xaxis": "x",
         "y": [
          "May",
          "June"
         ],
         "yaxis": "y",
         "z": {
          "bdata": "AAAAAAAA+H8AAAAAAAD4fwAAAAAAAPh/AAAAAAAA+H8AAAAAAAD4fwAAAAAAAPh/AAAAAAAA+H86I0p7gy/cPwAAAAAAAAAAAAAAAAAAAAAAAAAAAAAAANCzWfW52sC/sajOdcl+uD/QCmtQIUSPv1zo4LhBwcY/6iYxCKwcqr8T8kHPZtXUP8DctYR80IO/HVpkO99Pvb99PzVeuknEvyNseHqlLMs/qhVEaLVehz9XpQcYcKmdPwAAAAAAAPh/AAAAAAAA+H8AAAAAAAD4fwAAAAAAAPh/AAAAAAAA+H8AAAAAAAD4fwAAAAAAAPh/AAAAAAAA+H8AAAAAAAD4fw==",
          "dtype": "f8",
          "shape": "2, 16"
         }
        }
       ],
       "layout": {
        "coloraxis": {
         "colorbar": {
          "title": {
           "text": "Sentiment Score"
          }
         },
         "colorscale": [
          [
           0,
           "rgb(165,0,38)"
          ],
          [
           0.1,
           "rgb(215,48,39)"
          ],
          [
           0.2,
           "rgb(244,109,67)"
          ],
          [
           0.3,
           "rgb(253,174,97)"
          ],
          [
           0.4,
           "rgb(254,224,139)"
          ],
          [
           0.5,
           "rgb(255,255,191)"
          ],
          [
           0.6,
           "rgb(217,239,139)"
          ],
          [
           0.7,
           "rgb(166,217,106)"
          ],
          [
           0.8,
           "rgb(102,189,99)"
          ],
          [
           0.9,
           "rgb(26,152,80)"
          ],
          [
           1,
           "rgb(0,104,55)"
          ]
         ]
        },
        "template": {
         "data": {
          "bar": [
           {
            "error_x": {
             "color": "#2a3f5f"
            },
            "error_y": {
             "color": "#2a3f5f"
            },
            "marker": {
             "line": {
              "color": "#E5ECF6",
              "width": 0.5
             },
             "pattern": {
              "fillmode": "overlay",
              "size": 10,
              "solidity": 0.2
             }
            },
            "type": "bar"
           }
          ],
          "barpolar": [
           {
            "marker": {
             "line": {
              "color": "#E5ECF6",
              "width": 0.5
             },
             "pattern": {
              "fillmode": "overlay",
              "size": 10,
              "solidity": 0.2
             }
            },
            "type": "barpolar"
           }
          ],
          "carpet": [
           {
            "aaxis": {
             "endlinecolor": "#2a3f5f",
             "gridcolor": "white",
             "linecolor": "white",
             "minorgridcolor": "white",
             "startlinecolor": "#2a3f5f"
            },
            "baxis": {
             "endlinecolor": "#2a3f5f",
             "gridcolor": "white",
             "linecolor": "white",
             "minorgridcolor": "white",
             "startlinecolor": "#2a3f5f"
            },
            "type": "carpet"
           }
          ],
          "choropleth": [
           {
            "colorbar": {
             "outlinewidth": 0,
             "ticks": ""
            },
            "type": "choropleth"
           }
          ],
          "contour": [
           {
            "colorbar": {
             "outlinewidth": 0,
             "ticks": ""
            },
            "colorscale": [
             [
              0,
              "#0d0887"
             ],
             [
              0.1111111111111111,
              "#46039f"
             ],
             [
              0.2222222222222222,
              "#7201a8"
             ],
             [
              0.3333333333333333,
              "#9c179e"
             ],
             [
              0.4444444444444444,
              "#bd3786"
             ],
             [
              0.5555555555555556,
              "#d8576b"
             ],
             [
              0.6666666666666666,
              "#ed7953"
             ],
             [
              0.7777777777777778,
              "#fb9f3a"
             ],
             [
              0.8888888888888888,
              "#fdca26"
             ],
             [
              1,
              "#f0f921"
             ]
            ],
            "type": "contour"
           }
          ],
          "contourcarpet": [
           {
            "colorbar": {
             "outlinewidth": 0,
             "ticks": ""
            },
            "type": "contourcarpet"
           }
          ],
          "heatmap": [
           {
            "colorbar": {
             "outlinewidth": 0,
             "ticks": ""
            },
            "colorscale": [
             [
              0,
              "#0d0887"
             ],
             [
              0.1111111111111111,
              "#46039f"
             ],
             [
              0.2222222222222222,
              "#7201a8"
             ],
             [
              0.3333333333333333,
              "#9c179e"
             ],
             [
              0.4444444444444444,
              "#bd3786"
             ],
             [
              0.5555555555555556,
              "#d8576b"
             ],
             [
              0.6666666666666666,
              "#ed7953"
             ],
             [
              0.7777777777777778,
              "#fb9f3a"
             ],
             [
              0.8888888888888888,
              "#fdca26"
             ],
             [
              1,
              "#f0f921"
             ]
            ],
            "type": "heatmap"
           }
          ],
          "histogram": [
           {
            "marker": {
             "pattern": {
              "fillmode": "overlay",
              "size": 10,
              "solidity": 0.2
             }
            },
            "type": "histogram"
           }
          ],
          "histogram2d": [
           {
            "colorbar": {
             "outlinewidth": 0,
             "ticks": ""
            },
            "colorscale": [
             [
              0,
              "#0d0887"
             ],
             [
              0.1111111111111111,
              "#46039f"
             ],
             [
              0.2222222222222222,
              "#7201a8"
             ],
             [
              0.3333333333333333,
              "#9c179e"
             ],
             [
              0.4444444444444444,
              "#bd3786"
             ],
             [
              0.5555555555555556,
              "#d8576b"
             ],
             [
              0.6666666666666666,
              "#ed7953"
             ],
             [
              0.7777777777777778,
              "#fb9f3a"
             ],
             [
              0.8888888888888888,
              "#fdca26"
             ],
             [
              1,
              "#f0f921"
             ]
            ],
            "type": "histogram2d"
           }
          ],
          "histogram2dcontour": [
           {
            "colorbar": {
             "outlinewidth": 0,
             "ticks": ""
            },
            "colorscale": [
             [
              0,
              "#0d0887"
             ],
             [
              0.1111111111111111,
              "#46039f"
             ],
             [
              0.2222222222222222,
              "#7201a8"
             ],
             [
              0.3333333333333333,
              "#9c179e"
             ],
             [
              0.4444444444444444,
              "#bd3786"
             ],
             [
              0.5555555555555556,
              "#d8576b"
             ],
             [
              0.6666666666666666,
              "#ed7953"
             ],
             [
              0.7777777777777778,
              "#fb9f3a"
             ],
             [
              0.8888888888888888,
              "#fdca26"
             ],
             [
              1,
              "#f0f921"
             ]
            ],
            "type": "histogram2dcontour"
           }
          ],
          "mesh3d": [
           {
            "colorbar": {
             "outlinewidth": 0,
             "ticks": ""
            },
            "type": "mesh3d"
           }
          ],
          "parcoords": [
           {
            "line": {
             "colorbar": {
              "outlinewidth": 0,
              "ticks": ""
             }
            },
            "type": "parcoords"
           }
          ],
          "pie": [
           {
            "automargin": true,
            "type": "pie"
           }
          ],
          "scatter": [
           {
            "fillpattern": {
             "fillmode": "overlay",
             "size": 10,
             "solidity": 0.2
            },
            "type": "scatter"
           }
          ],
          "scatter3d": [
           {
            "line": {
             "colorbar": {
              "outlinewidth": 0,
              "ticks": ""
             }
            },
            "marker": {
             "colorbar": {
              "outlinewidth": 0,
              "ticks": ""
             }
            },
            "type": "scatter3d"
           }
          ],
          "scattercarpet": [
           {
            "marker": {
             "colorbar": {
              "outlinewidth": 0,
              "ticks": ""
             }
            },
            "type": "scattercarpet"
           }
          ],
          "scattergeo": [
           {
            "marker": {
             "colorbar": {
              "outlinewidth": 0,
              "ticks": ""
             }
            },
            "type": "scattergeo"
           }
          ],
          "scattergl": [
           {
            "marker": {
             "colorbar": {
              "outlinewidth": 0,
              "ticks": ""
             }
            },
            "type": "scattergl"
           }
          ],
          "scattermap": [
           {
            "marker": {
             "colorbar": {
              "outlinewidth": 0,
              "ticks": ""
             }
            },
            "type": "scattermap"
           }
          ],
          "scattermapbox": [
           {
            "marker": {
             "colorbar": {
              "outlinewidth": 0,
              "ticks": ""
             }
            },
            "type": "scattermapbox"
           }
          ],
          "scatterpolar": [
           {
            "marker": {
             "colorbar": {
              "outlinewidth": 0,
              "ticks": ""
             }
            },
            "type": "scatterpolar"
           }
          ],
          "scatterpolargl": [
           {
            "marker": {
             "colorbar": {
              "outlinewidth": 0,
              "ticks": ""
             }
            },
            "type": "scatterpolargl"
           }
          ],
          "scatterternary": [
           {
            "marker": {
             "colorbar": {
              "outlinewidth": 0,
              "ticks": ""
             }
            },
            "type": "scatterternary"
           }
          ],
          "surface": [
           {
            "colorbar": {
             "outlinewidth": 0,
             "ticks": ""
            },
            "colorscale": [
             [
              0,
              "#0d0887"
             ],
             [
              0.1111111111111111,
              "#46039f"
             ],
             [
              0.2222222222222222,
              "#7201a8"
             ],
             [
              0.3333333333333333,
              "#9c179e"
             ],
             [
              0.4444444444444444,
              "#bd3786"
             ],
             [
              0.5555555555555556,
              "#d8576b"
             ],
             [
              0.6666666666666666,
              "#ed7953"
             ],
             [
              0.7777777777777778,
              "#fb9f3a"
             ],
             [
              0.8888888888888888,
              "#fdca26"
             ],
             [
              1,
              "#f0f921"
             ]
            ],
            "type": "surface"
           }
          ],
          "table": [
           {
            "cells": {
             "fill": {
              "color": "#EBF0F8"
             },
             "line": {
              "color": "white"
             }
            },
            "header": {
             "fill": {
              "color": "#C8D4E3"
             },
             "line": {
              "color": "white"
             }
            },
            "type": "table"
           }
          ]
         },
         "layout": {
          "annotationdefaults": {
           "arrowcolor": "#2a3f5f",
           "arrowhead": 0,
           "arrowwidth": 1
          },
          "autotypenumbers": "strict",
          "coloraxis": {
           "colorbar": {
            "outlinewidth": 0,
            "ticks": ""
           }
          },
          "colorscale": {
           "diverging": [
            [
             0,
             "#8e0152"
            ],
            [
             0.1,
             "#c51b7d"
            ],
            [
             0.2,
             "#de77ae"
            ],
            [
             0.3,
             "#f1b6da"
            ],
            [
             0.4,
             "#fde0ef"
            ],
            [
             0.5,
             "#f7f7f7"
            ],
            [
             0.6,
             "#e6f5d0"
            ],
            [
             0.7,
             "#b8e186"
            ],
            [
             0.8,
             "#7fbc41"
            ],
            [
             0.9,
             "#4d9221"
            ],
            [
             1,
             "#276419"
            ]
           ],
           "sequential": [
            [
             0,
             "#0d0887"
            ],
            [
             0.1111111111111111,
             "#46039f"
            ],
            [
             0.2222222222222222,
             "#7201a8"
            ],
            [
             0.3333333333333333,
             "#9c179e"
            ],
            [
             0.4444444444444444,
             "#bd3786"
            ],
            [
             0.5555555555555556,
             "#d8576b"
            ],
            [
             0.6666666666666666,
             "#ed7953"
            ],
            [
             0.7777777777777778,
             "#fb9f3a"
            ],
            [
             0.8888888888888888,
             "#fdca26"
            ],
            [
             1,
             "#f0f921"
            ]
           ],
           "sequentialminus": [
            [
             0,
             "#0d0887"
            ],
            [
             0.1111111111111111,
             "#46039f"
            ],
            [
             0.2222222222222222,
             "#7201a8"
            ],
            [
             0.3333333333333333,
             "#9c179e"
            ],
            [
             0.4444444444444444,
             "#bd3786"
            ],
            [
             0.5555555555555556,
             "#d8576b"
            ],
            [
             0.6666666666666666,
             "#ed7953"
            ],
            [
             0.7777777777777778,
             "#fb9f3a"
            ],
            [
             0.8888888888888888,
             "#fdca26"
            ],
            [
             1,
             "#f0f921"
            ]
           ]
          },
          "colorway": [
           "#636efa",
           "#EF553B",
           "#00cc96",
           "#ab63fa",
           "#FFA15A",
           "#19d3f3",
           "#FF6692",
           "#B6E880",
           "#FF97FF",
           "#FECB52"
          ],
          "font": {
           "color": "#2a3f5f"
          },
          "geo": {
           "bgcolor": "white",
           "lakecolor": "white",
           "landcolor": "#E5ECF6",
           "showlakes": true,
           "showland": true,
           "subunitcolor": "white"
          },
          "hoverlabel": {
           "align": "left"
          },
          "hovermode": "closest",
          "mapbox": {
           "style": "light"
          },
          "paper_bgcolor": "white",
          "plot_bgcolor": "#E5ECF6",
          "polar": {
           "angularaxis": {
            "gridcolor": "white",
            "linecolor": "white",
            "ticks": ""
           },
           "bgcolor": "#E5ECF6",
           "radialaxis": {
            "gridcolor": "white",
            "linecolor": "white",
            "ticks": ""
           }
          },
          "scene": {
           "xaxis": {
            "backgroundcolor": "#E5ECF6",
            "gridcolor": "white",
            "gridwidth": 2,
            "linecolor": "white",
            "showbackground": true,
            "ticks": "",
            "zerolinecolor": "white"
           },
           "yaxis": {
            "backgroundcolor": "#E5ECF6",
            "gridcolor": "white",
            "gridwidth": 2,
            "linecolor": "white",
            "showbackground": true,
            "ticks": "",
            "zerolinecolor": "white"
           },
           "zaxis": {
            "backgroundcolor": "#E5ECF6",
            "gridcolor": "white",
            "gridwidth": 2,
            "linecolor": "white",
            "showbackground": true,
            "ticks": "",
            "zerolinecolor": "white"
           }
          },
          "shapedefaults": {
           "line": {
            "color": "#2a3f5f"
           }
          },
          "ternary": {
           "aaxis": {
            "gridcolor": "white",
            "linecolor": "white",
            "ticks": ""
           },
           "baxis": {
            "gridcolor": "white",
            "linecolor": "white",
            "ticks": ""
           },
           "bgcolor": "#E5ECF6",
           "caxis": {
            "gridcolor": "white",
            "linecolor": "white",
            "ticks": ""
           }
          },
          "title": {
           "x": 0.05
          },
          "xaxis": {
           "automargin": true,
           "gridcolor": "white",
           "linecolor": "white",
           "ticks": "",
           "title": {
            "standoff": 15
           },
           "zerolinecolor": "white",
           "zerolinewidth": 2
          },
          "yaxis": {
           "automargin": true,
           "gridcolor": "white",
           "linecolor": "white",
           "ticks": "",
           "title": {
            "standoff": 15
           },
           "zerolinecolor": "white",
           "zerolinewidth": 2
          }
         }
        },
        "title": {
         "text": "Sentiment Score Heatmap by Day"
        },
        "xaxis": {
         "anchor": "y",
         "domain": [
          0,
          1
         ],
         "title": {
          "text": "Day"
         }
        },
        "yaxis": {
         "anchor": "x",
         "autorange": "reversed",
         "domain": [
          0,
          1
         ],
         "title": {
          "text": "Month"
         }
        }
       }
      }
     },
     "metadata": {},
     "output_type": "display_data"
    }
   ],
   "source": [
    "fig = plot_sentiment_heatmap_plotly(df_price)"
   ]
  },
  {
   "cell_type": "code",
   "execution_count": 3,
   "id": "ff0c098a",
   "metadata": {},
   "outputs": [
    {
     "name": "stdout",
     "output_type": "stream",
     "text": [
      "running plot_area_chart (plotly version)\n"
     ]
    },
    {
     "data": {
      "application/vnd.plotly.v1+json": {
       "config": {
        "plotlyServerURL": "https://plot.ly"
       },
       "data": [
        {
         "connectgaps": false,
         "fill": "tozeroy",
         "fillcolor": "rgba(65, 105, 225, 0.15)",
         "hovertemplate": "Date: %{x}<br>Close: %{y:.2f}<extra></extra>",
         "line": {
          "color": "royalblue",
          "shape": "spline",
          "width": 3
         },
         "marker": {
          "color": "royalblue",
          "size": 6,
          "symbol": "circle"
         },
         "mode": "lines+markers",
         "name": "Close Price",
         "type": "scatter",
         "x": {
          "bdata": "AAAAAAAAAAAAAAAAAADwPwAAAAAAAABAAAAAAAAACEAAAAAAAAAQQAAAAAAAAPh/AAAAAAAA+H8AAAAAAAAUQAAAAAAAABhAAAAAAAAAHEAAAAAAAAAgQAAAAAAAACJAAAAAAAAA+H8AAAAAAAD4fwAAAAAAAPh/AAAAAAAAJEAAAAAAAAAmQAAAAAAAAChAAAAAAAAAKkAAAAAAAAD4fwAAAAAAAPh/AAAAAAAALEAAAAAAAAAuQAAAAAAAADBAAAAAAAAAMUAAAAAAAAAyQAAAAAAAAPh/AAAAAAAA+H8AAAAAAAAzQAAAAAAAADRA",
          "dtype": "f8"
         },
         "y": {
          "bdata": "AAAAoEdZakAAAACAwp1qQAAAAGCPimpAAAAAYGZuakAAAADgUWhqQAAAAAAAAPh/AAAAAAAA+H8AAADA9RhqQAAAACCF22lAAAAAQOFCaUAAAAAghStpQAAAAOCjaGhAAAAAAAAA+H8AAAAAAAD4fwAAAAAAAPh/AAAAYLgGaUAAAACgcA1pQAAAAGBm/mhAAAAAQDMbaUAAAAAAAAD4fwAAAAAAAPh/AAAAYGY2aUAAAADgo2hpQAAAAIA9WmlAAAAAACkUaUAAAACgcH1pQAAAAAAAAPh/AAAAAAAA+H8AAABgZi5pQAAAAKBwVWlA",
          "dtype": "f8"
         },
         "yaxis": "y"
        },
        {
         "connectgaps": false,
         "fill": "tozeroy",
         "fillcolor": "rgba(255, 165, 0, 0.15)",
         "hovertemplate": "Date: %{x}<br>Sentiment: %{y:.2f}<extra></extra>",
         "line": {
          "color": "orange",
          "dash": "dot",
          "shape": "spline",
          "width": 3
         },
         "marker": {
          "color": "orange",
          "size": 6,
          "symbol": "diamond"
         },
         "mode": "lines+markers",
         "name": "Sentiment Score",
         "type": "scatter",
         "x": {
          "bdata": "AAAAAAAAAAAAAAAAAADwPwAAAAAAAABAAAAAAAAACEAAAAAAAAAQQAAAAAAAAPh/AAAAAAAA+H8AAAAAAAAUQAAAAAAAABhAAAAAAAAAHEAAAAAAAAAgQAAAAAAAACJAAAAAAAAA+H8AAAAAAAD4fwAAAAAAAPh/AAAAAAAAJEAAAAAAAAAmQAAAAAAAAChAAAAAAAAAKkAAAAAAAAD4fwAAAAAAAPh/AAAAAAAALEAAAAAAAAAuQAAAAAAAADBAAAAAAAAAMUAAAAAAAAAyQAAAAAAAAPh/AAAAAAAA+H8AAAAAAAAzQAAAAAAAADRA",
          "dtype": "f8"
         },
         "y": {
          "bdata": "OiNKe4Mv3D8AAAAAAAD4fwAAAAAAAPh/AAAAAAAAAAAAAAAAAAD4fwAAAAAAAPh/AAAAAAAA+H8AAAAAAAD4fwAAAAAAAAAAAAAAAAAA+H8AAAAAAAAAANCzWfW52sC/AAAAAAAA+H8AAAAAAAD4fwAAAAAAAPh/sajOdcl+uD/QCmtQIUSPv1zo4LhBwcY/6iYxCKwcqr8AAAAAAAD4fwAAAAAAAPh/E/JBz2bV1D/A3LWEfNCDvx1aZDvfT72/fT81XrpJxL8jbHh6pSzLPwAAAAAAAPh/AAAAAAAA+H+qFURotV6HP1elBxhwqZ0/",
          "dtype": "f8"
         },
         "yaxis": "y2"
        }
       ],
       "layout": {
        "autosize": false,
        "height": 520,
        "legend": {
         "orientation": "h",
         "x": 1,
         "xanchor": "right",
         "y": 1.02,
         "yanchor": "bottom"
        },
        "margin": {
         "b": 80,
         "l": 60,
         "r": 60,
         "t": 80
        },
        "template": {
         "data": {
          "bar": [
           {
            "error_x": {
             "color": "#2a3f5f"
            },
            "error_y": {
             "color": "#2a3f5f"
            },
            "marker": {
             "line": {
              "color": "white",
              "width": 0.5
             },
             "pattern": {
              "fillmode": "overlay",
              "size": 10,
              "solidity": 0.2
             }
            },
            "type": "bar"
           }
          ],
          "barpolar": [
           {
            "marker": {
             "line": {
              "color": "white",
              "width": 0.5
             },
             "pattern": {
              "fillmode": "overlay",
              "size": 10,
              "solidity": 0.2
             }
            },
            "type": "barpolar"
           }
          ],
          "carpet": [
           {
            "aaxis": {
             "endlinecolor": "#2a3f5f",
             "gridcolor": "#C8D4E3",
             "linecolor": "#C8D4E3",
             "minorgridcolor": "#C8D4E3",
             "startlinecolor": "#2a3f5f"
            },
            "baxis": {
             "endlinecolor": "#2a3f5f",
             "gridcolor": "#C8D4E3",
             "linecolor": "#C8D4E3",
             "minorgridcolor": "#C8D4E3",
             "startlinecolor": "#2a3f5f"
            },
            "type": "carpet"
           }
          ],
          "choropleth": [
           {
            "colorbar": {
             "outlinewidth": 0,
             "ticks": ""
            },
            "type": "choropleth"
           }
          ],
          "contour": [
           {
            "colorbar": {
             "outlinewidth": 0,
             "ticks": ""
            },
            "colorscale": [
             [
              0,
              "#0d0887"
             ],
             [
              0.1111111111111111,
              "#46039f"
             ],
             [
              0.2222222222222222,
              "#7201a8"
             ],
             [
              0.3333333333333333,
              "#9c179e"
             ],
             [
              0.4444444444444444,
              "#bd3786"
             ],
             [
              0.5555555555555556,
              "#d8576b"
             ],
             [
              0.6666666666666666,
              "#ed7953"
             ],
             [
              0.7777777777777778,
              "#fb9f3a"
             ],
             [
              0.8888888888888888,
              "#fdca26"
             ],
             [
              1,
              "#f0f921"
             ]
            ],
            "type": "contour"
           }
          ],
          "contourcarpet": [
           {
            "colorbar": {
             "outlinewidth": 0,
             "ticks": ""
            },
            "type": "contourcarpet"
           }
          ],
          "heatmap": [
           {
            "colorbar": {
             "outlinewidth": 0,
             "ticks": ""
            },
            "colorscale": [
             [
              0,
              "#0d0887"
             ],
             [
              0.1111111111111111,
              "#46039f"
             ],
             [
              0.2222222222222222,
              "#7201a8"
             ],
             [
              0.3333333333333333,
              "#9c179e"
             ],
             [
              0.4444444444444444,
              "#bd3786"
             ],
             [
              0.5555555555555556,
              "#d8576b"
             ],
             [
              0.6666666666666666,
              "#ed7953"
             ],
             [
              0.7777777777777778,
              "#fb9f3a"
             ],
             [
              0.8888888888888888,
              "#fdca26"
             ],
             [
              1,
              "#f0f921"
             ]
            ],
            "type": "heatmap"
           }
          ],
          "histogram": [
           {
            "marker": {
             "pattern": {
              "fillmode": "overlay",
              "size": 10,
              "solidity": 0.2
             }
            },
            "type": "histogram"
           }
          ],
          "histogram2d": [
           {
            "colorbar": {
             "outlinewidth": 0,
             "ticks": ""
            },
            "colorscale": [
             [
              0,
              "#0d0887"
             ],
             [
              0.1111111111111111,
              "#46039f"
             ],
             [
              0.2222222222222222,
              "#7201a8"
             ],
             [
              0.3333333333333333,
              "#9c179e"
             ],
             [
              0.4444444444444444,
              "#bd3786"
             ],
             [
              0.5555555555555556,
              "#d8576b"
             ],
             [
              0.6666666666666666,
              "#ed7953"
             ],
             [
              0.7777777777777778,
              "#fb9f3a"
             ],
             [
              0.8888888888888888,
              "#fdca26"
             ],
             [
              1,
              "#f0f921"
             ]
            ],
            "type": "histogram2d"
           }
          ],
          "histogram2dcontour": [
           {
            "colorbar": {
             "outlinewidth": 0,
             "ticks": ""
            },
            "colorscale": [
             [
              0,
              "#0d0887"
             ],
             [
              0.1111111111111111,
              "#46039f"
             ],
             [
              0.2222222222222222,
              "#7201a8"
             ],
             [
              0.3333333333333333,
              "#9c179e"
             ],
             [
              0.4444444444444444,
              "#bd3786"
             ],
             [
              0.5555555555555556,
              "#d8576b"
             ],
             [
              0.6666666666666666,
              "#ed7953"
             ],
             [
              0.7777777777777778,
              "#fb9f3a"
             ],
             [
              0.8888888888888888,
              "#fdca26"
             ],
             [
              1,
              "#f0f921"
             ]
            ],
            "type": "histogram2dcontour"
           }
          ],
          "mesh3d": [
           {
            "colorbar": {
             "outlinewidth": 0,
             "ticks": ""
            },
            "type": "mesh3d"
           }
          ],
          "parcoords": [
           {
            "line": {
             "colorbar": {
              "outlinewidth": 0,
              "ticks": ""
             }
            },
            "type": "parcoords"
           }
          ],
          "pie": [
           {
            "automargin": true,
            "type": "pie"
           }
          ],
          "scatter": [
           {
            "fillpattern": {
             "fillmode": "overlay",
             "size": 10,
             "solidity": 0.2
            },
            "type": "scatter"
           }
          ],
          "scatter3d": [
           {
            "line": {
             "colorbar": {
              "outlinewidth": 0,
              "ticks": ""
             }
            },
            "marker": {
             "colorbar": {
              "outlinewidth": 0,
              "ticks": ""
             }
            },
            "type": "scatter3d"
           }
          ],
          "scattercarpet": [
           {
            "marker": {
             "colorbar": {
              "outlinewidth": 0,
              "ticks": ""
             }
            },
            "type": "scattercarpet"
           }
          ],
          "scattergeo": [
           {
            "marker": {
             "colorbar": {
              "outlinewidth": 0,
              "ticks": ""
             }
            },
            "type": "scattergeo"
           }
          ],
          "scattergl": [
           {
            "marker": {
             "colorbar": {
              "outlinewidth": 0,
              "ticks": ""
             }
            },
            "type": "scattergl"
           }
          ],
          "scattermap": [
           {
            "marker": {
             "colorbar": {
              "outlinewidth": 0,
              "ticks": ""
             }
            },
            "type": "scattermap"
           }
          ],
          "scattermapbox": [
           {
            "marker": {
             "colorbar": {
              "outlinewidth": 0,
              "ticks": ""
             }
            },
            "type": "scattermapbox"
           }
          ],
          "scatterpolar": [
           {
            "marker": {
             "colorbar": {
              "outlinewidth": 0,
              "ticks": ""
             }
            },
            "type": "scatterpolar"
           }
          ],
          "scatterpolargl": [
           {
            "marker": {
             "colorbar": {
              "outlinewidth": 0,
              "ticks": ""
             }
            },
            "type": "scatterpolargl"
           }
          ],
          "scatterternary": [
           {
            "marker": {
             "colorbar": {
              "outlinewidth": 0,
              "ticks": ""
             }
            },
            "type": "scatterternary"
           }
          ],
          "surface": [
           {
            "colorbar": {
             "outlinewidth": 0,
             "ticks": ""
            },
            "colorscale": [
             [
              0,
              "#0d0887"
             ],
             [
              0.1111111111111111,
              "#46039f"
             ],
             [
              0.2222222222222222,
              "#7201a8"
             ],
             [
              0.3333333333333333,
              "#9c179e"
             ],
             [
              0.4444444444444444,
              "#bd3786"
             ],
             [
              0.5555555555555556,
              "#d8576b"
             ],
             [
              0.6666666666666666,
              "#ed7953"
             ],
             [
              0.7777777777777778,
              "#fb9f3a"
             ],
             [
              0.8888888888888888,
              "#fdca26"
             ],
             [
              1,
              "#f0f921"
             ]
            ],
            "type": "surface"
           }
          ],
          "table": [
           {
            "cells": {
             "fill": {
              "color": "#EBF0F8"
             },
             "line": {
              "color": "white"
             }
            },
            "header": {
             "fill": {
              "color": "#C8D4E3"
             },
             "line": {
              "color": "white"
             }
            },
            "type": "table"
           }
          ]
         },
         "layout": {
          "annotationdefaults": {
           "arrowcolor": "#2a3f5f",
           "arrowhead": 0,
           "arrowwidth": 1
          },
          "autotypenumbers": "strict",
          "coloraxis": {
           "colorbar": {
            "outlinewidth": 0,
            "ticks": ""
           }
          },
          "colorscale": {
           "diverging": [
            [
             0,
             "#8e0152"
            ],
            [
             0.1,
             "#c51b7d"
            ],
            [
             0.2,
             "#de77ae"
            ],
            [
             0.3,
             "#f1b6da"
            ],
            [
             0.4,
             "#fde0ef"
            ],
            [
             0.5,
             "#f7f7f7"
            ],
            [
             0.6,
             "#e6f5d0"
            ],
            [
             0.7,
             "#b8e186"
            ],
            [
             0.8,
             "#7fbc41"
            ],
            [
             0.9,
             "#4d9221"
            ],
            [
             1,
             "#276419"
            ]
           ],
           "sequential": [
            [
             0,
             "#0d0887"
            ],
            [
             0.1111111111111111,
             "#46039f"
            ],
            [
             0.2222222222222222,
             "#7201a8"
            ],
            [
             0.3333333333333333,
             "#9c179e"
            ],
            [
             0.4444444444444444,
             "#bd3786"
            ],
            [
             0.5555555555555556,
             "#d8576b"
            ],
            [
             0.6666666666666666,
             "#ed7953"
            ],
            [
             0.7777777777777778,
             "#fb9f3a"
            ],
            [
             0.8888888888888888,
             "#fdca26"
            ],
            [
             1,
             "#f0f921"
            ]
           ],
           "sequentialminus": [
            [
             0,
             "#0d0887"
            ],
            [
             0.1111111111111111,
             "#46039f"
            ],
            [
             0.2222222222222222,
             "#7201a8"
            ],
            [
             0.3333333333333333,
             "#9c179e"
            ],
            [
             0.4444444444444444,
             "#bd3786"
            ],
            [
             0.5555555555555556,
             "#d8576b"
            ],
            [
             0.6666666666666666,
             "#ed7953"
            ],
            [
             0.7777777777777778,
             "#fb9f3a"
            ],
            [
             0.8888888888888888,
             "#fdca26"
            ],
            [
             1,
             "#f0f921"
            ]
           ]
          },
          "colorway": [
           "#636efa",
           "#EF553B",
           "#00cc96",
           "#ab63fa",
           "#FFA15A",
           "#19d3f3",
           "#FF6692",
           "#B6E880",
           "#FF97FF",
           "#FECB52"
          ],
          "font": {
           "color": "#2a3f5f"
          },
          "geo": {
           "bgcolor": "white",
           "lakecolor": "white",
           "landcolor": "white",
           "showlakes": true,
           "showland": true,
           "subunitcolor": "#C8D4E3"
          },
          "hoverlabel": {
           "align": "left"
          },
          "hovermode": "closest",
          "mapbox": {
           "style": "light"
          },
          "paper_bgcolor": "white",
          "plot_bgcolor": "white",
          "polar": {
           "angularaxis": {
            "gridcolor": "#EBF0F8",
            "linecolor": "#EBF0F8",
            "ticks": ""
           },
           "bgcolor": "white",
           "radialaxis": {
            "gridcolor": "#EBF0F8",
            "linecolor": "#EBF0F8",
            "ticks": ""
           }
          },
          "scene": {
           "xaxis": {
            "backgroundcolor": "white",
            "gridcolor": "#DFE8F3",
            "gridwidth": 2,
            "linecolor": "#EBF0F8",
            "showbackground": true,
            "ticks": "",
            "zerolinecolor": "#EBF0F8"
           },
           "yaxis": {
            "backgroundcolor": "white",
            "gridcolor": "#DFE8F3",
            "gridwidth": 2,
            "linecolor": "#EBF0F8",
            "showbackground": true,
            "ticks": "",
            "zerolinecolor": "#EBF0F8"
           },
           "zaxis": {
            "backgroundcolor": "white",
            "gridcolor": "#DFE8F3",
            "gridwidth": 2,
            "linecolor": "#EBF0F8",
            "showbackground": true,
            "ticks": "",
            "zerolinecolor": "#EBF0F8"
           }
          },
          "shapedefaults": {
           "line": {
            "color": "#2a3f5f"
           }
          },
          "ternary": {
           "aaxis": {
            "gridcolor": "#DFE8F3",
            "linecolor": "#A2B1C6",
            "ticks": ""
           },
           "baxis": {
            "gridcolor": "#DFE8F3",
            "linecolor": "#A2B1C6",
            "ticks": ""
           },
           "bgcolor": "white",
           "caxis": {
            "gridcolor": "#DFE8F3",
            "linecolor": "#A2B1C6",
            "ticks": ""
           }
          },
          "title": {
           "x": 0.05
          },
          "xaxis": {
           "automargin": true,
           "gridcolor": "#EBF0F8",
           "linecolor": "#EBF0F8",
           "ticks": "",
           "title": {
            "standoff": 15
           },
           "zerolinecolor": "#EBF0F8",
           "zerolinewidth": 2
          },
          "yaxis": {
           "automargin": true,
           "gridcolor": "#EBF0F8",
           "linecolor": "#EBF0F8",
           "ticks": "",
           "title": {
            "standoff": 15
           },
           "zerolinecolor": "#EBF0F8",
           "zerolinewidth": 2
          }
         }
        },
        "title": {
         "font": {
          "color": "black",
          "size": 22
         },
         "text": "Stock Price vs Sentiment Area Chart",
         "x": 0.5
        },
        "width": 950,
        "xaxis": {
         "gridcolor": "rgba(200,200,200,0.2)",
         "showgrid": true,
         "tickangle": 45,
         "title": {
          "text": "Date"
         }
        },
        "yaxis": {
         "gridcolor": "rgba(200,200,255,0.2)",
         "range": [
          175.74300384521484,
          null
         ],
         "showgrid": true,
         "side": "left",
         "title": {
          "text": "Close Price"
         }
        },
        "yaxis2": {
         "overlaying": "y",
         "range": [
          -0.17435,
          null
         ],
         "showgrid": false,
         "side": "right",
         "title": {
          "text": "Sentiment Score"
         }
        }
       }
      }
     },
     "metadata": {},
     "output_type": "display_data"
    }
   ],
   "source": [
    "fig = plot_area_chart(df_price)"
   ]
  },
  {
   "cell_type": "code",
   "execution_count": 4,
   "id": "7233dc76",
   "metadata": {},
   "outputs": [
    {
     "data": {
      "application/vnd.plotly.v1+json": {
       "config": {
        "plotlyServerURL": "https://plot.ly"
       },
       "data": [
        {
         "line": {
          "color": "blue",
          "width": 2
         },
         "mode": "lines+markers",
         "name": "Close Price",
         "type": "scatter",
         "x": [
          "2025-05-12T00:00:00.000000000",
          "2025-05-13T00:00:00.000000000",
          "2025-05-14T00:00:00.000000000",
          "2025-05-15T00:00:00.000000000",
          "2025-05-16T00:00:00.000000000",
          "2025-05-19T00:00:00.000000000",
          "2025-05-20T00:00:00.000000000",
          "2025-05-21T00:00:00.000000000",
          "2025-05-22T00:00:00.000000000",
          "2025-05-23T00:00:00.000000000",
          "2025-05-27T00:00:00.000000000",
          "2025-05-28T00:00:00.000000000",
          "2025-05-29T00:00:00.000000000",
          "2025-05-30T00:00:00.000000000",
          "2025-06-02T00:00:00.000000000",
          "2025-06-03T00:00:00.000000000",
          "2025-06-04T00:00:00.000000000",
          "2025-06-05T00:00:00.000000000",
          "2025-06-06T00:00:00.000000000",
          "2025-06-09T00:00:00.000000000",
          "2025-06-10T00:00:00.000000000"
         ],
         "y": {
          "bdata": "AAAAoEdZakAAAACAwp1qQAAAAGCPimpAAAAAYGZuakAAAADgUWhqQAAAAMD1GGpAAAAAIIXbaUAAAABA4UJpQAAAACCFK2lAAAAA4KNoaEAAAABguAZpQAAAAKBwDWlAAAAAYGb+aEAAAABAMxtpQAAAAGBmNmlAAAAA4KNoaUAAAACAPVppQAAAAAApFGlAAAAAoHB9aUAAAABgZi5pQAAAAKBwVWlA",
          "dtype": "f8"
         },
         "yaxis": "y"
        },
        {
         "fill": "tozeroy",
         "fillcolor": "rgba(255,165,0,0.15)",
         "line": {
          "color": "orange",
          "dash": "dot",
          "width": 2
         },
         "mode": "lines",
         "name": "Smoothed Sentiment",
         "type": "scatter",
         "x": [
          "2025-05-12T00:00:00.000000000",
          "2025-05-13T00:00:00.000000000",
          "2025-05-14T00:00:00.000000000",
          "2025-05-15T00:00:00.000000000",
          "2025-05-16T00:00:00.000000000",
          "2025-05-19T00:00:00.000000000",
          "2025-05-20T00:00:00.000000000",
          "2025-05-21T00:00:00.000000000",
          "2025-05-22T00:00:00.000000000",
          "2025-05-23T00:00:00.000000000",
          "2025-05-27T00:00:00.000000000",
          "2025-05-28T00:00:00.000000000",
          "2025-05-29T00:00:00.000000000",
          "2025-05-30T00:00:00.000000000",
          "2025-06-02T00:00:00.000000000",
          "2025-06-03T00:00:00.000000000",
          "2025-06-04T00:00:00.000000000",
          "2025-06-05T00:00:00.000000000",
          "2025-06-06T00:00:00.000000000",
          "2025-06-09T00:00:00.000000000",
          "2025-06-10T00:00:00.000000000"
         ],
         "y": {
          "bdata": "OiNKe4Mv3D86I0p7gy/cPzojSnuDL9w/AAAAAAAAAAAAAAAAAAAAAAAAAAAAAAAAAAAAAAAAAAAAAAAAAAAAAAAAAAAAAAAA0LNZ9bnasL/TpwyNxpGIv2GA7dPofpG/W13W6UIItj+dkhItxgejP0PWchxMTMM/FdNyjbyZtj/dkFnQji6xP5Axdy0hH7i/w6vSAwy4lL+rer7cO0KWP3DBU43Uj7U/",
          "dtype": "f8"
         },
         "yaxis": "y2"
        }
       ],
       "layout": {
        "height": 520,
        "shapes": [
         {
          "fillcolor": "rgba(0,255,0,0.15)",
          "line": {
           "width": 0
          },
          "opacity": 0.5,
          "type": "rect",
          "x0": "2025-05-12T00:00:00",
          "x1": "2025-05-13T00:00:00",
          "xref": "x",
          "y0": 0,
          "y1": 1,
          "yref": "y domain"
         },
         {
          "fillcolor": "rgba(0,255,0,0.15)",
          "line": {
           "width": 0
          },
          "opacity": 0.5,
          "type": "rect",
          "x0": "2025-05-13T00:00:00",
          "x1": "2025-05-14T00:00:00",
          "xref": "x",
          "y0": 0,
          "y1": 1,
          "yref": "y domain"
         },
         {
          "fillcolor": "rgba(0,255,0,0.15)",
          "line": {
           "width": 0
          },
          "opacity": 0.5,
          "type": "rect",
          "x0": "2025-05-14T00:00:00",
          "x1": "2025-05-15T00:00:00",
          "xref": "x",
          "y0": 0,
          "y1": 1,
          "yref": "y domain"
         },
         {
          "fillcolor": "rgba(210,44,0,0.15)",
          "line": {
           "width": 0
          },
          "opacity": 0.5,
          "type": "rect",
          "x0": "2025-05-15T00:00:00",
          "x1": "2025-05-16T00:00:00",
          "xref": "x",
          "y0": 0,
          "y1": 1,
          "yref": "y domain"
         },
         {
          "fillcolor": "rgba(210,44,0,0.15)",
          "line": {
           "width": 0
          },
          "opacity": 0.5,
          "type": "rect",
          "x0": "2025-05-16T00:00:00",
          "x1": "2025-05-19T00:00:00",
          "xref": "x",
          "y0": 0,
          "y1": 1,
          "yref": "y domain"
         },
         {
          "fillcolor": "rgba(210,44,0,0.15)",
          "line": {
           "width": 0
          },
          "opacity": 0.5,
          "type": "rect",
          "x0": "2025-05-19T00:00:00",
          "x1": "2025-05-20T00:00:00",
          "xref": "x",
          "y0": 0,
          "y1": 1,
          "yref": "y domain"
         },
         {
          "fillcolor": "rgba(210,44,0,0.15)",
          "line": {
           "width": 0
          },
          "opacity": 0.5,
          "type": "rect",
          "x0": "2025-05-20T00:00:00",
          "x1": "2025-05-21T00:00:00",
          "xref": "x",
          "y0": 0,
          "y1": 1,
          "yref": "y domain"
         },
         {
          "fillcolor": "rgba(210,44,0,0.15)",
          "line": {
           "width": 0
          },
          "opacity": 0.5,
          "type": "rect",
          "x0": "2025-05-21T00:00:00",
          "x1": "2025-05-22T00:00:00",
          "xref": "x",
          "y0": 0,
          "y1": 1,
          "yref": "y domain"
         },
         {
          "fillcolor": "rgba(210,44,0,0.15)",
          "line": {
           "width": 0
          },
          "opacity": 0.5,
          "type": "rect",
          "x0": "2025-05-22T00:00:00",
          "x1": "2025-05-23T00:00:00",
          "xref": "x",
          "y0": 0,
          "y1": 1,
          "yref": "y domain"
         },
         {
          "fillcolor": "rgba(241,13,0,0.15)",
          "line": {
           "width": 0
          },
          "opacity": 0.5,
          "type": "rect",
          "x0": "2025-05-23T00:00:00",
          "x1": "2025-05-27T00:00:00",
          "xref": "x",
          "y0": 0,
          "y1": 1,
          "yref": "y domain"
         },
         {
          "fillcolor": "rgba(215,39,0,0.15)",
          "line": {
           "width": 0
          },
          "opacity": 0.5,
          "type": "rect",
          "x0": "2025-05-27T00:00:00",
          "x1": "2025-05-28T00:00:00",
          "xref": "x",
          "y0": 0,
          "y1": 1,
          "yref": "y domain"
         },
         {
          "fillcolor": "rgba(218,36,0,0.15)",
          "line": {
           "width": 0
          },
          "opacity": 0.5,
          "type": "rect",
          "x0": "2025-05-28T00:00:00",
          "x1": "2025-05-29T00:00:00",
          "xref": "x",
          "y0": 0,
          "y1": 1,
          "yref": "y domain"
         },
         {
          "fillcolor": "rgba(169,85,0,0.15)",
          "line": {
           "width": 0
          },
          "opacity": 0.5,
          "type": "rect",
          "x0": "2025-05-29T00:00:00",
          "x1": "2025-05-30T00:00:00",
          "xref": "x",
          "y0": 0,
          "y1": 1,
          "yref": "y domain"
         },
         {
          "fillcolor": "rgba(192,62,0,0.15)",
          "line": {
           "width": 0
          },
          "opacity": 0.5,
          "type": "rect",
          "x0": "2025-05-30T00:00:00",
          "x1": "2025-06-02T00:00:00",
          "xref": "x",
          "y0": 0,
          "y1": 1,
          "yref": "y domain"
         },
         {
          "fillcolor": "rgba(138,116,0,0.15)",
          "line": {
           "width": 0
          },
          "opacity": 0.5,
          "type": "rect",
          "x0": "2025-06-02T00:00:00",
          "x1": "2025-06-03T00:00:00",
          "xref": "x",
          "y0": 0,
          "y1": 1,
          "yref": "y domain"
         },
         {
          "fillcolor": "rgba(167,87,0,0.15)",
          "line": {
           "width": 0
          },
          "opacity": 0.5,
          "type": "rect",
          "x0": "2025-06-03T00:00:00",
          "x1": "2025-06-04T00:00:00",
          "xref": "x",
          "y0": 0,
          "y1": 1,
          "yref": "y domain"
         },
         {
          "fillcolor": "rgba(178,76,0,0.15)",
          "line": {
           "width": 0
          },
          "opacity": 0.5,
          "type": "rect",
          "x0": "2025-06-04T00:00:00",
          "x1": "2025-06-05T00:00:00",
          "xref": "x",
          "y0": 0,
          "y1": 1,
          "yref": "y domain"
         },
         {
          "fillcolor": "rgba(255,0,0,0.15)",
          "line": {
           "width": 0
          },
          "opacity": 0.5,
          "type": "rect",
          "x0": "2025-06-05T00:00:00",
          "x1": "2025-06-06T00:00:00",
          "xref": "x",
          "y0": 0,
          "y1": 1,
          "yref": "y domain"
         },
         {
          "fillcolor": "rgba(219,35,0,0.15)",
          "line": {
           "width": 0
          },
          "opacity": 0.5,
          "type": "rect",
          "x0": "2025-06-06T00:00:00",
          "x1": "2025-06-09T00:00:00",
          "xref": "x",
          "y0": 0,
          "y1": 1,
          "yref": "y domain"
         },
         {
          "fillcolor": "rgba(199,55,0,0.15)",
          "line": {
           "width": 0
          },
          "opacity": 0.5,
          "type": "rect",
          "x0": "2025-06-09T00:00:00",
          "x1": "2025-06-10T00:00:00",
          "xref": "x",
          "y0": 0,
          "y1": 1,
          "yref": "y domain"
         }
        ],
        "template": {
         "data": {
          "bar": [
           {
            "error_x": {
             "color": "#2a3f5f"
            },
            "error_y": {
             "color": "#2a3f5f"
            },
            "marker": {
             "line": {
              "color": "white",
              "width": 0.5
             },
             "pattern": {
              "fillmode": "overlay",
              "size": 10,
              "solidity": 0.2
             }
            },
            "type": "bar"
           }
          ],
          "barpolar": [
           {
            "marker": {
             "line": {
              "color": "white",
              "width": 0.5
             },
             "pattern": {
              "fillmode": "overlay",
              "size": 10,
              "solidity": 0.2
             }
            },
            "type": "barpolar"
           }
          ],
          "carpet": [
           {
            "aaxis": {
             "endlinecolor": "#2a3f5f",
             "gridcolor": "#C8D4E3",
             "linecolor": "#C8D4E3",
             "minorgridcolor": "#C8D4E3",
             "startlinecolor": "#2a3f5f"
            },
            "baxis": {
             "endlinecolor": "#2a3f5f",
             "gridcolor": "#C8D4E3",
             "linecolor": "#C8D4E3",
             "minorgridcolor": "#C8D4E3",
             "startlinecolor": "#2a3f5f"
            },
            "type": "carpet"
           }
          ],
          "choropleth": [
           {
            "colorbar": {
             "outlinewidth": 0,
             "ticks": ""
            },
            "type": "choropleth"
           }
          ],
          "contour": [
           {
            "colorbar": {
             "outlinewidth": 0,
             "ticks": ""
            },
            "colorscale": [
             [
              0,
              "#0d0887"
             ],
             [
              0.1111111111111111,
              "#46039f"
             ],
             [
              0.2222222222222222,
              "#7201a8"
             ],
             [
              0.3333333333333333,
              "#9c179e"
             ],
             [
              0.4444444444444444,
              "#bd3786"
             ],
             [
              0.5555555555555556,
              "#d8576b"
             ],
             [
              0.6666666666666666,
              "#ed7953"
             ],
             [
              0.7777777777777778,
              "#fb9f3a"
             ],
             [
              0.8888888888888888,
              "#fdca26"
             ],
             [
              1,
              "#f0f921"
             ]
            ],
            "type": "contour"
           }
          ],
          "contourcarpet": [
           {
            "colorbar": {
             "outlinewidth": 0,
             "ticks": ""
            },
            "type": "contourcarpet"
           }
          ],
          "heatmap": [
           {
            "colorbar": {
             "outlinewidth": 0,
             "ticks": ""
            },
            "colorscale": [
             [
              0,
              "#0d0887"
             ],
             [
              0.1111111111111111,
              "#46039f"
             ],
             [
              0.2222222222222222,
              "#7201a8"
             ],
             [
              0.3333333333333333,
              "#9c179e"
             ],
             [
              0.4444444444444444,
              "#bd3786"
             ],
             [
              0.5555555555555556,
              "#d8576b"
             ],
             [
              0.6666666666666666,
              "#ed7953"
             ],
             [
              0.7777777777777778,
              "#fb9f3a"
             ],
             [
              0.8888888888888888,
              "#fdca26"
             ],
             [
              1,
              "#f0f921"
             ]
            ],
            "type": "heatmap"
           }
          ],
          "histogram": [
           {
            "marker": {
             "pattern": {
              "fillmode": "overlay",
              "size": 10,
              "solidity": 0.2
             }
            },
            "type": "histogram"
           }
          ],
          "histogram2d": [
           {
            "colorbar": {
             "outlinewidth": 0,
             "ticks": ""
            },
            "colorscale": [
             [
              0,
              "#0d0887"
             ],
             [
              0.1111111111111111,
              "#46039f"
             ],
             [
              0.2222222222222222,
              "#7201a8"
             ],
             [
              0.3333333333333333,
              "#9c179e"
             ],
             [
              0.4444444444444444,
              "#bd3786"
             ],
             [
              0.5555555555555556,
              "#d8576b"
             ],
             [
              0.6666666666666666,
              "#ed7953"
             ],
             [
              0.7777777777777778,
              "#fb9f3a"
             ],
             [
              0.8888888888888888,
              "#fdca26"
             ],
             [
              1,
              "#f0f921"
             ]
            ],
            "type": "histogram2d"
           }
          ],
          "histogram2dcontour": [
           {
            "colorbar": {
             "outlinewidth": 0,
             "ticks": ""
            },
            "colorscale": [
             [
              0,
              "#0d0887"
             ],
             [
              0.1111111111111111,
              "#46039f"
             ],
             [
              0.2222222222222222,
              "#7201a8"
             ],
             [
              0.3333333333333333,
              "#9c179e"
             ],
             [
              0.4444444444444444,
              "#bd3786"
             ],
             [
              0.5555555555555556,
              "#d8576b"
             ],
             [
              0.6666666666666666,
              "#ed7953"
             ],
             [
              0.7777777777777778,
              "#fb9f3a"
             ],
             [
              0.8888888888888888,
              "#fdca26"
             ],
             [
              1,
              "#f0f921"
             ]
            ],
            "type": "histogram2dcontour"
           }
          ],
          "mesh3d": [
           {
            "colorbar": {
             "outlinewidth": 0,
             "ticks": ""
            },
            "type": "mesh3d"
           }
          ],
          "parcoords": [
           {
            "line": {
             "colorbar": {
              "outlinewidth": 0,
              "ticks": ""
             }
            },
            "type": "parcoords"
           }
          ],
          "pie": [
           {
            "automargin": true,
            "type": "pie"
           }
          ],
          "scatter": [
           {
            "fillpattern": {
             "fillmode": "overlay",
             "size": 10,
             "solidity": 0.2
            },
            "type": "scatter"
           }
          ],
          "scatter3d": [
           {
            "line": {
             "colorbar": {
              "outlinewidth": 0,
              "ticks": ""
             }
            },
            "marker": {
             "colorbar": {
              "outlinewidth": 0,
              "ticks": ""
             }
            },
            "type": "scatter3d"
           }
          ],
          "scattercarpet": [
           {
            "marker": {
             "colorbar": {
              "outlinewidth": 0,
              "ticks": ""
             }
            },
            "type": "scattercarpet"
           }
          ],
          "scattergeo": [
           {
            "marker": {
             "colorbar": {
              "outlinewidth": 0,
              "ticks": ""
             }
            },
            "type": "scattergeo"
           }
          ],
          "scattergl": [
           {
            "marker": {
             "colorbar": {
              "outlinewidth": 0,
              "ticks": ""
             }
            },
            "type": "scattergl"
           }
          ],
          "scattermap": [
           {
            "marker": {
             "colorbar": {
              "outlinewidth": 0,
              "ticks": ""
             }
            },
            "type": "scattermap"
           }
          ],
          "scattermapbox": [
           {
            "marker": {
             "colorbar": {
              "outlinewidth": 0,
              "ticks": ""
             }
            },
            "type": "scattermapbox"
           }
          ],
          "scatterpolar": [
           {
            "marker": {
             "colorbar": {
              "outlinewidth": 0,
              "ticks": ""
             }
            },
            "type": "scatterpolar"
           }
          ],
          "scatterpolargl": [
           {
            "marker": {
             "colorbar": {
              "outlinewidth": 0,
              "ticks": ""
             }
            },
            "type": "scatterpolargl"
           }
          ],
          "scatterternary": [
           {
            "marker": {
             "colorbar": {
              "outlinewidth": 0,
              "ticks": ""
             }
            },
            "type": "scatterternary"
           }
          ],
          "surface": [
           {
            "colorbar": {
             "outlinewidth": 0,
             "ticks": ""
            },
            "colorscale": [
             [
              0,
              "#0d0887"
             ],
             [
              0.1111111111111111,
              "#46039f"
             ],
             [
              0.2222222222222222,
              "#7201a8"
             ],
             [
              0.3333333333333333,
              "#9c179e"
             ],
             [
              0.4444444444444444,
              "#bd3786"
             ],
             [
              0.5555555555555556,
              "#d8576b"
             ],
             [
              0.6666666666666666,
              "#ed7953"
             ],
             [
              0.7777777777777778,
              "#fb9f3a"
             ],
             [
              0.8888888888888888,
              "#fdca26"
             ],
             [
              1,
              "#f0f921"
             ]
            ],
            "type": "surface"
           }
          ],
          "table": [
           {
            "cells": {
             "fill": {
              "color": "#EBF0F8"
             },
             "line": {
              "color": "white"
             }
            },
            "header": {
             "fill": {
              "color": "#C8D4E3"
             },
             "line": {
              "color": "white"
             }
            },
            "type": "table"
           }
          ]
         },
         "layout": {
          "annotationdefaults": {
           "arrowcolor": "#2a3f5f",
           "arrowhead": 0,
           "arrowwidth": 1
          },
          "autotypenumbers": "strict",
          "coloraxis": {
           "colorbar": {
            "outlinewidth": 0,
            "ticks": ""
           }
          },
          "colorscale": {
           "diverging": [
            [
             0,
             "#8e0152"
            ],
            [
             0.1,
             "#c51b7d"
            ],
            [
             0.2,
             "#de77ae"
            ],
            [
             0.3,
             "#f1b6da"
            ],
            [
             0.4,
             "#fde0ef"
            ],
            [
             0.5,
             "#f7f7f7"
            ],
            [
             0.6,
             "#e6f5d0"
            ],
            [
             0.7,
             "#b8e186"
            ],
            [
             0.8,
             "#7fbc41"
            ],
            [
             0.9,
             "#4d9221"
            ],
            [
             1,
             "#276419"
            ]
           ],
           "sequential": [
            [
             0,
             "#0d0887"
            ],
            [
             0.1111111111111111,
             "#46039f"
            ],
            [
             0.2222222222222222,
             "#7201a8"
            ],
            [
             0.3333333333333333,
             "#9c179e"
            ],
            [
             0.4444444444444444,
             "#bd3786"
            ],
            [
             0.5555555555555556,
             "#d8576b"
            ],
            [
             0.6666666666666666,
             "#ed7953"
            ],
            [
             0.7777777777777778,
             "#fb9f3a"
            ],
            [
             0.8888888888888888,
             "#fdca26"
            ],
            [
             1,
             "#f0f921"
            ]
           ],
           "sequentialminus": [
            [
             0,
             "#0d0887"
            ],
            [
             0.1111111111111111,
             "#46039f"
            ],
            [
             0.2222222222222222,
             "#7201a8"
            ],
            [
             0.3333333333333333,
             "#9c179e"
            ],
            [
             0.4444444444444444,
             "#bd3786"
            ],
            [
             0.5555555555555556,
             "#d8576b"
            ],
            [
             0.6666666666666666,
             "#ed7953"
            ],
            [
             0.7777777777777778,
             "#fb9f3a"
            ],
            [
             0.8888888888888888,
             "#fdca26"
            ],
            [
             1,
             "#f0f921"
            ]
           ]
          },
          "colorway": [
           "#636efa",
           "#EF553B",
           "#00cc96",
           "#ab63fa",
           "#FFA15A",
           "#19d3f3",
           "#FF6692",
           "#B6E880",
           "#FF97FF",
           "#FECB52"
          ],
          "font": {
           "color": "#2a3f5f"
          },
          "geo": {
           "bgcolor": "white",
           "lakecolor": "white",
           "landcolor": "white",
           "showlakes": true,
           "showland": true,
           "subunitcolor": "#C8D4E3"
          },
          "hoverlabel": {
           "align": "left"
          },
          "hovermode": "closest",
          "mapbox": {
           "style": "light"
          },
          "paper_bgcolor": "white",
          "plot_bgcolor": "white",
          "polar": {
           "angularaxis": {
            "gridcolor": "#EBF0F8",
            "linecolor": "#EBF0F8",
            "ticks": ""
           },
           "bgcolor": "white",
           "radialaxis": {
            "gridcolor": "#EBF0F8",
            "linecolor": "#EBF0F8",
            "ticks": ""
           }
          },
          "scene": {
           "xaxis": {
            "backgroundcolor": "white",
            "gridcolor": "#DFE8F3",
            "gridwidth": 2,
            "linecolor": "#EBF0F8",
            "showbackground": true,
            "ticks": "",
            "zerolinecolor": "#EBF0F8"
           },
           "yaxis": {
            "backgroundcolor": "white",
            "gridcolor": "#DFE8F3",
            "gridwidth": 2,
            "linecolor": "#EBF0F8",
            "showbackground": true,
            "ticks": "",
            "zerolinecolor": "#EBF0F8"
           },
           "zaxis": {
            "backgroundcolor": "white",
            "gridcolor": "#DFE8F3",
            "gridwidth": 2,
            "linecolor": "#EBF0F8",
            "showbackground": true,
            "ticks": "",
            "zerolinecolor": "#EBF0F8"
           }
          },
          "shapedefaults": {
           "line": {
            "color": "#2a3f5f"
           }
          },
          "ternary": {
           "aaxis": {
            "gridcolor": "#DFE8F3",
            "linecolor": "#A2B1C6",
            "ticks": ""
           },
           "baxis": {
            "gridcolor": "#DFE8F3",
            "linecolor": "#A2B1C6",
            "ticks": ""
           },
           "bgcolor": "white",
           "caxis": {
            "gridcolor": "#DFE8F3",
            "linecolor": "#A2B1C6",
            "ticks": ""
           }
          },
          "title": {
           "x": 0.05
          },
          "xaxis": {
           "automargin": true,
           "gridcolor": "#EBF0F8",
           "linecolor": "#EBF0F8",
           "ticks": "",
           "title": {
            "standoff": 15
           },
           "zerolinecolor": "#EBF0F8",
           "zerolinewidth": 2
          },
          "yaxis": {
           "automargin": true,
           "gridcolor": "#EBF0F8",
           "linecolor": "#EBF0F8",
           "ticks": "",
           "title": {
            "standoff": 15
           },
           "zerolinecolor": "#EBF0F8",
           "zerolinewidth": 2
          }
         }
        },
        "title": {
         "text": "Stock Price with Sentiment Intensity Overlay"
        },
        "width": 950,
        "xaxis": {
         "title": {
          "text": "Date"
         }
        },
        "yaxis": {
         "showgrid": true,
         "side": "left",
         "title": {
          "text": "Close Price"
         }
        },
        "yaxis2": {
         "overlaying": "y",
         "showgrid": false,
         "side": "right",
         "title": {
          "text": "Smoothed Sentiment"
         }
        }
       }
      }
     },
     "metadata": {},
     "output_type": "display_data"
    }
   ],
   "source": [
    "fig = plot_gradient_sentiment_overlay(df_price)"
   ]
  },
  {
   "cell_type": "code",
   "execution_count": 5,
   "id": "0d231b76",
   "metadata": {},
   "outputs": [
    {
     "data": {
      "application/vnd.plotly.v1+json": {
       "config": {
        "plotlyServerURL": "https://plot.ly"
       },
       "data": [
        {
         "line": {
          "color": "blue",
          "width": 2
         },
         "mode": "lines+markers",
         "name": "Sentiment Score",
         "type": "scatter",
         "x": [
          "2025-05-12",
          "2025-05-13",
          "2025-05-14",
          "2025-05-15",
          "2025-05-16",
          "2025-05-19",
          "2025-05-20",
          "2025-05-21",
          "2025-05-22",
          "2025-05-23",
          "2025-05-27",
          "2025-05-28",
          "2025-05-29",
          "2025-05-30",
          "2025-06-02",
          "2025-06-03",
          "2025-06-04",
          "2025-06-05",
          "2025-06-06",
          "2025-06-09",
          "2025-06-10"
         ],
         "y": {
          "bdata": "OiNKe4Mv3D8AAAAAAAD4fwAAAAAAAPh/AAAAAAAAAAAAAAAAAAD4fwAAAAAAAPh/AAAAAAAAAAAAAAAAAAD4fwAAAAAAAAAA0LNZ9bnawL+xqM51yX64P9AKa1AhRI+/XOjguEHBxj/qJjEIrByqvxPyQc9m1dQ/wNy1hHzQg78dWmQ730+9v30/NV66ScS/I2x4eqUsyz+qFURotV6HP1elBxhwqZ0/",
          "dtype": "f8"
         }
        },
        {
         "marker": {
          "color": "red",
          "size": 10,
          "symbol": "diamond"
         },
         "mode": "markers",
         "name": "Spikes",
         "type": "scatter",
         "x": [],
         "y": []
        }
       ],
       "layout": {
        "height": 450,
        "legend": {
         "title": {
          "text": "Legend"
         }
        },
        "template": {
         "data": {
          "bar": [
           {
            "error_x": {
             "color": "#2a3f5f"
            },
            "error_y": {
             "color": "#2a3f5f"
            },
            "marker": {
             "line": {
              "color": "white",
              "width": 0.5
             },
             "pattern": {
              "fillmode": "overlay",
              "size": 10,
              "solidity": 0.2
             }
            },
            "type": "bar"
           }
          ],
          "barpolar": [
           {
            "marker": {
             "line": {
              "color": "white",
              "width": 0.5
             },
             "pattern": {
              "fillmode": "overlay",
              "size": 10,
              "solidity": 0.2
             }
            },
            "type": "barpolar"
           }
          ],
          "carpet": [
           {
            "aaxis": {
             "endlinecolor": "#2a3f5f",
             "gridcolor": "#C8D4E3",
             "linecolor": "#C8D4E3",
             "minorgridcolor": "#C8D4E3",
             "startlinecolor": "#2a3f5f"
            },
            "baxis": {
             "endlinecolor": "#2a3f5f",
             "gridcolor": "#C8D4E3",
             "linecolor": "#C8D4E3",
             "minorgridcolor": "#C8D4E3",
             "startlinecolor": "#2a3f5f"
            },
            "type": "carpet"
           }
          ],
          "choropleth": [
           {
            "colorbar": {
             "outlinewidth": 0,
             "ticks": ""
            },
            "type": "choropleth"
           }
          ],
          "contour": [
           {
            "colorbar": {
             "outlinewidth": 0,
             "ticks": ""
            },
            "colorscale": [
             [
              0,
              "#0d0887"
             ],
             [
              0.1111111111111111,
              "#46039f"
             ],
             [
              0.2222222222222222,
              "#7201a8"
             ],
             [
              0.3333333333333333,
              "#9c179e"
             ],
             [
              0.4444444444444444,
              "#bd3786"
             ],
             [
              0.5555555555555556,
              "#d8576b"
             ],
             [
              0.6666666666666666,
              "#ed7953"
             ],
             [
              0.7777777777777778,
              "#fb9f3a"
             ],
             [
              0.8888888888888888,
              "#fdca26"
             ],
             [
              1,
              "#f0f921"
             ]
            ],
            "type": "contour"
           }
          ],
          "contourcarpet": [
           {
            "colorbar": {
             "outlinewidth": 0,
             "ticks": ""
            },
            "type": "contourcarpet"
           }
          ],
          "heatmap": [
           {
            "colorbar": {
             "outlinewidth": 0,
             "ticks": ""
            },
            "colorscale": [
             [
              0,
              "#0d0887"
             ],
             [
              0.1111111111111111,
              "#46039f"
             ],
             [
              0.2222222222222222,
              "#7201a8"
             ],
             [
              0.3333333333333333,
              "#9c179e"
             ],
             [
              0.4444444444444444,
              "#bd3786"
             ],
             [
              0.5555555555555556,
              "#d8576b"
             ],
             [
              0.6666666666666666,
              "#ed7953"
             ],
             [
              0.7777777777777778,
              "#fb9f3a"
             ],
             [
              0.8888888888888888,
              "#fdca26"
             ],
             [
              1,
              "#f0f921"
             ]
            ],
            "type": "heatmap"
           }
          ],
          "histogram": [
           {
            "marker": {
             "pattern": {
              "fillmode": "overlay",
              "size": 10,
              "solidity": 0.2
             }
            },
            "type": "histogram"
           }
          ],
          "histogram2d": [
           {
            "colorbar": {
             "outlinewidth": 0,
             "ticks": ""
            },
            "colorscale": [
             [
              0,
              "#0d0887"
             ],
             [
              0.1111111111111111,
              "#46039f"
             ],
             [
              0.2222222222222222,
              "#7201a8"
             ],
             [
              0.3333333333333333,
              "#9c179e"
             ],
             [
              0.4444444444444444,
              "#bd3786"
             ],
             [
              0.5555555555555556,
              "#d8576b"
             ],
             [
              0.6666666666666666,
              "#ed7953"
             ],
             [
              0.7777777777777778,
              "#fb9f3a"
             ],
             [
              0.8888888888888888,
              "#fdca26"
             ],
             [
              1,
              "#f0f921"
             ]
            ],
            "type": "histogram2d"
           }
          ],
          "histogram2dcontour": [
           {
            "colorbar": {
             "outlinewidth": 0,
             "ticks": ""
            },
            "colorscale": [
             [
              0,
              "#0d0887"
             ],
             [
              0.1111111111111111,
              "#46039f"
             ],
             [
              0.2222222222222222,
              "#7201a8"
             ],
             [
              0.3333333333333333,
              "#9c179e"
             ],
             [
              0.4444444444444444,
              "#bd3786"
             ],
             [
              0.5555555555555556,
              "#d8576b"
             ],
             [
              0.6666666666666666,
              "#ed7953"
             ],
             [
              0.7777777777777778,
              "#fb9f3a"
             ],
             [
              0.8888888888888888,
              "#fdca26"
             ],
             [
              1,
              "#f0f921"
             ]
            ],
            "type": "histogram2dcontour"
           }
          ],
          "mesh3d": [
           {
            "colorbar": {
             "outlinewidth": 0,
             "ticks": ""
            },
            "type": "mesh3d"
           }
          ],
          "parcoords": [
           {
            "line": {
             "colorbar": {
              "outlinewidth": 0,
              "ticks": ""
             }
            },
            "type": "parcoords"
           }
          ],
          "pie": [
           {
            "automargin": true,
            "type": "pie"
           }
          ],
          "scatter": [
           {
            "fillpattern": {
             "fillmode": "overlay",
             "size": 10,
             "solidity": 0.2
            },
            "type": "scatter"
           }
          ],
          "scatter3d": [
           {
            "line": {
             "colorbar": {
              "outlinewidth": 0,
              "ticks": ""
             }
            },
            "marker": {
             "colorbar": {
              "outlinewidth": 0,
              "ticks": ""
             }
            },
            "type": "scatter3d"
           }
          ],
          "scattercarpet": [
           {
            "marker": {
             "colorbar": {
              "outlinewidth": 0,
              "ticks": ""
             }
            },
            "type": "scattercarpet"
           }
          ],
          "scattergeo": [
           {
            "marker": {
             "colorbar": {
              "outlinewidth": 0,
              "ticks": ""
             }
            },
            "type": "scattergeo"
           }
          ],
          "scattergl": [
           {
            "marker": {
             "colorbar": {
              "outlinewidth": 0,
              "ticks": ""
             }
            },
            "type": "scattergl"
           }
          ],
          "scattermap": [
           {
            "marker": {
             "colorbar": {
              "outlinewidth": 0,
              "ticks": ""
             }
            },
            "type": "scattermap"
           }
          ],
          "scattermapbox": [
           {
            "marker": {
             "colorbar": {
              "outlinewidth": 0,
              "ticks": ""
             }
            },
            "type": "scattermapbox"
           }
          ],
          "scatterpolar": [
           {
            "marker": {
             "colorbar": {
              "outlinewidth": 0,
              "ticks": ""
             }
            },
            "type": "scatterpolar"
           }
          ],
          "scatterpolargl": [
           {
            "marker": {
             "colorbar": {
              "outlinewidth": 0,
              "ticks": ""
             }
            },
            "type": "scatterpolargl"
           }
          ],
          "scatterternary": [
           {
            "marker": {
             "colorbar": {
              "outlinewidth": 0,
              "ticks": ""
             }
            },
            "type": "scatterternary"
           }
          ],
          "surface": [
           {
            "colorbar": {
             "outlinewidth": 0,
             "ticks": ""
            },
            "colorscale": [
             [
              0,
              "#0d0887"
             ],
             [
              0.1111111111111111,
              "#46039f"
             ],
             [
              0.2222222222222222,
              "#7201a8"
             ],
             [
              0.3333333333333333,
              "#9c179e"
             ],
             [
              0.4444444444444444,
              "#bd3786"
             ],
             [
              0.5555555555555556,
              "#d8576b"
             ],
             [
              0.6666666666666666,
              "#ed7953"
             ],
             [
              0.7777777777777778,
              "#fb9f3a"
             ],
             [
              0.8888888888888888,
              "#fdca26"
             ],
             [
              1,
              "#f0f921"
             ]
            ],
            "type": "surface"
           }
          ],
          "table": [
           {
            "cells": {
             "fill": {
              "color": "#EBF0F8"
             },
             "line": {
              "color": "white"
             }
            },
            "header": {
             "fill": {
              "color": "#C8D4E3"
             },
             "line": {
              "color": "white"
             }
            },
            "type": "table"
           }
          ]
         },
         "layout": {
          "annotationdefaults": {
           "arrowcolor": "#2a3f5f",
           "arrowhead": 0,
           "arrowwidth": 1
          },
          "autotypenumbers": "strict",
          "coloraxis": {
           "colorbar": {
            "outlinewidth": 0,
            "ticks": ""
           }
          },
          "colorscale": {
           "diverging": [
            [
             0,
             "#8e0152"
            ],
            [
             0.1,
             "#c51b7d"
            ],
            [
             0.2,
             "#de77ae"
            ],
            [
             0.3,
             "#f1b6da"
            ],
            [
             0.4,
             "#fde0ef"
            ],
            [
             0.5,
             "#f7f7f7"
            ],
            [
             0.6,
             "#e6f5d0"
            ],
            [
             0.7,
             "#b8e186"
            ],
            [
             0.8,
             "#7fbc41"
            ],
            [
             0.9,
             "#4d9221"
            ],
            [
             1,
             "#276419"
            ]
           ],
           "sequential": [
            [
             0,
             "#0d0887"
            ],
            [
             0.1111111111111111,
             "#46039f"
            ],
            [
             0.2222222222222222,
             "#7201a8"
            ],
            [
             0.3333333333333333,
             "#9c179e"
            ],
            [
             0.4444444444444444,
             "#bd3786"
            ],
            [
             0.5555555555555556,
             "#d8576b"
            ],
            [
             0.6666666666666666,
             "#ed7953"
            ],
            [
             0.7777777777777778,
             "#fb9f3a"
            ],
            [
             0.8888888888888888,
             "#fdca26"
            ],
            [
             1,
             "#f0f921"
            ]
           ],
           "sequentialminus": [
            [
             0,
             "#0d0887"
            ],
            [
             0.1111111111111111,
             "#46039f"
            ],
            [
             0.2222222222222222,
             "#7201a8"
            ],
            [
             0.3333333333333333,
             "#9c179e"
            ],
            [
             0.4444444444444444,
             "#bd3786"
            ],
            [
             0.5555555555555556,
             "#d8576b"
            ],
            [
             0.6666666666666666,
             "#ed7953"
            ],
            [
             0.7777777777777778,
             "#fb9f3a"
            ],
            [
             0.8888888888888888,
             "#fdca26"
            ],
            [
             1,
             "#f0f921"
            ]
           ]
          },
          "colorway": [
           "#636efa",
           "#EF553B",
           "#00cc96",
           "#ab63fa",
           "#FFA15A",
           "#19d3f3",
           "#FF6692",
           "#B6E880",
           "#FF97FF",
           "#FECB52"
          ],
          "font": {
           "color": "#2a3f5f"
          },
          "geo": {
           "bgcolor": "white",
           "lakecolor": "white",
           "landcolor": "white",
           "showlakes": true,
           "showland": true,
           "subunitcolor": "#C8D4E3"
          },
          "hoverlabel": {
           "align": "left"
          },
          "hovermode": "closest",
          "mapbox": {
           "style": "light"
          },
          "paper_bgcolor": "white",
          "plot_bgcolor": "white",
          "polar": {
           "angularaxis": {
            "gridcolor": "#EBF0F8",
            "linecolor": "#EBF0F8",
            "ticks": ""
           },
           "bgcolor": "white",
           "radialaxis": {
            "gridcolor": "#EBF0F8",
            "linecolor": "#EBF0F8",
            "ticks": ""
           }
          },
          "scene": {
           "xaxis": {
            "backgroundcolor": "white",
            "gridcolor": "#DFE8F3",
            "gridwidth": 2,
            "linecolor": "#EBF0F8",
            "showbackground": true,
            "ticks": "",
            "zerolinecolor": "#EBF0F8"
           },
           "yaxis": {
            "backgroundcolor": "white",
            "gridcolor": "#DFE8F3",
            "gridwidth": 2,
            "linecolor": "#EBF0F8",
            "showbackground": true,
            "ticks": "",
            "zerolinecolor": "#EBF0F8"
           },
           "zaxis": {
            "backgroundcolor": "white",
            "gridcolor": "#DFE8F3",
            "gridwidth": 2,
            "linecolor": "#EBF0F8",
            "showbackground": true,
            "ticks": "",
            "zerolinecolor": "#EBF0F8"
           }
          },
          "shapedefaults": {
           "line": {
            "color": "#2a3f5f"
           }
          },
          "ternary": {
           "aaxis": {
            "gridcolor": "#DFE8F3",
            "linecolor": "#A2B1C6",
            "ticks": ""
           },
           "baxis": {
            "gridcolor": "#DFE8F3",
            "linecolor": "#A2B1C6",
            "ticks": ""
           },
           "bgcolor": "white",
           "caxis": {
            "gridcolor": "#DFE8F3",
            "linecolor": "#A2B1C6",
            "ticks": ""
           }
          },
          "title": {
           "x": 0.05
          },
          "xaxis": {
           "automargin": true,
           "gridcolor": "#EBF0F8",
           "linecolor": "#EBF0F8",
           "ticks": "",
           "title": {
            "standoff": 15
           },
           "zerolinecolor": "#EBF0F8",
           "zerolinewidth": 2
          },
          "yaxis": {
           "automargin": true,
           "gridcolor": "#EBF0F8",
           "linecolor": "#EBF0F8",
           "ticks": "",
           "title": {
            "standoff": 15
           },
           "zerolinecolor": "#EBF0F8",
           "zerolinewidth": 2
          }
         }
        },
        "title": {
         "text": "Sentiment Spikes Over Time"
        },
        "width": 900,
        "xaxis": {
         "title": {
          "text": "Date"
         }
        },
        "yaxis": {
         "title": {
          "text": "Sentiment Score"
         }
        }
       }
      }
     },
     "metadata": {},
     "output_type": "display_data"
    }
   ],
   "source": [
    "fig = plot_sentiment_spikes(df_price)"
   ]
  },
  {
   "cell_type": "code",
   "execution_count": null,
   "id": "de61abdd",
   "metadata": {},
   "outputs": [
    {
     "ename": "NameError",
     "evalue": "name 'ticker' is not defined",
     "output_type": "error",
     "traceback": [
      "\u001b[1;31m---------------------------------------------------------------------------\u001b[0m",
      "\u001b[1;31mNameError\u001b[0m                                 Traceback (most recent call last)",
      "Cell \u001b[1;32mIn[1], line 3\u001b[0m\n\u001b[0;32m      1\u001b[0m \u001b[38;5;28;01mfrom\u001b[39;00m \u001b[38;5;21;01mdata_processing\u001b[39;00m \u001b[38;5;28;01mimport\u001b[39;00m merge_tables\n\u001b[1;32m----> 3\u001b[0m table \u001b[38;5;241m=\u001b[39m merge_tables(\u001b[43mticker\u001b[49m, start_date, end_date)\n\u001b[0;32m      5\u001b[0m table\n",
      "\u001b[1;31mNameError\u001b[0m: name 'ticker' is not defined"
     ]
    }
   ],
   "source": [
    "from data_processing import merge_tables\n",
    "ticker = \"AAPL\"\n",
    "start_date = \"2025-05-12\"\n",
    "end_date = \"2025-06-11\"\n",
    "\n",
    "table = merge_tables(ticker, start_date, end_date)\n",
    "\n",
    "table"
   ]
  },
  {
   "cell_type": "code",
   "execution_count": 2,
   "id": "985e6158",
   "metadata": {},
   "outputs": [
    {
     "name": "stdout",
     "output_type": "stream",
     "text": [
      "\u001b[36m┌─\u001b[0m\u001b[36m─────────────────────────\u001b[0m\u001b[36m Crew Execution Started \u001b[0m\u001b[36m──────────────────────────\u001b[0m\u001b[36m─┐\u001b[0m\n",
      "\u001b[36m│\u001b[0m                                                                             \u001b[36m│\u001b[0m\n",
      "\u001b[36m│\u001b[0m  \u001b[1;36mCrew Execution Started\u001b[0m                                                     \u001b[36m│\u001b[0m\n",
      "\u001b[36m│\u001b[0m  \u001b[37mName: \u001b[0m\u001b[36mcrew\u001b[0m                                                                 \u001b[36m│\u001b[0m\n",
      "\u001b[36m│\u001b[0m  \u001b[37mID: \u001b[0m\u001b[36mf4a354bf-8d28-4e79-af64-65ba4f52e275\u001b[0m                                   \u001b[36m│\u001b[0m\n",
      "\u001b[36m│\u001b[0m                                                                             \u001b[36m│\u001b[0m\n",
      "\u001b[36m│\u001b[0m                                                                             \u001b[36m│\u001b[0m\n",
      "\u001b[36m└─────────────────────────────────────────────────────────────────────────────┘\u001b[0m\n",
      "\n",
      "\u001b[1;36m🚀 Crew: \u001b[0m\u001b[1;36mcrew\u001b[0m\n",
      "└── \u001b[1;33m📋 Task: ce0cc65f-2dac-4df6-878b-907df75c282f\u001b[0m\n",
      "    \u001b[37m   Status: \u001b[0m\u001b[2;33mExecuting Task...\u001b[0m\n",
      "\n",
      "\u001b[1;36m🚀 Crew: \u001b[0m\u001b[1;36mcrew\u001b[0m\n",
      "└── \u001b[1;33m📋 Task: ce0cc65f-2dac-4df6-878b-907df75c282f\u001b[0m\n",
      "    \u001b[37m   Status: \u001b[0m\u001b[2;33mExecuting Task...\u001b[0m\n",
      "    └── \u001b[1;32m🤖 Agent: \u001b[0m\u001b[32mGenerating stock recommendation for user on the basis of the \u001b[0m\n",
      "        \u001b[32mstock anaysis.\u001b[0m\n",
      "        \u001b[37m    Status: \u001b[0m\u001b[1;32mIn Progress\u001b[0m\n",
      "\n",
      "\u001b[1m\u001b[95m# Agent:\u001b[00m \u001b[1m\u001b[92mGenerating stock recommendation for user on the basis of the stock anaysis.\u001b[00m\n",
      "\u001b[95m## Task:\u001b[00m \u001b[92mGenerate a stock recommendation based on the data provided. \n",
      " Price Data:       date      Close       High        Low       Open   Volume  pct_change stock_code  sentiment_score\n",
      "2025-05-27 200.210007 200.740005 197.429993 198.300003 56288500    0.025298       AAPL        -0.125458\n",
      "2025-05-28 200.419998 202.729996 199.899994 200.589996 45339700    0.001049       AAPL        -0.085733\n",
      "2025-05-29 199.949997 203.809998 198.509995 203.580002 51396800   -0.002345       AAPL         0.144490\n",
      "2025-05-30 200.850006 201.960007 196.779999 199.369995 70819900    0.004501       AAPL         0.055029\n",
      "2025-06-02 201.699997 202.130005 200.119995 200.279999 35423300    0.004232       AAPL         0.240557\n",
      "2025-06-03 203.270004 203.770004 200.960007 201.350006 46381600    0.007784       AAPL        -0.038633\n",
      "2025-06-04 202.820007 206.240005 202.100006 202.910004 43604000   -0.002214       AAPL        -0.194560\n",
      "2025-06-05 200.630005 204.750000 200.149994 203.500000 55126100   -0.010798       AAPL        -0.065238\n",
      "2025-06-06 203.919998 205.699997 202.050003 203.000000 46607700    0.016398       AAPL         0.177380\n",
      "2025-06-09 201.449997 206.000000 200.020004 204.389999 72862600   -0.012113       AAPL         0.022822\n",
      "2025-06-10 202.669998 204.350006 200.570007 200.600006 54672600    0.006056       AAPL        -0.003657\n",
      "2025-05-12 210.789993 211.270004 206.750000 210.970001 63775800         NaN       AAPL         0.440400\n",
      "2025-05-13 212.929993 213.399994 209.000000 210.429993 51909300    0.010152       AAPL              NaN\n",
      "2025-05-14 212.330002 213.940002 210.580002 212.429993 49325800   -0.002818       AAPL              NaN\n",
      "2025-05-15 211.449997 212.960007 209.539993 210.949997 45029500   -0.004145       AAPL         0.000000\n",
      "2025-05-16 211.259995 212.570007 209.770004 212.360001 54737900   -0.000899       AAPL              NaN\n",
      "2025-05-19 208.779999 209.479996 204.259995 207.910004 46140500   -0.011739       AAPL              NaN\n",
      "2025-05-20 206.860001 208.470001 205.029999 207.669998 42496600   -0.009196       AAPL              NaN\n",
      "2025-05-21 202.089996 207.039993 200.710007 205.169998 59211800   -0.023059       AAPL              NaN\n",
      "2025-05-22 201.360001 202.750000 199.699997 200.710007 46742400   -0.003612       AAPL         0.133967\n",
      "2025-05-23 195.270004 197.699997 193.460007 193.669998 78432900   -0.030244       AAPL        -0.049027 \n",
      " Top 10 articles:  row_id                                                                                                     headline                                                                                                 description      published_date                                                                                                                                                                                                                                                                                                                                                                                                                                                                                                                                                                 url                            link              title       date stock_code                                                                                                                   unique_key  sentiment_score\n",
      "    112                       Apple Just Got a Rare Downgrade. Should You Ditch AAPL Stock Now? - The Globe and Mail                       Apple Just Got a Rare Downgrade. Should You Ditch AAPL Stock Now?  The Globe and Mail 2025-06-07 07:00:00                                                                                                                                                                      https://news.google.com/rss/articles/CBMi5gFBVV95cUxNdm5CWFlmSkozZ1ozM3N0TFJHS0JDcTVYZmpwQWp1SDdkQ3dhYk5uRWZnZzF0R05rVTdYWmtpQ2ZQN0VKQjdzZ3M1UVc2MEc0U0NFV2NST2JmeXFrdl9hY3J3TGZWbVN6MFBRYUhHUXZaZFBOME8xWG1BUzlCNWQtNVFtd3dsLUVCZm94bHhoY1FkUVBLSVBwcDJPd3VmbWVXS0pCWlpzLVM3dkVtU0YtME9RRTBUTTB1MzlnV3czQU1GLXVBZFhqVkZjUHYtR212WUVLZHJ0UndYZE1pbVMyWnBMMXVuZw?oc=5&hl=en-IN&gl=IN&ceid=IN:en https://www.theglobeandmail.com The Globe and Mail 2025-06-07       AAPL                       Apple Just Got a Rare Downgrade. Should You Ditch AAPL Stock Now? - The Globe and Mail_2025-06-07_AAPL           0.0000\n",
      "    113 Apple's Biggest Design Overhaul Ever: New Liquid Glass Transform iOS, macOS, and All Platforms - Stock Titan Apple's Biggest Design Overhaul Ever: New Liquid Glass Transform iOS, macOS, and All Platforms  Stock Titan 2025-06-09 07:00:00                                                                                                                                                                                                                                                 https://news.google.com/rss/articles/CBMirgFBVV95cUxNMU9xeG9tUEFCMXBTZW9yLTBNZjFaVTVoUzlRY2RRaVZZSFpDSHNxbGFkMXo5YjBtYWR4S21tWmVJaUt4TEpxTWQxRzFZYU1MbnAtRHZtUElULXlvekF5dUNIOFlhc2l1V0w3ZVduc0FwRVB3bm5oMWZQbHBQVmU5Zzl5RWpaX1BlVTNBR2ZmcGRtWDN4NkhBS3FKRG1oMGtjdTBYLWsweEZoYVlPdHc?oc=5&hl=en-IN&gl=IN&ceid=IN:en      https://www.stocktitan.net        Stock Titan 2025-06-09       AAPL Apple's Biggest Design Overhaul Ever: New Liquid Glass Transform iOS, macOS, and All Platforms - Stock Titan_2025-06-09_AAPL           0.0000\n",
      "    114                Apple is the Worst-Performing Mag 7 Stock of 2025. Here’s How to Trade it With Options. - MSN                Apple is the Worst-Performing Mag 7 Stock of 2025. Here’s How to Trade it With Options.  MSN 2025-05-29 13:12:11                                                                                                                                              https://news.google.com/rss/articles/CBMi-AFBVV95cUxOX0V0dkZtbnJJQm0xRlRGb25xUWppLWJ4MHg3TnlHQzZrR1ltRGx1NGZoMWRGN2dOTmh0TG1LNk1rN1NBMktqc2ExU3R5VGRPWDFzY3VRTU5sQ1E0QnE3X1RDNURhc3ZVckJKTHBCYXV2Mno0NnBIZHZPRGs5TEg2NzJrSXFMSWJnbm5TUzd3NFdDUkFWeHRnTzdSYnJRaDk4UUdfOFo2SUpaOHhOZ2xBZ3BYTUJHUGlCVVZ4ajU0RnIwNFNHbmJ0U25oRUUyTnVtcDR6dnluWFQ0Um91VDkyVS1sM0o3TUtLb3M5Nm1Qc1ZHRngtTzJ2UA?oc=5&hl=en-IN&gl=IN&ceid=IN:en             https://www.msn.com                MSN 2025-05-29       AAPL                Apple is the Worst-Performing Mag 7 Stock of 2025. Here’s How to Trade it With Options. - MSN_2025-05-29_AAPL           0.0000\n",
      "    115       Trump Targets Apple iPhones Again, But This Tariff Panic Won't Stick - Buy Call (AAPL) - Seeking Alpha       Trump Targets Apple iPhones Again, But This Tariff Panic Won't Stick - Buy Call (AAPL)  Seeking Alpha 2025-05-27 07:00:00                                                                                                                                                                                                                                     https://news.google.com/rss/articles/CBMitwFBVV95cUxPSzRSY1JwZ2FmOHVZcjJzV3hhTnAySGdDTGdBeHRiVXB0N3VFdHhkV0VkcnRaT1ItSGNwam9sZnBlLWZxdW5ST3pqYWFKclNlZDBQbDc5dEF1R0ZyNjBqVzZQUXUxOUNNUnRfNGRlbmR6UW9qR1JjWjBjRl9ZTS1PQlFfR2ppUHdOWUNEeWJrbGpJYVBRdHQ3MUZkX1BUZXZpTWc2NXl3bVZGT3drSkNwMjVrLTQ3aVk?oc=5&hl=en-IN&gl=IN&ceid=IN:en        https://seekingalpha.com      Seeking Alpha 2025-05-27       AAPL       Trump Targets Apple iPhones Again, But This Tariff Panic Won't Stick - Buy Call (AAPL) - Seeking Alpha_2025-05-27_AAPL          -0.6652\n",
      "    116                                          Apple (AAPL) Filed Its Appeal Against the EU’s DMA Order - TipRanks                                          Apple (AAPL) Filed Its Appeal Against the EU’s DMA Order  TipRanks 2025-06-02 07:00:00                                                                                                                                                                                                                                                                                                https://news.google.com/rss/articles/CBMiiwFBVV95cUxNNUk5d3JCN3hIY1ZWbERsdGhQQlNGSjNyMGZNcm51cENJZDV5OFB3Um5ibjU4YUtEdTZmeFpJMVFiaDAzN216SUlpcVRxRlQ5bHJPVnJnZzhhVHdHM3l6RkozY2pSb0piUVMzaXdCalVqTW1KYThTdWdSeUFJTGt3NHRyYnBZVG9wSVZj?oc=5&hl=en-IN&gl=IN&ceid=IN:en        https://www.tipranks.com           TipRanks 2025-06-02       AAPL                                          Apple (AAPL) Filed Its Appeal Against the EU’s DMA Order - TipRanks_2025-06-02_AAPL           0.0000\n",
      "    101                       UBS Reiterates Neutral on Apple (AAPL) as Tariff Talk Sparks iPhone Buying Surge - MSN                       UBS Reiterates Neutral on Apple (AAPL) as Tariff Talk Sparks iPhone Buying Surge  MSN 2025-06-05 21:25:39 https://news.google.com/rss/articles/CBMi4gJBVV95cUxPd1loNjY5STZUOEZYNmdmd3VNZlJma2l5dUl4SGpLM2ZOZ0N5QXRlZW5FUVcxQ3pLdVU0cHhNRkZ4OUZsVWxZMGRRSVZBbVozUC0yNC1obW5BV3hMWW5BNW9wUkliSEFBOWFRZHF2RDA1MHZRb1QtbUFDRUp2ZkxPRGd5ZlNGdG1BQUwzQ0JDQVdHSkpTSUsyRTI5Y216ZlhmX2VrSmc4SGRyZ3VRQUhBb0dBa2I5YTNHSlZQMGJDd1VIS19LNzI0ZXJDMjVlRXkxdXhJZHBUOElrMzRpdEJaNFRsRHRreld3WjlMQi1vTk5fRGZITE42aHplNmNCNWpDYUhneDJrUVpCcVlwU2s4LVRwMzVEWGhoaTlYamVJMVIyNWRLWk1QS3psZjg5VnEyRlZNb3NxRkxFN2NhdXZfbWZsTU05WEhBYUFnTS0yZEZFR29HcEgzMlZVN0l5ZnctS2c?oc=5&hl=en-IN&gl=IN&ceid=IN:en              http://www.msn.com                MSN 2025-06-05       AAPL                       UBS Reiterates Neutral on Apple (AAPL) as Tariff Talk Sparks iPhone Buying Surge - MSN_2025-06-05_AAPL           0.0000\n",
      "    102                    Investors Heavily Search Apple Inc. (AAPL): Here is What You Need to Know - Yahoo Finance                    Investors Heavily Search Apple Inc. (AAPL): Here is What You Need to Know  Yahoo Finance 2025-06-09 07:00:00                                                                                                                                                                                                                                                                                                     https://news.google.com/rss/articles/CBMihwFBVV95cUxNWkRRbGtzVzJpYVFrMDZVVW1CUl9HWWQtN2VQLS1JVGRzdzJOdUNLb2ZxRzAxYVZ5ejNhVFlZSUp0dmRLZlhpMy1SXy1yR0hXWGpuY2hTbUZEYzN4TjRfamp6YTVINnZQMzUzYTlNRzdwcXpqQmJTOFNGNEJOdHhLSU5YTE1CeG8?oc=5&hl=en-IN&gl=IN&ceid=IN:en       https://finance.yahoo.com      Yahoo Finance 2025-06-09       AAPL                    Investors Heavily Search Apple Inc. (AAPL): Here is What You Need to Know - Yahoo Finance_2025-06-09_AAPL           0.0000\n",
      "    103                                              Apple Stock (AAPL) Flattens on Global Shipment Fears - TipRanks                                              Apple Stock (AAPL) Flattens on Global Shipment Fears  TipRanks 2025-06-04 07:00:00                                                                                                                                                                                                                                                                                                     https://news.google.com/rss/articles/CBMihwFBVV95cUxQdjcwM2tXdmwxSnF4SzAzb2xtY1FHRDZnVGdBMlljNHc1M1ExSkpwTllEeVRkUFJ4cUMwMk9QU0g5MjFVWFQ0dlpLcDJDY2N4WHdZZDZJZEZsc2FzT0Q1X1JfaFBTZFlpQ1JwbzdzclRYR0ZJeW45UXVBQmpOZlk1SU03NWJvMVk?oc=5&hl=en-IN&gl=IN&ceid=IN:en        https://www.tipranks.com           TipRanks 2025-06-04       AAPL                                              Apple Stock (AAPL) Flattens on Global Shipment Fears - TipRanks_2025-06-04_AAPL          -0.4215\n",
      "    104                                                     Is Apple’s Stock (AAPL) Set For Revival? - See It Market                                                     Is Apple’s Stock (AAPL) Set For Revival?  See It Market 2025-06-10 14:35:03                                                                                                                                                                                                                                                                                                                                 https://news.google.com/rss/articles/CBMic0FVX3lxTE5PQlYyVXRSQVVmQkRGSDhON0s1bGgzTkpzTHV5Wi1oSDY5N3F4YlRsdzV0QWxYdzhHLXJmeHcwc1FLTWdwNFZCaGpBYlh2bWRpb3JCTGhxRGtNUVNUclNzUkFWczhpSW1WMlU5c1QzYXRZQ1U?oc=5&hl=en-IN&gl=IN&ceid=IN:en     https://www.seeitmarket.com      See It Market 2025-06-10       AAPL                                                     Is Apple’s Stock (AAPL) Set For Revival? - See It Market_2025-06-10_AAPL           0.0000\n",
      "    105                             Apple expands Self Service Repair program to iPads (AAPL:NASDAQ) - Seeking Alpha                             Apple expands Self Service Repair program to iPads (AAPL:NASDAQ)  Seeking Alpha 2025-05-28 07:00:00                                                                                                                                                                                                                                                                                      https://news.google.com/rss/articles/CBMikgFBVV95cUxOTTdvNk9GYWpLVGtWS1ZmQmlGVlZQVURjWlVZQ29GbF8tQ2o0cDZfbE9CZnE2c3BNRFBvNy16NmxDY1F3UW1ERGp3NXZ4aE1JM0xIV1l2RkxnRnFqT1lLUmhTT3lqNUpORVlqaUxVZXlEX2lVaEdqcXo1SFNoQ18zbm9ka3VBVFNmNnBQTUtZWG1UQQ?oc=5&hl=en-IN&gl=IN&ceid=IN:en        https://seekingalpha.com      Seeking Alpha 2025-05-28       AAPL                             Apple expands Self Service Repair program to iPads (AAPL:NASDAQ) - Seeking Alpha_2025-05-28_AAPL           0.1027\u001b[00m\n",
      "\u001b[1;36m🚀 Crew: \u001b[0m\u001b[1;36mcrew\u001b[0m\n",
      "└── \u001b[1;33m📋 Task: ce0cc65f-2dac-4df6-878b-907df75c282f\u001b[0m\n",
      "    \u001b[37m   Status: \u001b[0m\u001b[2;33mExecuting Task...\u001b[0m\n",
      "    └── \u001b[1;32m🤖 Agent: \u001b[0m\u001b[32mGenerating stock recommendation for user on the basis of the \u001b[0m\n",
      "        \u001b[32mstock anaysis.\u001b[0m\n",
      "        \u001b[37m    Status: \u001b[0m\u001b[1;32mIn Progress\u001b[0m\n",
      "        └── \u001b[1;34m🧠 \u001b[0m\u001b[34mThinking...\u001b[0m\n",
      "\n"
     ]
    },
    {
     "name": "stderr",
     "output_type": "stream",
     "text": [
      "\u001b[92m21:46:22 - LiteLLM:INFO\u001b[0m: utils.py:2896 - \n",
      "LiteLLM completion() model= gpt-4o-mini; provider = openai\n",
      "06/23/2025 09:46:22 PM - \n",
      "LiteLLM completion() model= gpt-4o-mini; provider = openai\n",
      "06/23/2025 09:46:30 PM - HTTP Request: POST https://api.openai.com/v1/chat/completions \"HTTP/1.1 200 OK\"\n",
      "\u001b[92m21:46:30 - LiteLLM:INFO\u001b[0m: utils.py:1084 - Wrapper: Completed Call, calling success_handler\n",
      "06/23/2025 09:46:30 PM - Wrapper: Completed Call, calling success_handler\n"
     ]
    },
    {
     "name": "stdout",
     "output_type": "stream",
     "text": [
      "\u001b[1;36m🚀 Crew: \u001b[0m\u001b[1;36mcrew\u001b[0m\n",
      "└── \u001b[1;33m📋 Task: ce0cc65f-2dac-4df6-878b-907df75c282f\u001b[0m\n",
      "    \u001b[37m   Status: \u001b[0m\u001b[2;33mExecuting Task...\u001b[0m\n",
      "    └── \u001b[1;32m🤖 Agent: \u001b[0m\u001b[32mGenerating stock recommendation for user on the basis of the \u001b[0m\n",
      "        \u001b[32mstock anaysis.\u001b[0m\n",
      "        \u001b[37m    Status: \u001b[0m\u001b[1;32mIn Progress\u001b[0m\n",
      "\n",
      "\n",
      "\n",
      "\u001b[1m\u001b[95m# Agent:\u001b[00m \u001b[1m\u001b[92mGenerating stock recommendation for user on the basis of the stock anaysis.\u001b[00m\n",
      "\u001b[95m## Final Answer:\u001b[00m \u001b[92m\n",
      "Based on the recent price data for Apple Inc. (AAPL), it appears that the stock has exhibited some volatility over the past few weeks. Analyzing the closing prices, the stock saw a downward trend from 210.79 on May 12 to around 200.63 on June 5, reflecting a decline of roughly 4% in that period. The volume of shares traded also shows significant activity, indicating investor interest but also uncertainty about the stock's direction.\n",
      "\n",
      "Moreover, the sentiment score from the articles indicates mixed feelings. Notably, there was a rare downgrade noted by \"The Globe and Mail,\" which could be a red flag for current and prospective investors. On the other hand, the recent article about Apple's significant design overhaul suggests positive potential for innovation, which may bode well for the stock's future performance.\n",
      "\n",
      "Given this context of mixed sentiments and recent performance, it is advisable to adopt a cautious approach. \n",
      "\n",
      "**Recommendation:**\n",
      "- Given the current trend and mixed sentiment, hold your position in AAPL for now. Monitor market news and trends closely. If you already hold AAPL shares, consider seeing if the stock can stabilize or show signs of recovery before making additional investments. If you're looking to enter a position, it may be prudent to wait for clearer signals of recovery or a more favorable sentiment score. \n",
      "\n",
      "Always conduct thorough research and consider consulting with a financial advisor to ensure alignment with your investment strategy.\u001b[00m\n",
      "\n",
      "\n",
      "\u001b[1;36m🚀 Crew: \u001b[0m\u001b[1;36mcrew\u001b[0m\n",
      "└── \u001b[1;33m📋 Task: ce0cc65f-2dac-4df6-878b-907df75c282f\u001b[0m\n",
      "    \u001b[37m   Status: \u001b[0m\u001b[2;33mExecuting Task...\u001b[0m\n",
      "    └── \u001b[1;32m🤖 Agent: \u001b[0m\u001b[32mGenerating stock recommendation for user on the basis of the \u001b[0m\n",
      "        \u001b[32mstock anaysis.\u001b[0m\n",
      "        \u001b[37m    Status: \u001b[0m\u001b[1;32m✅ Completed\u001b[0m\n",
      "\n",
      "\u001b[1;36m🚀 Crew: \u001b[0m\u001b[1;36mcrew\u001b[0m\n",
      "└── \u001b[1;32m📋 Task: ce0cc65f-2dac-4df6-878b-907df75c282f\u001b[0m\n",
      "    \u001b[37m   Assigned to: \u001b[0m\u001b[32mGenerating stock recommendation for user on the basis of \u001b[0m\n",
      "    \u001b[32mthe stock anaysis.\u001b[0m\n",
      "    \u001b[37m   Status: \u001b[0m\u001b[1;32m✅ Completed\u001b[0m\n",
      "    └── \u001b[1;32m🤖 Agent: \u001b[0m\u001b[32mGenerating stock recommendation for user on the basis of the \u001b[0m\n",
      "        \u001b[32mstock anaysis.\u001b[0m\n",
      "        \u001b[37m    Status: \u001b[0m\u001b[1;32m✅ Completed\u001b[0m\n",
      "\u001b[32m┌─\u001b[0m\u001b[32m─────────────────────────────\u001b[0m\u001b[32m Task Completion \u001b[0m\u001b[32m─────────────────────────────\u001b[0m\u001b[32m─┐\u001b[0m\n",
      "\u001b[32m│\u001b[0m                                                                             \u001b[32m│\u001b[0m\n",
      "\u001b[32m│\u001b[0m  \u001b[1;32mTask Completed\u001b[0m                                                             \u001b[32m│\u001b[0m\n",
      "\u001b[32m│\u001b[0m  \u001b[37mName: \u001b[0m\u001b[32mce0cc65f-2dac-4df6-878b-907df75c282f\u001b[0m                                 \u001b[32m│\u001b[0m\n",
      "\u001b[32m│\u001b[0m  \u001b[37mAgent: \u001b[0m\u001b[32mGenerating stock recommendation for user on the basis of the stock\u001b[0m  \u001b[32m│\u001b[0m\n",
      "\u001b[32m│\u001b[0m  \u001b[32manaysis.\u001b[0m                                                                   \u001b[32m│\u001b[0m\n",
      "\u001b[32m│\u001b[0m                                                                             \u001b[32m│\u001b[0m\n",
      "\u001b[32m│\u001b[0m                                                                             \u001b[32m│\u001b[0m\n",
      "\u001b[32m└─────────────────────────────────────────────────────────────────────────────┘\u001b[0m\n",
      "\n",
      "\u001b[32m┌─\u001b[0m\u001b[32m─────────────────────────────\u001b[0m\u001b[32m Crew Completion \u001b[0m\u001b[32m─────────────────────────────\u001b[0m\u001b[32m─┐\u001b[0m\n",
      "\u001b[32m│\u001b[0m                                                                             \u001b[32m│\u001b[0m\n",
      "\u001b[32m│\u001b[0m  \u001b[1;32mCrew Execution Completed\u001b[0m                                                   \u001b[32m│\u001b[0m\n",
      "\u001b[32m│\u001b[0m  \u001b[37mName: \u001b[0m\u001b[32mcrew\u001b[0m                                                                 \u001b[32m│\u001b[0m\n",
      "\u001b[32m│\u001b[0m  \u001b[37mID: \u001b[0m\u001b[32mf4a354bf-8d28-4e79-af64-65ba4f52e275\u001b[0m                                   \u001b[32m│\u001b[0m\n",
      "\u001b[32m│\u001b[0m                                                                             \u001b[32m│\u001b[0m\n",
      "\u001b[32m│\u001b[0m                                                                             \u001b[32m│\u001b[0m\n",
      "\u001b[32m└─────────────────────────────────────────────────────────────────────────────┘\u001b[0m\n",
      "\n"
     ]
    }
   ],
   "source": [
    "from recommendation import recommendation_generator\n",
    "\n",
    "result = recommendation_generator(df_price, df_articles)"
   ]
  }
 ],
 "metadata": {
  "kernelspec": {
   "display_name": "base",
   "language": "python",
   "name": "python3"
  },
  "language_info": {
   "codemirror_mode": {
    "name": "ipython",
    "version": 3
   },
   "file_extension": ".py",
   "mimetype": "text/x-python",
   "name": "python",
   "nbconvert_exporter": "python",
   "pygments_lexer": "ipython3",
   "version": "3.12.9"
  }
 },
 "nbformat": 4,
 "nbformat_minor": 5
}
